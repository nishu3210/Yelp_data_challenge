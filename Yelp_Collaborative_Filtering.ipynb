{
  "nbformat": 4,
  "nbformat_minor": 0,
  "metadata": {
    "colab": {
      "name": "Yelp - Collaborative Filtering.ipynb",
      "provenance": [],
      "collapsed_sections": [],
      "machine_shape": "hm",
      "include_colab_link": true
    },
    "kernelspec": {
      "name": "python3",
      "display_name": "Python 3"
    },
    "accelerator": "GPU"
  },
  "cells": [
    {
      "cell_type": "markdown",
      "metadata": {
        "id": "view-in-github",
        "colab_type": "text"
      },
      "source": [
        "<a href=\"https://colab.research.google.com/github/nishu3210/Yelp_data_challenge/blob/master/Yelp_Collaborative_Filtering.ipynb\" target=\"_parent\"><img src=\"https://colab.research.google.com/assets/colab-badge.svg\" alt=\"Open In Colab\"/></a>"
      ]
    },
    {
      "cell_type": "markdown",
      "metadata": {
        "id": "n2G17LNcwYqm",
        "colab_type": "text"
      },
      "source": [
        "# Yelp Data Challenge\n",
        "Tasks: \\\\\n",
        "1. Recommendation using collaborative and content based filtering techniques. Also, use query generation and search techniques. \\\\\n",
        "2. Aspect Based Sentiment Analysis of user reviews (Proposed)"
      ]
    },
    {
      "cell_type": "markdown",
      "metadata": {
        "id": "YCgW4MASwP0c",
        "colab_type": "text"
      },
      "source": [
        "Mount Google Drive and load Yelp JSON data using Pandas"
      ]
    },
    {
      "cell_type": "code",
      "metadata": {
        "colab_type": "code",
        "outputId": "f67a38b4-2537-41eb-ca90-2637e1e64504",
        "id": "PYixXIHvhTet",
        "colab": {
          "base_uri": "https://localhost:8080/",
          "height": 124
        }
      },
      "source": [
        "from google.colab import drive\n",
        "drive.mount('/content/drive')"
      ],
      "execution_count": 4,
      "outputs": [
        {
          "output_type": "stream",
          "text": [
            "Go to this URL in a browser: https://accounts.google.com/o/oauth2/auth?client_id=947318989803-6bn6qk8qdgf4n4g3pfee6491hc0brc4i.apps.googleusercontent.com&redirect_uri=urn%3aietf%3awg%3aoauth%3a2.0%3aoob&response_type=code&scope=email%20https%3a%2f%2fwww.googleapis.com%2fauth%2fdocs.test%20https%3a%2f%2fwww.googleapis.com%2fauth%2fdrive%20https%3a%2f%2fwww.googleapis.com%2fauth%2fdrive.photos.readonly%20https%3a%2f%2fwww.googleapis.com%2fauth%2fpeopleapi.readonly\n",
            "\n",
            "Enter your authorization code:\n",
            "··········\n",
            "Mounted at /content/drive\n"
          ],
          "name": "stdout"
        }
      ]
    },
    {
      "cell_type": "code",
      "metadata": {
        "id": "GsVESt5HaF9e",
        "colab_type": "code",
        "colab": {}
      },
      "source": [
        "import os"
      ],
      "execution_count": 0,
      "outputs": []
    },
    {
      "cell_type": "code",
      "metadata": {
        "id": "x_Vqu3yrad_p",
        "colab_type": "code",
        "colab": {}
      },
      "source": [
        "os.chdir(\"drive/My Drive/Yelp Data/\")"
      ],
      "execution_count": 0,
      "outputs": []
    },
    {
      "cell_type": "code",
      "metadata": {
        "id": "Is9ve3RIamjA",
        "colab_type": "code",
        "colab": {}
      },
      "source": [
        "import pandas as pd"
      ],
      "execution_count": 0,
      "outputs": []
    },
    {
      "cell_type": "markdown",
      "metadata": {
        "id": "bprA2MdWgDqp",
        "colab_type": "text"
      },
      "source": [
        "User Data"
      ]
    },
    {
      "cell_type": "code",
      "metadata": {
        "id": "b4hRs9Xtapf6",
        "colab_type": "code",
        "colab": {}
      },
      "source": [
        "user_chunk = pd.read_json(\"yelp_academic_dataset_user.json\", chunksize=1000000,orient = 'list' ,lines = True)"
      ],
      "execution_count": 0,
      "outputs": []
    },
    {
      "cell_type": "code",
      "metadata": {
        "id": "wEoEQBW-bQaD",
        "colab_type": "code",
        "colab": {}
      },
      "source": [
        "chunk_list = []\n",
        "# Each chunk is in df format\n",
        "for chunk in user_chunk:  \n",
        "    chunk_list.append(chunk)\n",
        "    \n",
        "# concat the list into dataframe \n",
        "user = pd.concat(chunk_list)"
      ],
      "execution_count": 0,
      "outputs": []
    },
    {
      "cell_type": "code",
      "metadata": {
        "id": "MsrnUVSKcTHa",
        "colab_type": "code",
        "colab": {}
      },
      "source": [
        "del chunk_list, chunk, user_chunk"
      ],
      "execution_count": 0,
      "outputs": []
    },
    {
      "cell_type": "code",
      "metadata": {
        "id": "qpYxdvIHbyEJ",
        "colab_type": "code",
        "outputId": "199e6e6b-8ef1-44e6-b1a9-ed0c3c11f30c",
        "colab": {
          "base_uri": "https://localhost:8080/",
          "height": 34
        }
      },
      "source": [
        "import gc\n",
        "gc.collect()"
      ],
      "execution_count": 0,
      "outputs": [
        {
          "output_type": "execute_result",
          "data": {
            "text/plain": [
              "0"
            ]
          },
          "metadata": {
            "tags": []
          },
          "execution_count": 8
        }
      ]
    },
    {
      "cell_type": "code",
      "metadata": {
        "id": "_-9UitZ9cR5R",
        "colab_type": "code",
        "outputId": "68e903cd-f0b4-4c60-a120-3a2887b763e4",
        "colab": {
          "base_uri": "https://localhost:8080/",
          "height": 308
        }
      },
      "source": [
        "user.head()"
      ],
      "execution_count": 0,
      "outputs": [
        {
          "output_type": "execute_result",
          "data": {
            "text/html": [
              "<div>\n",
              "<style scoped>\n",
              "    .dataframe tbody tr th:only-of-type {\n",
              "        vertical-align: middle;\n",
              "    }\n",
              "\n",
              "    .dataframe tbody tr th {\n",
              "        vertical-align: top;\n",
              "    }\n",
              "\n",
              "    .dataframe thead th {\n",
              "        text-align: right;\n",
              "    }\n",
              "</style>\n",
              "<table border=\"1\" class=\"dataframe\">\n",
              "  <thead>\n",
              "    <tr style=\"text-align: right;\">\n",
              "      <th></th>\n",
              "      <th>user_id</th>\n",
              "      <th>name</th>\n",
              "      <th>review_count</th>\n",
              "      <th>yelping_since</th>\n",
              "      <th>useful</th>\n",
              "      <th>funny</th>\n",
              "      <th>cool</th>\n",
              "      <th>elite</th>\n",
              "      <th>friends</th>\n",
              "      <th>fans</th>\n",
              "      <th>average_stars</th>\n",
              "      <th>compliment_hot</th>\n",
              "      <th>compliment_more</th>\n",
              "      <th>compliment_profile</th>\n",
              "      <th>compliment_cute</th>\n",
              "      <th>compliment_list</th>\n",
              "      <th>compliment_note</th>\n",
              "      <th>compliment_plain</th>\n",
              "      <th>compliment_cool</th>\n",
              "      <th>compliment_funny</th>\n",
              "      <th>compliment_writer</th>\n",
              "      <th>compliment_photos</th>\n",
              "    </tr>\n",
              "  </thead>\n",
              "  <tbody>\n",
              "    <tr>\n",
              "      <th>0</th>\n",
              "      <td>l6BmjZMeQD3rDxWUbiAiow</td>\n",
              "      <td>Rashmi</td>\n",
              "      <td>95</td>\n",
              "      <td>2013-10-08 23:11:33</td>\n",
              "      <td>84</td>\n",
              "      <td>17</td>\n",
              "      <td>25</td>\n",
              "      <td>2015,2016,2017</td>\n",
              "      <td>c78V-rj8NQcQjOI8KP3UEA, alRMgPcngYSCJ5naFRBz5g...</td>\n",
              "      <td>5</td>\n",
              "      <td>4.03</td>\n",
              "      <td>2</td>\n",
              "      <td>0</td>\n",
              "      <td>0</td>\n",
              "      <td>0</td>\n",
              "      <td>0</td>\n",
              "      <td>1</td>\n",
              "      <td>1</td>\n",
              "      <td>1</td>\n",
              "      <td>1</td>\n",
              "      <td>2</td>\n",
              "      <td>0</td>\n",
              "    </tr>\n",
              "    <tr>\n",
              "      <th>1</th>\n",
              "      <td>4XChL029mKr5hydo79Ljxg</td>\n",
              "      <td>Jenna</td>\n",
              "      <td>33</td>\n",
              "      <td>2013-02-21 22:29:06</td>\n",
              "      <td>48</td>\n",
              "      <td>22</td>\n",
              "      <td>16</td>\n",
              "      <td></td>\n",
              "      <td>kEBTgDvFX754S68FllfCaA, aB2DynOxNOJK9st2ZeGTPg...</td>\n",
              "      <td>4</td>\n",
              "      <td>3.63</td>\n",
              "      <td>1</td>\n",
              "      <td>0</td>\n",
              "      <td>0</td>\n",
              "      <td>0</td>\n",
              "      <td>0</td>\n",
              "      <td>0</td>\n",
              "      <td>0</td>\n",
              "      <td>1</td>\n",
              "      <td>1</td>\n",
              "      <td>0</td>\n",
              "      <td>0</td>\n",
              "    </tr>\n",
              "    <tr>\n",
              "      <th>2</th>\n",
              "      <td>bc8C_eETBWL0olvFSJJd0w</td>\n",
              "      <td>David</td>\n",
              "      <td>16</td>\n",
              "      <td>2013-10-04 00:16:10</td>\n",
              "      <td>28</td>\n",
              "      <td>8</td>\n",
              "      <td>10</td>\n",
              "      <td></td>\n",
              "      <td>4N-HU_T32hLENLntsNKNBg, pSY2vwWLgWfGVAAiKQzMng...</td>\n",
              "      <td>0</td>\n",
              "      <td>3.71</td>\n",
              "      <td>0</td>\n",
              "      <td>0</td>\n",
              "      <td>0</td>\n",
              "      <td>0</td>\n",
              "      <td>0</td>\n",
              "      <td>1</td>\n",
              "      <td>0</td>\n",
              "      <td>0</td>\n",
              "      <td>0</td>\n",
              "      <td>0</td>\n",
              "      <td>0</td>\n",
              "    </tr>\n",
              "    <tr>\n",
              "      <th>3</th>\n",
              "      <td>dD0gZpBctWGdWo9WlGuhlA</td>\n",
              "      <td>Angela</td>\n",
              "      <td>17</td>\n",
              "      <td>2014-05-22 15:57:30</td>\n",
              "      <td>30</td>\n",
              "      <td>4</td>\n",
              "      <td>14</td>\n",
              "      <td></td>\n",
              "      <td>RZ6wS38wnlXyj-OOdTzBxA, l5jxZh1KsgI8rMunm-GN6A...</td>\n",
              "      <td>5</td>\n",
              "      <td>4.85</td>\n",
              "      <td>1</td>\n",
              "      <td>0</td>\n",
              "      <td>0</td>\n",
              "      <td>0</td>\n",
              "      <td>0</td>\n",
              "      <td>0</td>\n",
              "      <td>2</td>\n",
              "      <td>0</td>\n",
              "      <td>0</td>\n",
              "      <td>1</td>\n",
              "      <td>0</td>\n",
              "    </tr>\n",
              "    <tr>\n",
              "      <th>4</th>\n",
              "      <td>MM4RJAeH6yuaN8oZDSt0RA</td>\n",
              "      <td>Nancy</td>\n",
              "      <td>361</td>\n",
              "      <td>2013-10-23 07:02:50</td>\n",
              "      <td>1114</td>\n",
              "      <td>279</td>\n",
              "      <td>665</td>\n",
              "      <td>2015,2016,2017,2018</td>\n",
              "      <td>mbwrZ-RS76V1HoJ0bF_Geg, g64lOV39xSLRZO0aQQ6DeQ...</td>\n",
              "      <td>39</td>\n",
              "      <td>4.08</td>\n",
              "      <td>28</td>\n",
              "      <td>1</td>\n",
              "      <td>0</td>\n",
              "      <td>0</td>\n",
              "      <td>1</td>\n",
              "      <td>16</td>\n",
              "      <td>57</td>\n",
              "      <td>80</td>\n",
              "      <td>80</td>\n",
              "      <td>25</td>\n",
              "      <td>5</td>\n",
              "    </tr>\n",
              "  </tbody>\n",
              "</table>\n",
              "</div>"
            ],
            "text/plain": [
              "                  user_id    name  ...  compliment_writer compliment_photos\n",
              "0  l6BmjZMeQD3rDxWUbiAiow  Rashmi  ...                  2                 0\n",
              "1  4XChL029mKr5hydo79Ljxg   Jenna  ...                  0                 0\n",
              "2  bc8C_eETBWL0olvFSJJd0w   David  ...                  0                 0\n",
              "3  dD0gZpBctWGdWo9WlGuhlA  Angela  ...                  1                 0\n",
              "4  MM4RJAeH6yuaN8oZDSt0RA   Nancy  ...                 25                 5\n",
              "\n",
              "[5 rows x 22 columns]"
            ]
          },
          "metadata": {
            "tags": []
          },
          "execution_count": 9
        }
      ]
    },
    {
      "cell_type": "markdown",
      "metadata": {
        "id": "jPQ0W35bgA2P",
        "colab_type": "text"
      },
      "source": [
        "Business"
      ]
    },
    {
      "cell_type": "code",
      "metadata": {
        "id": "FZhyPOYrcnJt",
        "colab_type": "code",
        "colab": {}
      },
      "source": [
        "bus_chunk = pd.read_json(\"yelp_academic_dataset_business.json\", chunksize=1000000,lines = True)"
      ],
      "execution_count": 0,
      "outputs": []
    },
    {
      "cell_type": "code",
      "metadata": {
        "id": "fdFpQjeFcqC2",
        "colab_type": "code",
        "colab": {}
      },
      "source": [
        "chunk_list = []\n",
        "# Each chunk is in df format\n",
        "for chunk in bus_chunk:  \n",
        "    chunk_list.append(chunk)\n",
        "    \n",
        "# concat the list into dataframe \n",
        "bus = pd.concat(chunk_list)"
      ],
      "execution_count": 0,
      "outputs": []
    },
    {
      "cell_type": "code",
      "metadata": {
        "id": "vzEZRtrIdojX",
        "colab_type": "code",
        "outputId": "8c055998-e296-4cfd-9186-0adbc5e8fb7b",
        "colab": {
          "base_uri": "https://localhost:8080/",
          "height": 34
        }
      },
      "source": [
        "del chunk_list, chunk, bus_chunk\n",
        "gc.collect()"
      ],
      "execution_count": 0,
      "outputs": [
        {
          "output_type": "execute_result",
          "data": {
            "text/plain": [
              "0"
            ]
          },
          "metadata": {
            "tags": []
          },
          "execution_count": 12
        }
      ]
    },
    {
      "cell_type": "code",
      "metadata": {
        "id": "s_nY_STAd0EB",
        "colab_type": "code",
        "outputId": "f98c5f91-02b2-4f66-8ca1-c4d2627fd82a",
        "colab": {
          "base_uri": "https://localhost:8080/",
          "height": 548
        }
      },
      "source": [
        "bus.head()"
      ],
      "execution_count": 0,
      "outputs": [
        {
          "output_type": "execute_result",
          "data": {
            "text/html": [
              "<div>\n",
              "<style scoped>\n",
              "    .dataframe tbody tr th:only-of-type {\n",
              "        vertical-align: middle;\n",
              "    }\n",
              "\n",
              "    .dataframe tbody tr th {\n",
              "        vertical-align: top;\n",
              "    }\n",
              "\n",
              "    .dataframe thead th {\n",
              "        text-align: right;\n",
              "    }\n",
              "</style>\n",
              "<table border=\"1\" class=\"dataframe\">\n",
              "  <thead>\n",
              "    <tr style=\"text-align: right;\">\n",
              "      <th></th>\n",
              "      <th>business_id</th>\n",
              "      <th>name</th>\n",
              "      <th>address</th>\n",
              "      <th>city</th>\n",
              "      <th>state</th>\n",
              "      <th>postal_code</th>\n",
              "      <th>latitude</th>\n",
              "      <th>longitude</th>\n",
              "      <th>stars</th>\n",
              "      <th>review_count</th>\n",
              "      <th>is_open</th>\n",
              "      <th>attributes</th>\n",
              "      <th>categories</th>\n",
              "      <th>hours</th>\n",
              "    </tr>\n",
              "  </thead>\n",
              "  <tbody>\n",
              "    <tr>\n",
              "      <th>0</th>\n",
              "      <td>1SWheh84yJXfytovILXOAQ</td>\n",
              "      <td>Arizona Biltmore Golf Club</td>\n",
              "      <td>2818 E Camino Acequia Drive</td>\n",
              "      <td>Phoenix</td>\n",
              "      <td>AZ</td>\n",
              "      <td>85016</td>\n",
              "      <td>33.522143</td>\n",
              "      <td>-112.018481</td>\n",
              "      <td>3.0</td>\n",
              "      <td>5</td>\n",
              "      <td>0</td>\n",
              "      <td>{'GoodForKids': 'False'}</td>\n",
              "      <td>Golf, Active Life</td>\n",
              "      <td>None</td>\n",
              "    </tr>\n",
              "    <tr>\n",
              "      <th>1</th>\n",
              "      <td>QXAEGFB4oINsVuTFxEYKFQ</td>\n",
              "      <td>Emerald Chinese Restaurant</td>\n",
              "      <td>30 Eglinton Avenue W</td>\n",
              "      <td>Mississauga</td>\n",
              "      <td>ON</td>\n",
              "      <td>L5R 3E7</td>\n",
              "      <td>43.605499</td>\n",
              "      <td>-79.652289</td>\n",
              "      <td>2.5</td>\n",
              "      <td>128</td>\n",
              "      <td>1</td>\n",
              "      <td>{'RestaurantsReservations': 'True', 'GoodForMe...</td>\n",
              "      <td>Specialty Food, Restaurants, Dim Sum, Imported...</td>\n",
              "      <td>{'Monday': '9:0-0:0', 'Tuesday': '9:0-0:0', 'W...</td>\n",
              "    </tr>\n",
              "    <tr>\n",
              "      <th>2</th>\n",
              "      <td>gnKjwL_1w79qoiV3IC_xQQ</td>\n",
              "      <td>Musashi Japanese Restaurant</td>\n",
              "      <td>10110 Johnston Rd, Ste 15</td>\n",
              "      <td>Charlotte</td>\n",
              "      <td>NC</td>\n",
              "      <td>28210</td>\n",
              "      <td>35.092564</td>\n",
              "      <td>-80.859132</td>\n",
              "      <td>4.0</td>\n",
              "      <td>170</td>\n",
              "      <td>1</td>\n",
              "      <td>{'GoodForKids': 'True', 'NoiseLevel': 'u'avera...</td>\n",
              "      <td>Sushi Bars, Restaurants, Japanese</td>\n",
              "      <td>{'Monday': '17:30-21:30', 'Wednesday': '17:30-...</td>\n",
              "    </tr>\n",
              "    <tr>\n",
              "      <th>3</th>\n",
              "      <td>xvX2CttrVhyG2z1dFg_0xw</td>\n",
              "      <td>Farmers Insurance - Paul Lorenz</td>\n",
              "      <td>15655 W Roosevelt St, Ste 237</td>\n",
              "      <td>Goodyear</td>\n",
              "      <td>AZ</td>\n",
              "      <td>85338</td>\n",
              "      <td>33.455613</td>\n",
              "      <td>-112.395596</td>\n",
              "      <td>5.0</td>\n",
              "      <td>3</td>\n",
              "      <td>1</td>\n",
              "      <td>None</td>\n",
              "      <td>Insurance, Financial Services</td>\n",
              "      <td>{'Monday': '8:0-17:0', 'Tuesday': '8:0-17:0', ...</td>\n",
              "    </tr>\n",
              "    <tr>\n",
              "      <th>4</th>\n",
              "      <td>HhyxOkGAM07SRYtlQ4wMFQ</td>\n",
              "      <td>Queen City Plumbing</td>\n",
              "      <td>4209 Stuart Andrew Blvd, Ste F</td>\n",
              "      <td>Charlotte</td>\n",
              "      <td>NC</td>\n",
              "      <td>28217</td>\n",
              "      <td>35.190012</td>\n",
              "      <td>-80.887223</td>\n",
              "      <td>4.0</td>\n",
              "      <td>4</td>\n",
              "      <td>1</td>\n",
              "      <td>{'BusinessAcceptsBitcoin': 'False', 'ByAppoint...</td>\n",
              "      <td>Plumbing, Shopping, Local Services, Home Servi...</td>\n",
              "      <td>{'Monday': '7:0-23:0', 'Tuesday': '7:0-23:0', ...</td>\n",
              "    </tr>\n",
              "  </tbody>\n",
              "</table>\n",
              "</div>"
            ],
            "text/plain": [
              "              business_id  ...                                              hours\n",
              "0  1SWheh84yJXfytovILXOAQ  ...                                               None\n",
              "1  QXAEGFB4oINsVuTFxEYKFQ  ...  {'Monday': '9:0-0:0', 'Tuesday': '9:0-0:0', 'W...\n",
              "2  gnKjwL_1w79qoiV3IC_xQQ  ...  {'Monday': '17:30-21:30', 'Wednesday': '17:30-...\n",
              "3  xvX2CttrVhyG2z1dFg_0xw  ...  {'Monday': '8:0-17:0', 'Tuesday': '8:0-17:0', ...\n",
              "4  HhyxOkGAM07SRYtlQ4wMFQ  ...  {'Monday': '7:0-23:0', 'Tuesday': '7:0-23:0', ...\n",
              "\n",
              "[5 rows x 14 columns]"
            ]
          },
          "metadata": {
            "tags": []
          },
          "execution_count": 13
        }
      ]
    },
    {
      "cell_type": "markdown",
      "metadata": {
        "id": "MLaGEPb-xGDC",
        "colab_type": "text"
      },
      "source": [
        "Reviews Data"
      ]
    },
    {
      "cell_type": "code",
      "metadata": {
        "colab_type": "code",
        "id": "Flc0AOj_7I3c",
        "colab": {}
      },
      "source": [
        "rev_chunk = pd.read_json(\"yelp_academic_dataset_review.json\", chunksize=1000000,lines = True)"
      ],
      "execution_count": 0,
      "outputs": []
    },
    {
      "cell_type": "code",
      "metadata": {
        "colab_type": "code",
        "id": "DdqUPP8Y7I3i",
        "colab": {}
      },
      "source": [
        "chunk_list = []\n",
        "# Each chunk is in df format\n",
        "for chunk in rev_chunk:  \n",
        "    chunk_list.append(chunk)\n",
        "    gc.collect()\n",
        "    \n",
        "# concat the list into dataframe \n",
        "rev = pd.concat(chunk_list)"
      ],
      "execution_count": 0,
      "outputs": []
    },
    {
      "cell_type": "code",
      "metadata": {
        "colab_type": "code",
        "id": "5wDd--yu7I3k",
        "outputId": "20d08c4a-2b5b-473d-bfc7-eb0c40c8e8f8",
        "colab": {
          "base_uri": "https://localhost:8080/",
          "height": 34
        }
      },
      "source": [
        "del chunk_list, chunk, rev_chunk\n",
        "gc.collect()"
      ],
      "execution_count": 0,
      "outputs": [
        {
          "output_type": "execute_result",
          "data": {
            "text/plain": [
              "0"
            ]
          },
          "metadata": {
            "tags": []
          },
          "execution_count": 16
        }
      ]
    },
    {
      "cell_type": "code",
      "metadata": {
        "colab_type": "code",
        "outputId": "963f4241-69e9-477d-8654-ba5dcce280e1",
        "id": "KIc_9KdZ7I3m",
        "colab": {
          "base_uri": "https://localhost:8080/",
          "height": 684
        }
      },
      "source": [
        "rev.head()"
      ],
      "execution_count": 0,
      "outputs": [
        {
          "output_type": "execute_result",
          "data": {
            "text/html": [
              "<div>\n",
              "<style scoped>\n",
              "    .dataframe tbody tr th:only-of-type {\n",
              "        vertical-align: middle;\n",
              "    }\n",
              "\n",
              "    .dataframe tbody tr th {\n",
              "        vertical-align: top;\n",
              "    }\n",
              "\n",
              "    .dataframe thead th {\n",
              "        text-align: right;\n",
              "    }\n",
              "</style>\n",
              "<table border=\"1\" class=\"dataframe\">\n",
              "  <thead>\n",
              "    <tr style=\"text-align: right;\">\n",
              "      <th></th>\n",
              "      <th>review_id</th>\n",
              "      <th>user_id</th>\n",
              "      <th>business_id</th>\n",
              "      <th>stars</th>\n",
              "      <th>useful</th>\n",
              "      <th>funny</th>\n",
              "      <th>cool</th>\n",
              "      <th>text</th>\n",
              "      <th>date</th>\n",
              "    </tr>\n",
              "  </thead>\n",
              "  <tbody>\n",
              "    <tr>\n",
              "      <th>0</th>\n",
              "      <td>Q1sbwvVQXV2734tPgoKj4Q</td>\n",
              "      <td>hG7b0MtEbXx5QzbzE6C_VA</td>\n",
              "      <td>ujmEBvifdJM6h6RLv4wQIg</td>\n",
              "      <td>1</td>\n",
              "      <td>6</td>\n",
              "      <td>1</td>\n",
              "      <td>0</td>\n",
              "      <td>Total bill for this horrible service? Over $8G...</td>\n",
              "      <td>2013-05-07 04:34:36</td>\n",
              "    </tr>\n",
              "    <tr>\n",
              "      <th>1</th>\n",
              "      <td>GJXCdrto3ASJOqKeVWPi6Q</td>\n",
              "      <td>yXQM5uF2jS6es16SJzNHfg</td>\n",
              "      <td>NZnhc2sEQy3RmzKTZnqtwQ</td>\n",
              "      <td>5</td>\n",
              "      <td>0</td>\n",
              "      <td>0</td>\n",
              "      <td>0</td>\n",
              "      <td>I *adore* Travis at the Hard Rock's new Kelly ...</td>\n",
              "      <td>2017-01-14 21:30:33</td>\n",
              "    </tr>\n",
              "    <tr>\n",
              "      <th>2</th>\n",
              "      <td>2TzJjDVDEuAW6MR5Vuc1ug</td>\n",
              "      <td>n6-Gk65cPZL6Uz8qRm3NYw</td>\n",
              "      <td>WTqjgwHlXbSFevF32_DJVw</td>\n",
              "      <td>5</td>\n",
              "      <td>3</td>\n",
              "      <td>0</td>\n",
              "      <td>0</td>\n",
              "      <td>I have to say that this office really has it t...</td>\n",
              "      <td>2016-11-09 20:09:03</td>\n",
              "    </tr>\n",
              "    <tr>\n",
              "      <th>3</th>\n",
              "      <td>yi0R0Ugj_xUx_Nek0-_Qig</td>\n",
              "      <td>dacAIZ6fTM6mqwW5uxkskg</td>\n",
              "      <td>ikCg8xy5JIg_NGPx-MSIDA</td>\n",
              "      <td>5</td>\n",
              "      <td>0</td>\n",
              "      <td>0</td>\n",
              "      <td>0</td>\n",
              "      <td>Went in for a lunch. Steak sandwich was delici...</td>\n",
              "      <td>2018-01-09 20:56:38</td>\n",
              "    </tr>\n",
              "    <tr>\n",
              "      <th>4</th>\n",
              "      <td>11a8sVPMUFtaC7_ABRkmtw</td>\n",
              "      <td>ssoyf2_x0EQMed6fgHeMyQ</td>\n",
              "      <td>b1b1eb3uo-w561D0ZfCEiQ</td>\n",
              "      <td>1</td>\n",
              "      <td>7</td>\n",
              "      <td>0</td>\n",
              "      <td>0</td>\n",
              "      <td>Today was my second out of three sessions I ha...</td>\n",
              "      <td>2018-01-30 23:07:38</td>\n",
              "    </tr>\n",
              "  </tbody>\n",
              "</table>\n",
              "</div>"
            ],
            "text/plain": [
              "                review_id  ...                date\n",
              "0  Q1sbwvVQXV2734tPgoKj4Q  ... 2013-05-07 04:34:36\n",
              "1  GJXCdrto3ASJOqKeVWPi6Q  ... 2017-01-14 21:30:33\n",
              "2  2TzJjDVDEuAW6MR5Vuc1ug  ... 2016-11-09 20:09:03\n",
              "3  yi0R0Ugj_xUx_Nek0-_Qig  ... 2018-01-09 20:56:38\n",
              "4  11a8sVPMUFtaC7_ABRkmtw  ... 2018-01-30 23:07:38\n",
              "\n",
              "[5 rows x 9 columns]"
            ]
          },
          "metadata": {
            "tags": []
          },
          "execution_count": 17
        }
      ]
    },
    {
      "cell_type": "markdown",
      "metadata": {
        "id": "F6uvXpZOxJaF",
        "colab_type": "text"
      },
      "source": [
        "User tips for restaurants"
      ]
    },
    {
      "cell_type": "code",
      "metadata": {
        "colab_type": "code",
        "id": "qp2BnzMuFOk2",
        "colab": {}
      },
      "source": [
        "tip_chunk = pd.read_json(\"yelp_academic_dataset_tip.json\", chunksize=1000000,lines = True)"
      ],
      "execution_count": 0,
      "outputs": []
    },
    {
      "cell_type": "code",
      "metadata": {
        "colab_type": "code",
        "id": "XCQBI4T_FOk6",
        "colab": {}
      },
      "source": [
        "chunk_list = []\n",
        "# Each chunk is in df format\n",
        "for chunk in tip_chunk:  \n",
        "    chunk_list.append(chunk)\n",
        "    gc.collect()\n",
        "    \n",
        "# concat the list into dataframe \n",
        "tip = pd.concat(chunk_list)"
      ],
      "execution_count": 0,
      "outputs": []
    },
    {
      "cell_type": "code",
      "metadata": {
        "colab_type": "code",
        "id": "qfkLGZ3IFOk7",
        "outputId": "2ce1d205-29d4-4b95-bd84-5fc7505a22af",
        "colab": {
          "base_uri": "https://localhost:8080/",
          "height": 34
        }
      },
      "source": [
        "del chunk_list, chunk, tip_chunk\n",
        "gc.collect()"
      ],
      "execution_count": 0,
      "outputs": [
        {
          "output_type": "execute_result",
          "data": {
            "text/plain": [
              "0"
            ]
          },
          "metadata": {
            "tags": []
          },
          "execution_count": 20
        }
      ]
    },
    {
      "cell_type": "code",
      "metadata": {
        "colab_type": "code",
        "outputId": "01d8e062-f942-4fc4-8d61-0d12a48e8c18",
        "id": "n8xOVpqsFOk9",
        "colab": {
          "base_uri": "https://localhost:8080/",
          "height": 288
        }
      },
      "source": [
        "tip.head()"
      ],
      "execution_count": 0,
      "outputs": [
        {
          "output_type": "execute_result",
          "data": {
            "text/html": [
              "<div>\n",
              "<style scoped>\n",
              "    .dataframe tbody tr th:only-of-type {\n",
              "        vertical-align: middle;\n",
              "    }\n",
              "\n",
              "    .dataframe tbody tr th {\n",
              "        vertical-align: top;\n",
              "    }\n",
              "\n",
              "    .dataframe thead th {\n",
              "        text-align: right;\n",
              "    }\n",
              "</style>\n",
              "<table border=\"1\" class=\"dataframe\">\n",
              "  <thead>\n",
              "    <tr style=\"text-align: right;\">\n",
              "      <th></th>\n",
              "      <th>user_id</th>\n",
              "      <th>business_id</th>\n",
              "      <th>text</th>\n",
              "      <th>date</th>\n",
              "      <th>compliment_count</th>\n",
              "    </tr>\n",
              "  </thead>\n",
              "  <tbody>\n",
              "    <tr>\n",
              "      <th>0</th>\n",
              "      <td>UPw5DWs_b-e2JRBS-t37Ag</td>\n",
              "      <td>VaKXUpmWTTWDKbpJ3aQdMw</td>\n",
              "      <td>Great for watching games, ufc, and whatever el...</td>\n",
              "      <td>2014-03-27 03:51:24</td>\n",
              "      <td>0</td>\n",
              "    </tr>\n",
              "    <tr>\n",
              "      <th>1</th>\n",
              "      <td>Ocha4kZBHb4JK0lOWvE0sg</td>\n",
              "      <td>OPiPeoJiv92rENwbq76orA</td>\n",
              "      <td>Happy Hour 2-4 daily with 1/2 price drinks and...</td>\n",
              "      <td>2013-05-25 06:00:56</td>\n",
              "      <td>0</td>\n",
              "    </tr>\n",
              "    <tr>\n",
              "      <th>2</th>\n",
              "      <td>jRyO2V1pA4CdVVqCIOPc1Q</td>\n",
              "      <td>5KheTjYPu1HcQzQFtm4_vw</td>\n",
              "      <td>Good chips and salsa. Loud at times. Good serv...</td>\n",
              "      <td>2011-12-26 01:46:17</td>\n",
              "      <td>0</td>\n",
              "    </tr>\n",
              "    <tr>\n",
              "      <th>3</th>\n",
              "      <td>FuTJWFYm4UKqewaosss1KA</td>\n",
              "      <td>TkoyGi8J7YFjA6SbaRzrxg</td>\n",
              "      <td>The setting and decoration here is amazing. Co...</td>\n",
              "      <td>2014-03-23 21:32:49</td>\n",
              "      <td>0</td>\n",
              "    </tr>\n",
              "    <tr>\n",
              "      <th>4</th>\n",
              "      <td>LUlKtaM3nXd-E4N4uOk_fQ</td>\n",
              "      <td>AkL6Ous6A1atZejfZXn1Bg</td>\n",
              "      <td>Molly is definately taking a picture with Sant...</td>\n",
              "      <td>2012-10-06 00:19:27</td>\n",
              "      <td>0</td>\n",
              "    </tr>\n",
              "  </tbody>\n",
              "</table>\n",
              "</div>"
            ],
            "text/plain": [
              "                  user_id  ... compliment_count\n",
              "0  UPw5DWs_b-e2JRBS-t37Ag  ...                0\n",
              "1  Ocha4kZBHb4JK0lOWvE0sg  ...                0\n",
              "2  jRyO2V1pA4CdVVqCIOPc1Q  ...                0\n",
              "3  FuTJWFYm4UKqewaosss1KA  ...                0\n",
              "4  LUlKtaM3nXd-E4N4uOk_fQ  ...                0\n",
              "\n",
              "[5 rows x 5 columns]"
            ]
          },
          "metadata": {
            "tags": []
          },
          "execution_count": 21
        }
      ]
    },
    {
      "cell_type": "markdown",
      "metadata": {
        "id": "YgRBQrlfxSBV",
        "colab_type": "text"
      },
      "source": [
        "User checkin data"
      ]
    },
    {
      "cell_type": "code",
      "metadata": {
        "colab_type": "code",
        "id": "akg5uPaLFgju",
        "colab": {}
      },
      "source": [
        "# chk_chunk = pd.read_json(\"yelp_academic_dataset_checkin.json\", chunksize=1000000,lines = True)"
      ],
      "execution_count": 0,
      "outputs": []
    },
    {
      "cell_type": "code",
      "metadata": {
        "colab_type": "code",
        "id": "YgrVb3sVFgjx",
        "colab": {}
      },
      "source": [
        "# chunk_list = []\n",
        "# # Each chunk is in df format\n",
        "# for chunk in chk_chunk:  \n",
        "#     chunk_list.append(chunk)\n",
        "#     gc.collect()\n",
        "    \n",
        "# # concat the list into dataframe \n",
        "# chk = pd.concat(chunk_list)"
      ],
      "execution_count": 0,
      "outputs": []
    },
    {
      "cell_type": "code",
      "metadata": {
        "colab_type": "code",
        "id": "Z90tpOCfFgjz",
        "colab": {}
      },
      "source": [
        "# del chunk_list, chunk, chk_chunk\n",
        "# gc.collect()"
      ],
      "execution_count": 0,
      "outputs": []
    },
    {
      "cell_type": "code",
      "metadata": {
        "colab_type": "code",
        "id": "SXdKCI_BFgj1",
        "colab": {}
      },
      "source": [
        "# chk.head()"
      ],
      "execution_count": 0,
      "outputs": []
    },
    {
      "cell_type": "markdown",
      "metadata": {
        "id": "75900D9lP2r3",
        "colab_type": "text"
      },
      "source": [
        "# Filtering Data"
      ]
    },
    {
      "cell_type": "code",
      "metadata": {
        "id": "5O8TQXM_FoJ3",
        "colab_type": "code",
        "outputId": "efba86fa-6189-4408-d44c-c3d9861290f0",
        "colab": {
          "base_uri": "https://localhost:8080/",
          "height": 226
        }
      },
      "source": [
        "bus.city.value_counts()"
      ],
      "execution_count": 0,
      "outputs": [
        {
          "output_type": "execute_result",
          "data": {
            "text/plain": [
              "Las Vegas              29370\n",
              "Toronto                18906\n",
              "Phoenix                18766\n",
              "Charlotte               9509\n",
              "Scottsdale              8837\n",
              "                       ...  \n",
              "Saint Leonard              1\n",
              "Vaughn                     1\n",
              "Alburgh                    1\n",
              "Penn Hills Township        1\n",
              "                           1\n",
              "Name: city, Length: 1204, dtype: int64"
            ]
          },
          "metadata": {
            "tags": []
          },
          "execution_count": 26
        }
      ]
    },
    {
      "cell_type": "markdown",
      "metadata": {
        "id": "CIFvo9xyQZxw",
        "colab_type": "text"
      },
      "source": [
        "Selecting Toronto as the city"
      ]
    },
    {
      "cell_type": "code",
      "metadata": {
        "id": "Jo22R5PtQZV9",
        "colab_type": "code",
        "colab": {}
      },
      "source": [
        "busT = bus[bus.city==\"Toronto\"]"
      ],
      "execution_count": 0,
      "outputs": []
    },
    {
      "cell_type": "code",
      "metadata": {
        "id": "IGSh16CJQ45Y",
        "colab_type": "code",
        "outputId": "9b02b17f-236e-4d64-95b7-ba7d1bdf5252",
        "colab": {
          "base_uri": "https://localhost:8080/",
          "height": 582
        }
      },
      "source": [
        "busT.head()"
      ],
      "execution_count": 0,
      "outputs": [
        {
          "output_type": "execute_result",
          "data": {
            "text/html": [
              "<div>\n",
              "<style scoped>\n",
              "    .dataframe tbody tr th:only-of-type {\n",
              "        vertical-align: middle;\n",
              "    }\n",
              "\n",
              "    .dataframe tbody tr th {\n",
              "        vertical-align: top;\n",
              "    }\n",
              "\n",
              "    .dataframe thead th {\n",
              "        text-align: right;\n",
              "    }\n",
              "</style>\n",
              "<table border=\"1\" class=\"dataframe\">\n",
              "  <thead>\n",
              "    <tr style=\"text-align: right;\">\n",
              "      <th></th>\n",
              "      <th>business_id</th>\n",
              "      <th>name</th>\n",
              "      <th>address</th>\n",
              "      <th>city</th>\n",
              "      <th>state</th>\n",
              "      <th>postal_code</th>\n",
              "      <th>latitude</th>\n",
              "      <th>longitude</th>\n",
              "      <th>stars</th>\n",
              "      <th>review_count</th>\n",
              "      <th>is_open</th>\n",
              "      <th>attributes</th>\n",
              "      <th>categories</th>\n",
              "      <th>hours</th>\n",
              "    </tr>\n",
              "  </thead>\n",
              "  <tbody>\n",
              "    <tr>\n",
              "      <th>19</th>\n",
              "      <td>zSpQmEBvRe3IhTUlMSA6HQ</td>\n",
              "      <td>Totum Life Science</td>\n",
              "      <td>445 King Street W, Suite 101</td>\n",
              "      <td>Toronto</td>\n",
              "      <td>ON</td>\n",
              "      <td>M5V 1K4</td>\n",
              "      <td>43.645041</td>\n",
              "      <td>-79.395799</td>\n",
              "      <td>4.0</td>\n",
              "      <td>23</td>\n",
              "      <td>1</td>\n",
              "      <td>{'AcceptsInsurance': 'True', 'ByAppointmentOnl...</td>\n",
              "      <td>Trainers, Health &amp; Medical, Active Life, Physi...</td>\n",
              "      <td>{'Monday': '6:0-22:0', 'Tuesday': '6:0-22:0', ...</td>\n",
              "    </tr>\n",
              "    <tr>\n",
              "      <th>26</th>\n",
              "      <td>C9oCPomVP0mtKa8z99E3gg</td>\n",
              "      <td>Bakery Gateau</td>\n",
              "      <td>865 York Mills Road, Unit 1</td>\n",
              "      <td>Toronto</td>\n",
              "      <td>ON</td>\n",
              "      <td>M3B 1Y6</td>\n",
              "      <td>43.754093</td>\n",
              "      <td>-79.349548</td>\n",
              "      <td>4.5</td>\n",
              "      <td>8</td>\n",
              "      <td>1</td>\n",
              "      <td>{'RestaurantsDelivery': 'False', 'RestaurantsP...</td>\n",
              "      <td>Bakeries, Food</td>\n",
              "      <td>{'Monday': '9:0-20:0', 'Tuesday': '9:0-20:0', ...</td>\n",
              "    </tr>\n",
              "    <tr>\n",
              "      <th>27</th>\n",
              "      <td>C9keC4mWuXdl2mYFHZXudQ</td>\n",
              "      <td>Uncle Otis Clothing</td>\n",
              "      <td>26 Bellair St</td>\n",
              "      <td>Toronto</td>\n",
              "      <td>ON</td>\n",
              "      <td>M5R 2C7</td>\n",
              "      <td>43.670744</td>\n",
              "      <td>-79.391385</td>\n",
              "      <td>5.0</td>\n",
              "      <td>12</td>\n",
              "      <td>1</td>\n",
              "      <td>{'RestaurantsPriceRange2': '3', 'BusinessParki...</td>\n",
              "      <td>Fashion, Sporting Goods, Men's Clothing, Shopp...</td>\n",
              "      <td>{'Monday': '11:30-19:0', 'Tuesday': '11:30-19:...</td>\n",
              "    </tr>\n",
              "    <tr>\n",
              "      <th>29</th>\n",
              "      <td>NDuUMJfrWk52RA-H-OtrpA</td>\n",
              "      <td>Bolt Fresh Bar</td>\n",
              "      <td>1170 Queen Street W</td>\n",
              "      <td>Toronto</td>\n",
              "      <td>ON</td>\n",
              "      <td>M6J 1J5</td>\n",
              "      <td>43.642889</td>\n",
              "      <td>-79.425429</td>\n",
              "      <td>3.0</td>\n",
              "      <td>57</td>\n",
              "      <td>1</td>\n",
              "      <td>{'WiFi': 'u'no'', 'BikeParking': 'True', 'Rest...</td>\n",
              "      <td>Juice Bars &amp; Smoothies, Food, Restaurants, Fas...</td>\n",
              "      <td>{'Monday': '8:0-21:0', 'Tuesday': '8:0-21:0', ...</td>\n",
              "    </tr>\n",
              "    <tr>\n",
              "      <th>32</th>\n",
              "      <td>SP_YXIEwkFPPl_9anCYmpQ</td>\n",
              "      <td>The Steady Cafe &amp; Bar</td>\n",
              "      <td>1051 Bloor Street W</td>\n",
              "      <td>Toronto</td>\n",
              "      <td>ON</td>\n",
              "      <td>M6H 1M4</td>\n",
              "      <td>43.660494</td>\n",
              "      <td>-79.432099</td>\n",
              "      <td>3.5</td>\n",
              "      <td>29</td>\n",
              "      <td>0</td>\n",
              "      <td>{'BusinessParking': '{'garage': False, 'street...</td>\n",
              "      <td>Restaurants, Nightlife, Breakfast &amp; Brunch, Ve...</td>\n",
              "      <td>{'Tuesday': '9:0-18:0', 'Wednesday': '9:0-18:0...</td>\n",
              "    </tr>\n",
              "  </tbody>\n",
              "</table>\n",
              "</div>"
            ],
            "text/plain": [
              "               business_id  ...                                              hours\n",
              "19  zSpQmEBvRe3IhTUlMSA6HQ  ...  {'Monday': '6:0-22:0', 'Tuesday': '6:0-22:0', ...\n",
              "26  C9oCPomVP0mtKa8z99E3gg  ...  {'Monday': '9:0-20:0', 'Tuesday': '9:0-20:0', ...\n",
              "27  C9keC4mWuXdl2mYFHZXudQ  ...  {'Monday': '11:30-19:0', 'Tuesday': '11:30-19:...\n",
              "29  NDuUMJfrWk52RA-H-OtrpA  ...  {'Monday': '8:0-21:0', 'Tuesday': '8:0-21:0', ...\n",
              "32  SP_YXIEwkFPPl_9anCYmpQ  ...  {'Tuesday': '9:0-18:0', 'Wednesday': '9:0-18:0...\n",
              "\n",
              "[5 rows x 14 columns]"
            ]
          },
          "metadata": {
            "tags": []
          },
          "execution_count": 28
        }
      ]
    },
    {
      "cell_type": "code",
      "metadata": {
        "id": "JuhefC-tRSWu",
        "colab_type": "code",
        "outputId": "6b3069b9-ed36-42e5-e3e3-a1635504599b",
        "colab": {
          "base_uri": "https://localhost:8080/",
          "height": 72
        }
      },
      "source": [
        "busT.categories.value_counts().to_csv(\"categories.csv\")"
      ],
      "execution_count": 0,
      "outputs": [
        {
          "output_type": "stream",
          "text": [
            "/usr/local/lib/python3.6/dist-packages/ipykernel_launcher.py:1: FutureWarning: The signature of `Series.to_csv` was aligned to that of `DataFrame.to_csv`, and argument 'header' will change its default value from False to True: please pass an explicit value to suppress this warning.\n",
            "  \"\"\"Entry point for launching an IPython kernel.\n"
          ],
          "name": "stderr"
        }
      ]
    },
    {
      "cell_type": "code",
      "metadata": {
        "id": "dqmJ15qCofZQ",
        "colab_type": "code",
        "colab": {}
      },
      "source": [
        ""
      ],
      "execution_count": 0,
      "outputs": []
    },
    {
      "cell_type": "markdown",
      "metadata": {
        "id": "pd-GNqa2fuVY",
        "colab_type": "text"
      },
      "source": [
        "Taking only resturants"
      ]
    },
    {
      "cell_type": "code",
      "metadata": {
        "id": "vvGrHSDBaICr",
        "colab_type": "code",
        "outputId": "7ec9c1f2-14a3-4baa-d922-91a1b77ba0f0",
        "colab": {
          "base_uri": "https://localhost:8080/",
          "height": 89
        }
      },
      "source": [
        "busT.categories[busT.categories.str.contains(\"(Restaurants)|(Bar)|(Food)|(Cafe?s)|(Juice?s)|(Fast Food)|(Bakeries)\",case=False,regex=True,na=False)].count()"
      ],
      "execution_count": 0,
      "outputs": [
        {
          "output_type": "stream",
          "text": [
            "/usr/local/lib/python3.6/dist-packages/pandas/core/strings.py:1843: UserWarning: This pattern has match groups. To actually get the groups, use str.extract.\n",
            "  return func(self, *args, **kwargs)\n"
          ],
          "name": "stderr"
        },
        {
          "output_type": "execute_result",
          "data": {
            "text/plain": [
              "10704"
            ]
          },
          "metadata": {
            "tags": []
          },
          "execution_count": 30
        }
      ]
    },
    {
      "cell_type": "code",
      "metadata": {
        "id": "5ntUtBaKbj-b",
        "colab_type": "code",
        "outputId": "3282be18-94de-42d7-868c-14a57365fc02",
        "colab": {
          "base_uri": "https://localhost:8080/",
          "height": 72
        }
      },
      "source": [
        "busT = busT[busT.categories.str.contains(\"(Restaurants)|(Bar)|(Food)|(Cafe?s)|(Juice?s)|(Fast Food)|(Bakeries)\",case=False,regex=True,na=False)]"
      ],
      "execution_count": 0,
      "outputs": [
        {
          "output_type": "stream",
          "text": [
            "/usr/local/lib/python3.6/dist-packages/pandas/core/strings.py:1843: UserWarning: This pattern has match groups. To actually get the groups, use str.extract.\n",
            "  return func(self, *args, **kwargs)\n"
          ],
          "name": "stderr"
        }
      ]
    },
    {
      "cell_type": "markdown",
      "metadata": {
        "id": "Tlb2jLB3IOw1",
        "colab_type": "text"
      },
      "source": [
        "Keeping only open businesses"
      ]
    },
    {
      "cell_type": "code",
      "metadata": {
        "id": "D0RE_B1aH5xO",
        "colab_type": "code",
        "outputId": "b653aabe-b142-4d11-b7b3-b2d036599c58",
        "colab": {
          "base_uri": "https://localhost:8080/",
          "height": 69
        }
      },
      "source": [
        "busT.is_open.value_counts()"
      ],
      "execution_count": 0,
      "outputs": [
        {
          "output_type": "execute_result",
          "data": {
            "text/plain": [
              "1    7292\n",
              "0    3412\n",
              "Name: is_open, dtype: int64"
            ]
          },
          "metadata": {
            "tags": []
          },
          "execution_count": 32
        }
      ]
    },
    {
      "cell_type": "code",
      "metadata": {
        "id": "_Q0Ks_inIM4V",
        "colab_type": "code",
        "colab": {}
      },
      "source": [
        "# busT = busT[busT.is_open==1]"
      ],
      "execution_count": 0,
      "outputs": []
    },
    {
      "cell_type": "code",
      "metadata": {
        "id": "lyUIy95VmhQf",
        "colab_type": "code",
        "outputId": "cf1e8c57-f07c-45a8-92bb-fe3633ff60bb",
        "colab": {
          "base_uri": "https://localhost:8080/",
          "height": 279
        }
      },
      "source": [
        "busT.count()"
      ],
      "execution_count": 0,
      "outputs": [
        {
          "output_type": "execute_result",
          "data": {
            "text/plain": [
              "business_id     10704\n",
              "name            10704\n",
              "address         10704\n",
              "city            10704\n",
              "state           10704\n",
              "postal_code     10704\n",
              "latitude        10704\n",
              "longitude       10704\n",
              "stars           10704\n",
              "review_count    10704\n",
              "is_open         10704\n",
              "attributes      10219\n",
              "categories      10704\n",
              "hours            8005\n",
              "dtype: int64"
            ]
          },
          "metadata": {
            "tags": []
          },
          "execution_count": 34
        }
      ]
    },
    {
      "cell_type": "markdown",
      "metadata": {
        "id": "RIY6oKNjgQcX",
        "colab_type": "text"
      },
      "source": [
        "Subset other data sets accordingly"
      ]
    },
    {
      "cell_type": "code",
      "metadata": {
        "id": "5Fqee2AHf5y8",
        "colab_type": "code",
        "colab": {}
      },
      "source": [
        "revT = rev[rev.business_id.isin(busT.business_id.unique())]"
      ],
      "execution_count": 0,
      "outputs": []
    },
    {
      "cell_type": "code",
      "metadata": {
        "id": "NmdB-y8BmD06",
        "colab_type": "code",
        "outputId": "5635a446-edb1-4719-f0e2-c7f50699a512",
        "colab": {
          "base_uri": "https://localhost:8080/",
          "height": 191
        }
      },
      "source": [
        "revT.count()"
      ],
      "execution_count": 0,
      "outputs": [
        {
          "output_type": "execute_result",
          "data": {
            "text/plain": [
              "review_id      435785\n",
              "user_id        435785\n",
              "business_id    435785\n",
              "stars          435785\n",
              "useful         435785\n",
              "funny          435785\n",
              "cool           435785\n",
              "text           435785\n",
              "date           435785\n",
              "dtype: int64"
            ]
          },
          "metadata": {
            "tags": []
          },
          "execution_count": 36
        }
      ]
    },
    {
      "cell_type": "code",
      "metadata": {
        "id": "M8cT5gbdmgKz",
        "colab_type": "code",
        "colab": {}
      },
      "source": [
        "userT = user[user.user_id.isin(revT.user_id.unique())]"
      ],
      "execution_count": 0,
      "outputs": []
    },
    {
      "cell_type": "code",
      "metadata": {
        "id": "VobdCSUnmspU",
        "colab_type": "code",
        "outputId": "be85fb8f-ab21-423f-db00-5049248334fc",
        "colab": {
          "base_uri": "https://localhost:8080/",
          "height": 418
        }
      },
      "source": [
        "userT.count()"
      ],
      "execution_count": 0,
      "outputs": [
        {
          "output_type": "execute_result",
          "data": {
            "text/plain": [
              "user_id               94318\n",
              "name                  94318\n",
              "review_count          94318\n",
              "yelping_since         94318\n",
              "useful                94318\n",
              "funny                 94318\n",
              "cool                  94318\n",
              "elite                 94318\n",
              "friends               94318\n",
              "fans                  94318\n",
              "average_stars         94318\n",
              "compliment_hot        94318\n",
              "compliment_more       94318\n",
              "compliment_profile    94318\n",
              "compliment_cute       94318\n",
              "compliment_list       94318\n",
              "compliment_note       94318\n",
              "compliment_plain      94318\n",
              "compliment_cool       94318\n",
              "compliment_funny      94318\n",
              "compliment_writer     94318\n",
              "compliment_photos     94318\n",
              "dtype: int64"
            ]
          },
          "metadata": {
            "tags": []
          },
          "execution_count": 38
        }
      ]
    },
    {
      "cell_type": "code",
      "metadata": {
        "id": "0KZ-vSafmxNQ",
        "colab_type": "code",
        "colab": {}
      },
      "source": [
        "tipT = tip[tip.business_id.isin(busT.business_id)]"
      ],
      "execution_count": 0,
      "outputs": []
    },
    {
      "cell_type": "code",
      "metadata": {
        "id": "NxKtw1_I_EGU",
        "colab_type": "code",
        "outputId": "807acd1a-c533-46fc-ad8a-fa91b238a2b9",
        "colab": {
          "base_uri": "https://localhost:8080/",
          "height": 122
        }
      },
      "source": [
        "tipT.count()"
      ],
      "execution_count": 0,
      "outputs": [
        {
          "output_type": "execute_result",
          "data": {
            "text/plain": [
              "user_id             62351\n",
              "business_id         62351\n",
              "text                62351\n",
              "date                62351\n",
              "compliment_count    62351\n",
              "dtype: int64"
            ]
          },
          "metadata": {
            "tags": []
          },
          "execution_count": 40
        }
      ]
    },
    {
      "cell_type": "code",
      "metadata": {
        "id": "IKIoK5aY_J-2",
        "colab_type": "code",
        "outputId": "6c68a68b-cb94-43b8-954a-34edd14161d6",
        "colab": {
          "base_uri": "https://localhost:8080/",
          "height": 34
        }
      },
      "source": [
        "del user,bus,tip,rev\n",
        "gc.collect()"
      ],
      "execution_count": 0,
      "outputs": [
        {
          "output_type": "execute_result",
          "data": {
            "text/plain": [
              "18"
            ]
          },
          "metadata": {
            "tags": []
          },
          "execution_count": 41
        }
      ]
    },
    {
      "cell_type": "markdown",
      "metadata": {
        "id": "CGs-RDlkAsj5",
        "colab_type": "text"
      },
      "source": [
        "# Save workspace to pickle"
      ]
    },
    {
      "cell_type": "code",
      "metadata": {
        "id": "eWpmTuslAhuU",
        "colab_type": "code",
        "outputId": "5c5054e1-a420-4376-937f-956a340a1124",
        "colab": {
          "base_uri": "https://localhost:8080/",
          "height": 34
        }
      },
      "source": [
        "!pip3 install dill"
      ],
      "execution_count": 0,
      "outputs": [
        {
          "output_type": "stream",
          "text": [
            "Requirement already satisfied: dill in /usr/local/lib/python3.6/dist-packages (0.3.1.1)\n"
          ],
          "name": "stdout"
        }
      ]
    },
    {
      "cell_type": "code",
      "metadata": {
        "id": "OZ9NRYUJAaeH",
        "colab_type": "code",
        "colab": {}
      },
      "source": [
        "import dill                            \n",
        "filename = 'Yelp_Toronto.pkl'\n",
        "# dill.dump_session(filename)"
      ],
      "execution_count": 0,
      "outputs": []
    },
    {
      "cell_type": "markdown",
      "metadata": {
        "id": "Q8830zQ1Avnu",
        "colab_type": "text"
      },
      "source": [
        "Load workspace from pickle"
      ]
    },
    {
      "cell_type": "code",
      "metadata": {
        "id": "0pxLPlkeAzah",
        "colab_type": "code",
        "colab": {}
      },
      "source": [
        "dill.load_session(filename)"
      ],
      "execution_count": 0,
      "outputs": []
    },
    {
      "cell_type": "code",
      "metadata": {
        "id": "za6KBBWZDVXN",
        "colab_type": "code",
        "outputId": "fabbdb0c-e203-4b07-de4f-513830e0f7fb",
        "colab": {
          "base_uri": "https://localhost:8080/",
          "height": 293
        }
      },
      "source": [
        "revT.head()"
      ],
      "execution_count": 0,
      "outputs": [
        {
          "output_type": "execute_result",
          "data": {
            "text/html": [
              "<div>\n",
              "<style scoped>\n",
              "    .dataframe tbody tr th:only-of-type {\n",
              "        vertical-align: middle;\n",
              "    }\n",
              "\n",
              "    .dataframe tbody tr th {\n",
              "        vertical-align: top;\n",
              "    }\n",
              "\n",
              "    .dataframe thead th {\n",
              "        text-align: right;\n",
              "    }\n",
              "</style>\n",
              "<table border=\"1\" class=\"dataframe\">\n",
              "  <thead>\n",
              "    <tr style=\"text-align: right;\">\n",
              "      <th></th>\n",
              "      <th>review_id</th>\n",
              "      <th>user_id</th>\n",
              "      <th>business_id</th>\n",
              "      <th>stars</th>\n",
              "      <th>useful</th>\n",
              "      <th>funny</th>\n",
              "      <th>cool</th>\n",
              "      <th>text</th>\n",
              "      <th>date</th>\n",
              "    </tr>\n",
              "  </thead>\n",
              "  <tbody>\n",
              "    <tr>\n",
              "      <th>14</th>\n",
              "      <td>JVcjMhlavKKn3UIt9p9OXA</td>\n",
              "      <td>TpyOT5E16YASd7EWjLQlrw</td>\n",
              "      <td>AakkkTuGZA2KBodKi2_u8A</td>\n",
              "      <td>1</td>\n",
              "      <td>1</td>\n",
              "      <td>1</td>\n",
              "      <td>0</td>\n",
              "      <td>I cannot believe how things have changed in 3 ...</td>\n",
              "      <td>2012-07-16 00:37:14</td>\n",
              "    </tr>\n",
              "    <tr>\n",
              "      <th>15</th>\n",
              "      <td>svK3nBU7Rk8VfGorlrN52A</td>\n",
              "      <td>NJlxGtouq06hhC7sS2ECYw</td>\n",
              "      <td>YvrylyuWgbP90RgMqZQVnQ</td>\n",
              "      <td>5</td>\n",
              "      <td>0</td>\n",
              "      <td>0</td>\n",
              "      <td>0</td>\n",
              "      <td>You can't really find anything wrong with this...</td>\n",
              "      <td>2017-04-07 21:27:49</td>\n",
              "    </tr>\n",
              "    <tr>\n",
              "      <th>19</th>\n",
              "      <td>4bUyL7lzoWzDZaJETAKREg</td>\n",
              "      <td>_N7Ndn29bpll_961oPeEfw</td>\n",
              "      <td>y-Iw6dZflNix4BdwIyTNGA</td>\n",
              "      <td>3</td>\n",
              "      <td>0</td>\n",
              "      <td>0</td>\n",
              "      <td>0</td>\n",
              "      <td>Good selection of classes of beers and mains. ...</td>\n",
              "      <td>2014-06-27 21:19:23</td>\n",
              "    </tr>\n",
              "    <tr>\n",
              "      <th>34</th>\n",
              "      <td>E6B-2U2sGG3xgmnNWZAEew</td>\n",
              "      <td>DbccYu3OppWKl21OanZnTg</td>\n",
              "      <td>YSUcHqlKMPHHJ_cTrqtNrA</td>\n",
              "      <td>1</td>\n",
              "      <td>0</td>\n",
              "      <td>0</td>\n",
              "      <td>0</td>\n",
              "      <td>Came here on a Thursday night at 6:30 p.m. My ...</td>\n",
              "      <td>2017-12-29 13:55:19</td>\n",
              "    </tr>\n",
              "    <tr>\n",
              "      <th>47</th>\n",
              "      <td>0NRNA8qIq9nKw5FcwyOxcQ</td>\n",
              "      <td>54kpqrxF9DEPpwa51hO_Bw</td>\n",
              "      <td>jzveTy7ogH7cg9axZ78ENg</td>\n",
              "      <td>4</td>\n",
              "      <td>0</td>\n",
              "      <td>0</td>\n",
              "      <td>0</td>\n",
              "      <td>Very nice eating environment and the food are ...</td>\n",
              "      <td>2015-04-01 13:31:35</td>\n",
              "    </tr>\n",
              "  </tbody>\n",
              "</table>\n",
              "</div>"
            ],
            "text/plain": [
              "                 review_id  ...                date\n",
              "14  JVcjMhlavKKn3UIt9p9OXA  ... 2012-07-16 00:37:14\n",
              "15  svK3nBU7Rk8VfGorlrN52A  ... 2017-04-07 21:27:49\n",
              "19  4bUyL7lzoWzDZaJETAKREg  ... 2014-06-27 21:19:23\n",
              "34  E6B-2U2sGG3xgmnNWZAEew  ... 2017-12-29 13:55:19\n",
              "47  0NRNA8qIq9nKw5FcwyOxcQ  ... 2015-04-01 13:31:35\n",
              "\n",
              "[5 rows x 9 columns]"
            ]
          },
          "metadata": {
            "tags": []
          },
          "execution_count": 7
        }
      ]
    },
    {
      "cell_type": "code",
      "metadata": {
        "id": "xpRIiZc8_46Q",
        "colab_type": "code",
        "colab": {}
      },
      "source": [
        "import numpy as np"
      ],
      "execution_count": 0,
      "outputs": []
    },
    {
      "cell_type": "code",
      "metadata": {
        "id": "RYSAIKHyDdNA",
        "colab_type": "code",
        "outputId": "bf7fc9da-7394-431e-ff88-49aaa5894211",
        "colab": {
          "base_uri": "https://localhost:8080/",
          "height": 34
        }
      },
      "source": [
        "np.mean(revT.user_id.value_counts()>1)"
      ],
      "execution_count": 0,
      "outputs": [
        {
          "output_type": "execute_result",
          "data": {
            "text/plain": [
              "0.4845522593778494"
            ]
          },
          "metadata": {
            "tags": []
          },
          "execution_count": 10
        }
      ]
    },
    {
      "cell_type": "markdown",
      "metadata": {
        "id": "F0d-YCOCDv7_",
        "colab_type": "text"
      },
      "source": [
        "Only 48% of users have more than 1 review"
      ]
    },
    {
      "cell_type": "code",
      "metadata": {
        "id": "PbkAOsXWDunG",
        "colab_type": "code",
        "outputId": "7b85924b-da96-4828-803b-7982b0a1f886",
        "colab": {
          "base_uri": "https://localhost:8080/",
          "height": 296
        }
      },
      "source": [
        "revT[[\"user_id\",\"stars\"]].describe()"
      ],
      "execution_count": 0,
      "outputs": [
        {
          "output_type": "execute_result",
          "data": {
            "text/html": [
              "<div>\n",
              "<style scoped>\n",
              "    .dataframe tbody tr th:only-of-type {\n",
              "        vertical-align: middle;\n",
              "    }\n",
              "\n",
              "    .dataframe tbody tr th {\n",
              "        vertical-align: top;\n",
              "    }\n",
              "\n",
              "    .dataframe thead th {\n",
              "        text-align: right;\n",
              "    }\n",
              "</style>\n",
              "<table border=\"1\" class=\"dataframe\">\n",
              "  <thead>\n",
              "    <tr style=\"text-align: right;\">\n",
              "      <th></th>\n",
              "      <th>stars</th>\n",
              "    </tr>\n",
              "  </thead>\n",
              "  <tbody>\n",
              "    <tr>\n",
              "      <th>count</th>\n",
              "      <td>435785.000000</td>\n",
              "    </tr>\n",
              "    <tr>\n",
              "      <th>mean</th>\n",
              "      <td>3.620971</td>\n",
              "    </tr>\n",
              "    <tr>\n",
              "      <th>std</th>\n",
              "      <td>1.270781</td>\n",
              "    </tr>\n",
              "    <tr>\n",
              "      <th>min</th>\n",
              "      <td>1.000000</td>\n",
              "    </tr>\n",
              "    <tr>\n",
              "      <th>25%</th>\n",
              "      <td>3.000000</td>\n",
              "    </tr>\n",
              "    <tr>\n",
              "      <th>50%</th>\n",
              "      <td>4.000000</td>\n",
              "    </tr>\n",
              "    <tr>\n",
              "      <th>75%</th>\n",
              "      <td>5.000000</td>\n",
              "    </tr>\n",
              "    <tr>\n",
              "      <th>max</th>\n",
              "      <td>5.000000</td>\n",
              "    </tr>\n",
              "  </tbody>\n",
              "</table>\n",
              "</div>"
            ],
            "text/plain": [
              "               stars\n",
              "count  435785.000000\n",
              "mean        3.620971\n",
              "std         1.270781\n",
              "min         1.000000\n",
              "25%         3.000000\n",
              "50%         4.000000\n",
              "75%         5.000000\n",
              "max         5.000000"
            ]
          },
          "metadata": {
            "tags": []
          },
          "execution_count": 11
        }
      ]
    },
    {
      "cell_type": "code",
      "metadata": {
        "id": "ODJGjSMxHAkA",
        "colab_type": "code",
        "outputId": "6bd91cb8-a100-42b4-f5c4-7b26edce2fe6",
        "colab": {
          "base_uri": "https://localhost:8080/",
          "height": 34
        }
      },
      "source": [
        "np.mean(revT.user_id.value_counts()>20)"
      ],
      "execution_count": 0,
      "outputs": [
        {
          "output_type": "execute_result",
          "data": {
            "text/plain": [
              "0.03583621366017091"
            ]
          },
          "metadata": {
            "tags": []
          },
          "execution_count": 12
        }
      ]
    },
    {
      "cell_type": "code",
      "metadata": {
        "id": "AewCPYZoEMD3",
        "colab_type": "code",
        "outputId": "943fa6e5-a58a-46e0-e6ec-7f748cf15695",
        "colab": {
          "base_uri": "https://localhost:8080/",
          "height": 296
        }
      },
      "source": [
        "revT[revT.groupby('user_id').user_id.transform(\"size\") > 20].describe()"
      ],
      "execution_count": 0,
      "outputs": [
        {
          "output_type": "execute_result",
          "data": {
            "text/html": [
              "<div>\n",
              "<style scoped>\n",
              "    .dataframe tbody tr th:only-of-type {\n",
              "        vertical-align: middle;\n",
              "    }\n",
              "\n",
              "    .dataframe tbody tr th {\n",
              "        vertical-align: top;\n",
              "    }\n",
              "\n",
              "    .dataframe thead th {\n",
              "        text-align: right;\n",
              "    }\n",
              "</style>\n",
              "<table border=\"1\" class=\"dataframe\">\n",
              "  <thead>\n",
              "    <tr style=\"text-align: right;\">\n",
              "      <th></th>\n",
              "      <th>stars</th>\n",
              "      <th>useful</th>\n",
              "      <th>funny</th>\n",
              "      <th>cool</th>\n",
              "    </tr>\n",
              "  </thead>\n",
              "  <tbody>\n",
              "    <tr>\n",
              "      <th>count</th>\n",
              "      <td>188335.000000</td>\n",
              "      <td>188335.000000</td>\n",
              "      <td>188335.000000</td>\n",
              "      <td>188335.000000</td>\n",
              "    </tr>\n",
              "    <tr>\n",
              "      <th>mean</th>\n",
              "      <td>3.601375</td>\n",
              "      <td>1.615287</td>\n",
              "      <td>0.599135</td>\n",
              "      <td>0.857881</td>\n",
              "    </tr>\n",
              "    <tr>\n",
              "      <th>std</th>\n",
              "      <td>1.082003</td>\n",
              "      <td>3.443397</td>\n",
              "      <td>2.165953</td>\n",
              "      <td>2.748650</td>\n",
              "    </tr>\n",
              "    <tr>\n",
              "      <th>min</th>\n",
              "      <td>1.000000</td>\n",
              "      <td>0.000000</td>\n",
              "      <td>0.000000</td>\n",
              "      <td>0.000000</td>\n",
              "    </tr>\n",
              "    <tr>\n",
              "      <th>25%</th>\n",
              "      <td>3.000000</td>\n",
              "      <td>0.000000</td>\n",
              "      <td>0.000000</td>\n",
              "      <td>0.000000</td>\n",
              "    </tr>\n",
              "    <tr>\n",
              "      <th>50%</th>\n",
              "      <td>4.000000</td>\n",
              "      <td>1.000000</td>\n",
              "      <td>0.000000</td>\n",
              "      <td>0.000000</td>\n",
              "    </tr>\n",
              "    <tr>\n",
              "      <th>75%</th>\n",
              "      <td>4.000000</td>\n",
              "      <td>2.000000</td>\n",
              "      <td>1.000000</td>\n",
              "      <td>1.000000</td>\n",
              "    </tr>\n",
              "    <tr>\n",
              "      <th>max</th>\n",
              "      <td>5.000000</td>\n",
              "      <td>110.000000</td>\n",
              "      <td>264.000000</td>\n",
              "      <td>110.000000</td>\n",
              "    </tr>\n",
              "  </tbody>\n",
              "</table>\n",
              "</div>"
            ],
            "text/plain": [
              "               stars         useful          funny           cool\n",
              "count  188335.000000  188335.000000  188335.000000  188335.000000\n",
              "mean        3.601375       1.615287       0.599135       0.857881\n",
              "std         1.082003       3.443397       2.165953       2.748650\n",
              "min         1.000000       0.000000       0.000000       0.000000\n",
              "25%         3.000000       0.000000       0.000000       0.000000\n",
              "50%         4.000000       1.000000       0.000000       0.000000\n",
              "75%         4.000000       2.000000       1.000000       1.000000\n",
              "max         5.000000     110.000000     264.000000     110.000000"
            ]
          },
          "metadata": {
            "tags": []
          },
          "execution_count": 13
        }
      ]
    },
    {
      "cell_type": "markdown",
      "metadata": {
        "id": "EbZizbolHJyM",
        "colab_type": "text"
      },
      "source": [
        "We will keep only those users who have at least rated 5 restaurants"
      ]
    },
    {
      "cell_type": "code",
      "metadata": {
        "id": "OjxpLUc2HJLb",
        "colab_type": "code",
        "colab": {}
      },
      "source": [
        "revT = revT[revT.groupby('user_id').user_id.transform(\"size\") > 20]"
      ],
      "execution_count": 0,
      "outputs": []
    },
    {
      "cell_type": "code",
      "metadata": {
        "id": "kI3cPMQtKprN",
        "colab_type": "code",
        "outputId": "288449a1-2d33-4c78-b70c-4a430043e7df",
        "colab": {
          "base_uri": "https://localhost:8080/",
          "height": 34
        }
      },
      "source": [
        "revT.stars.isna().sum()"
      ],
      "execution_count": 11,
      "outputs": [
        {
          "output_type": "execute_result",
          "data": {
            "text/plain": [
              "0"
            ]
          },
          "metadata": {
            "tags": []
          },
          "execution_count": 11
        }
      ]
    },
    {
      "cell_type": "code",
      "metadata": {
        "id": "vmTQQnyFK8kT",
        "colab_type": "code",
        "colab": {}
      },
      "source": [
        "# revT.reset_index(inplace=True)"
      ],
      "execution_count": 0,
      "outputs": []
    },
    {
      "cell_type": "markdown",
      "metadata": {
        "id": "l7PgCOflAnD3",
        "colab_type": "text"
      },
      "source": [
        "# Collaborative Filtering"
      ]
    },
    {
      "cell_type": "code",
      "metadata": {
        "id": "YzBNZ7VVC9Cw",
        "colab_type": "code",
        "outputId": "10e4e662-bd94-4a55-f1d6-51366c60136b",
        "colab": {
          "base_uri": "https://localhost:8080/",
          "height": 316
        }
      },
      "source": [
        "!pip install surprise"
      ],
      "execution_count": 13,
      "outputs": [
        {
          "output_type": "stream",
          "text": [
            "Collecting surprise\n",
            "  Downloading https://files.pythonhosted.org/packages/61/de/e5cba8682201fcf9c3719a6fdda95693468ed061945493dea2dd37c5618b/surprise-0.1-py2.py3-none-any.whl\n",
            "Collecting scikit-surprise\n",
            "\u001b[?25l  Downloading https://files.pythonhosted.org/packages/f5/da/b5700d96495fb4f092be497f02492768a3d96a3f4fa2ae7dea46d4081cfa/scikit-surprise-1.1.0.tar.gz (6.4MB)\n",
            "\u001b[K     |████████████████████████████████| 6.5MB 3.5MB/s \n",
            "\u001b[?25hRequirement already satisfied: joblib>=0.11 in /usr/local/lib/python3.6/dist-packages (from scikit-surprise->surprise) (0.14.1)\n",
            "Requirement already satisfied: numpy>=1.11.2 in /usr/local/lib/python3.6/dist-packages (from scikit-surprise->surprise) (1.17.4)\n",
            "Requirement already satisfied: scipy>=1.0.0 in /usr/local/lib/python3.6/dist-packages (from scikit-surprise->surprise) (1.3.3)\n",
            "Requirement already satisfied: six>=1.10.0 in /usr/local/lib/python3.6/dist-packages (from scikit-surprise->surprise) (1.12.0)\n",
            "Building wheels for collected packages: scikit-surprise\n",
            "  Building wheel for scikit-surprise (setup.py) ... \u001b[?25l\u001b[?25hdone\n",
            "  Created wheel for scikit-surprise: filename=scikit_surprise-1.1.0-cp36-cp36m-linux_x86_64.whl size=1678229 sha256=f0144a375dd1274ebc74d2655a01c0803d955842344855498affdd1c80467a8a\n",
            "  Stored in directory: /root/.cache/pip/wheels/cc/fa/8c/16c93fccce688ae1bde7d979ff102f7bee980d9cfeb8641bcf\n",
            "Successfully built scikit-surprise\n",
            "Installing collected packages: scikit-surprise, surprise\n",
            "Successfully installed scikit-surprise-1.1.0 surprise-0.1\n"
          ],
          "name": "stdout"
        }
      ]
    },
    {
      "cell_type": "code",
      "metadata": {
        "id": "sP_xttwPC-tq",
        "colab_type": "code",
        "colab": {}
      },
      "source": [
        "import numpy as np\n",
        "from surprise import Dataset, Reader\n",
        "from surprise import SVD,NMF\n",
        "from surprise import accuracy\n",
        "from surprise.model_selection import cross_validate, train_test_split\n",
        "from surprise.prediction_algorithms import Prediction\n",
        "import random\n",
        "from surprise.model_selection import GridSearchCV"
      ],
      "execution_count": 0,
      "outputs": []
    },
    {
      "cell_type": "code",
      "metadata": {
        "id": "r5_I1r7F_Qhb",
        "colab_type": "code",
        "colab": {}
      },
      "source": [
        "# Instantiate a 'Reader' to read in the data so Surprise can use it\n",
        "reader = Reader(rating_scale=(1, 5))\n",
        "\n",
        "# The columns must correspond to user id, item id and ratings (in that order).\n",
        "data = Dataset.load_from_df(revT[['user_id', 'business_id', 'stars']], reader)"
      ],
      "execution_count": 0,
      "outputs": []
    },
    {
      "cell_type": "markdown",
      "metadata": {
        "id": "MGA2DL9P3R-Q",
        "colab_type": "text"
      },
      "source": [
        "Default Testing"
      ]
    },
    {
      "cell_type": "code",
      "metadata": {
        "id": "6oN-74Di3Qk3",
        "colab_type": "code",
        "colab": {
          "base_uri": "https://localhost:8080/",
          "height": 348
        },
        "outputId": "1ee221c2-b15e-4b35-fc41-031a448d7d6c"
      },
      "source": [
        "# Using SVD\n",
        "# Run 5-fold cross-validation and print results\n",
        "cv = cross_validate(SVD(), data, measures=['RMSE', 'MAE'], cv=5, verbose=True)\n",
        "cv"
      ],
      "execution_count": 94,
      "outputs": [
        {
          "output_type": "stream",
          "text": [
            "Evaluating RMSE, MAE of algorithm SVD on 5 split(s).\n",
            "\n",
            "                  Fold 1  Fold 2  Fold 3  Fold 4  Fold 5  Mean    Std     \n",
            "RMSE (testset)    0.9747  0.9808  0.9712  0.9798  0.9753  0.9763  0.0035  \n",
            "MAE (testset)     0.7666  0.7736  0.7650  0.7714  0.7673  0.7688  0.0032  \n",
            "Fit time          7.83    7.83    7.86    7.98    8.00    7.90    0.08    \n",
            "Test time         0.23    0.40    0.41    0.25    0.24    0.31    0.08    \n"
          ],
          "name": "stdout"
        },
        {
          "output_type": "execute_result",
          "data": {
            "text/plain": [
              "{'fit_time': (7.828795909881592,\n",
              "  7.827090263366699,\n",
              "  7.859078884124756,\n",
              "  7.976368188858032,\n",
              "  8.00381875038147),\n",
              " 'test_mae': array([0.76657323, 0.7735627 , 0.7650333 , 0.77139657, 0.7673371 ]),\n",
              " 'test_rmse': array([0.97467281, 0.98077223, 0.97118949, 0.97982895, 0.97526366]),\n",
              " 'test_time': (0.23373961448669434,\n",
              "  0.40291500091552734,\n",
              "  0.41225218772888184,\n",
              "  0.24533581733703613,\n",
              "  0.23750090599060059)}"
            ]
          },
          "metadata": {
            "tags": []
          },
          "execution_count": 94
        }
      ]
    },
    {
      "cell_type": "markdown",
      "metadata": {
        "id": "aqc2oxoY3Rnl",
        "colab_type": "text"
      },
      "source": [
        "Custom Cross validation to decide parameters"
      ]
    },
    {
      "cell_type": "code",
      "metadata": {
        "id": "5XH4RSp7N2-s",
        "colab_type": "code",
        "colab": {}
      },
      "source": [
        "param_grid = {'n_epochs': [20,40], 'n_factors':[20,30,40], 'reg_all':[0.08], 'verbose': ['True']}"
      ],
      "execution_count": 0,
      "outputs": []
    },
    {
      "cell_type": "code",
      "metadata": {
        "id": "ABtyVj9sN4Aq",
        "colab_type": "code",
        "colab": {}
      },
      "source": [
        "gs = GridSearchCV(SVD, param_grid, measures=['rmse', 'mae'], cv=5,return_train_measures=True,refit=True)"
      ],
      "execution_count": 0,
      "outputs": []
    },
    {
      "cell_type": "code",
      "metadata": {
        "id": "DPva-FxjN6Kx",
        "colab_type": "code",
        "colab": {}
      },
      "source": [
        "gs.fit(data)"
      ],
      "execution_count": 0,
      "outputs": []
    },
    {
      "cell_type": "code",
      "metadata": {
        "id": "kLGR-4BCOSXq",
        "colab_type": "code",
        "colab": {}
      },
      "source": [
        "results = gs.cv_results"
      ],
      "execution_count": 0,
      "outputs": []
    },
    {
      "cell_type": "code",
      "metadata": {
        "id": "wucdpzkVWgRk",
        "colab_type": "code",
        "colab": {}
      },
      "source": [
        "results_df = pd.DataFrame.from_dict(gs.cv_results)\n",
        "results_df.to_csv('svd_results3.csv')"
      ],
      "execution_count": 0,
      "outputs": []
    },
    {
      "cell_type": "code",
      "metadata": {
        "id": "KgaYbGaJFbH7",
        "colab_type": "code",
        "colab": {}
      },
      "source": [
        "results_df = pd.read_csv(\"svd_results2.csv\")\n",
        "results_df.drop(columns=\"Unnamed: 0\",inplace = True)"
      ],
      "execution_count": 0,
      "outputs": []
    },
    {
      "cell_type": "code",
      "metadata": {
        "id": "2ccCu650Cxoc",
        "colab_type": "code",
        "colab": {}
      },
      "source": [
        "results_df.sort_values(by='mean_test_rmse').head()"
      ],
      "execution_count": 0,
      "outputs": []
    },
    {
      "cell_type": "code",
      "metadata": {
        "id": "qlKBvWhjWgwe",
        "colab_type": "code",
        "colab": {}
      },
      "source": [
        "results_df.sort_values(by='mean_test_rmse').head()"
      ],
      "execution_count": 0,
      "outputs": []
    },
    {
      "cell_type": "code",
      "metadata": {
        "id": "eqvqFkCgAZqZ",
        "colab_type": "code",
        "colab": {}
      },
      "source": [
        "results_df1 = pd.read_csv(\"svd_results.csv\")\n",
        "results_df1.drop(columns=\"Unnamed: 0\",inplace = True)\n",
        "results_df1.sort_values(by='mean_test_rmse').head()"
      ],
      "execution_count": 0,
      "outputs": []
    },
    {
      "cell_type": "markdown",
      "metadata": {
        "id": "XjIeCa76kWrU",
        "colab_type": "text"
      },
      "source": [
        "Now we know the best parameters, we can make test train dataset and check the predicted values which is [40 iterations, 30 factors, 0.08 regularization]"
      ]
    },
    {
      "cell_type": "code",
      "metadata": {
        "id": "CbQg98X2cFal",
        "colab_type": "code",
        "colab": {}
      },
      "source": [
        "trainset, testset = train_test_split(data, test_size=.20)"
      ],
      "execution_count": 0,
      "outputs": []
    },
    {
      "cell_type": "code",
      "metadata": {
        "id": "Tis-RDC3jYAr",
        "colab_type": "code",
        "colab": {}
      },
      "source": [
        "train = pd.DataFrame(trainset.build_testset().copy(),columns=[\"user_id\",\"business_id\",\"stars\"])"
      ],
      "execution_count": 0,
      "outputs": []
    },
    {
      "cell_type": "code",
      "metadata": {
        "id": "cF0YCZyxXkIe",
        "colab_type": "code",
        "colab": {}
      },
      "source": [
        "test = pd.DataFrame(testset.copy(),columns=[\"user_id\",\"business_id\",\"stars\"])"
      ],
      "execution_count": 0,
      "outputs": []
    },
    {
      "cell_type": "code",
      "metadata": {
        "id": "H0JaZfljk46X",
        "colab_type": "code",
        "colab": {}
      },
      "source": [
        "gs.best_params[\"rmse\"]"
      ],
      "execution_count": 0,
      "outputs": []
    },
    {
      "cell_type": "code",
      "metadata": {
        "id": "iQYsY1M5aPNa",
        "colab_type": "code",
        "colab": {}
      },
      "source": [
        "algo = SVD(biased=True, n_epochs=40,n_factors=30 ,reg_all=0.08,verbose=False)"
      ],
      "execution_count": 0,
      "outputs": []
    },
    {
      "cell_type": "code",
      "metadata": {
        "id": "5w0or4TJcuYN",
        "colab_type": "code",
        "outputId": "9794ede4-f2d4-47d0-d87f-c44bc83c7662",
        "colab": {
          "base_uri": "https://localhost:8080/",
          "height": 34
        }
      },
      "source": [
        "algo.fit(trainset)"
      ],
      "execution_count": 35,
      "outputs": [
        {
          "output_type": "execute_result",
          "data": {
            "text/plain": [
              "<surprise.prediction_algorithms.matrix_factorization.SVD at 0x7f02f72b09e8>"
            ]
          },
          "metadata": {
            "tags": []
          },
          "execution_count": 35
        }
      ]
    },
    {
      "cell_type": "code",
      "metadata": {
        "id": "V8HIHEuqlhPk",
        "colab_type": "code",
        "colab": {}
      },
      "source": [
        "predictions = algo.test(testset)"
      ],
      "execution_count": 0,
      "outputs": []
    },
    {
      "cell_type": "code",
      "metadata": {
        "id": "Ce2GRTaElk5z",
        "colab_type": "code",
        "outputId": "5da93a99-8684-447b-cdb3-a9b488e86877",
        "colab": {
          "base_uri": "https://localhost:8080/",
          "height": 52
        }
      },
      "source": [
        "accuracy.rmse(predictions)"
      ],
      "execution_count": 37,
      "outputs": [
        {
          "output_type": "stream",
          "text": [
            "RMSE: 0.9663\n"
          ],
          "name": "stdout"
        },
        {
          "output_type": "execute_result",
          "data": {
            "text/plain": [
              "0.966254663669857"
            ]
          },
          "metadata": {
            "tags": []
          },
          "execution_count": 37
        }
      ]
    },
    {
      "cell_type": "code",
      "metadata": {
        "id": "iJ-tV_2s7mi1",
        "colab_type": "code",
        "colab": {}
      },
      "source": [
        "testset2 = trainset.build_testset()"
      ],
      "execution_count": 0,
      "outputs": []
    },
    {
      "cell_type": "code",
      "metadata": {
        "id": "Ly6PO_Dc7wpa",
        "colab_type": "code",
        "colab": {}
      },
      "source": [
        "predictions2 = algo.test(testset2)"
      ],
      "execution_count": 0,
      "outputs": []
    },
    {
      "cell_type": "code",
      "metadata": {
        "id": "IBJ76Gw27ze5",
        "colab_type": "code",
        "colab": {
          "base_uri": "https://localhost:8080/",
          "height": 52
        },
        "outputId": "c246856f-15b5-432a-ccf4-b20dd7d3f363"
      },
      "source": [
        "accuracy.rmse(predictions2)"
      ],
      "execution_count": 40,
      "outputs": [
        {
          "output_type": "stream",
          "text": [
            "RMSE: 0.8037\n"
          ],
          "name": "stdout"
        },
        {
          "output_type": "execute_result",
          "data": {
            "text/plain": [
              "0.8037386016494171"
            ]
          },
          "metadata": {
            "tags": []
          },
          "execution_count": 40
        }
      ]
    },
    {
      "cell_type": "markdown",
      "metadata": {
        "id": "IkYlb4NDE5A-",
        "colab_type": "text"
      },
      "source": [
        "This is similar to mean RMSE obtained during cross validation"
      ]
    },
    {
      "cell_type": "markdown",
      "metadata": {
        "colab_type": "text",
        "id": "Otd1f5cRUXNP"
      },
      "source": [
        "Full trainset"
      ]
    },
    {
      "cell_type": "code",
      "metadata": {
        "colab_type": "code",
        "id": "xY168jCNUXNN",
        "colab": {}
      },
      "source": [
        "# Retrieve the trainset.\n",
        "trainset1 = data.build_full_trainset()"
      ],
      "execution_count": 0,
      "outputs": []
    },
    {
      "cell_type": "code",
      "metadata": {
        "colab_type": "code",
        "id": "G0BunclhWGyo",
        "colab": {}
      },
      "source": [
        "algo1 = SVD(biased=True, n_epochs=40,n_factors=30 ,reg_all=0.08,verbose=False)"
      ],
      "execution_count": 0,
      "outputs": []
    },
    {
      "cell_type": "code",
      "metadata": {
        "colab_type": "code",
        "outputId": "e374a40d-6cd4-48ee-eea0-dc922d12e08f",
        "id": "b3WT9crdWGyu",
        "colab": {
          "base_uri": "https://localhost:8080/",
          "height": 34
        }
      },
      "source": [
        "algo1.fit(trainset1)"
      ],
      "execution_count": 40,
      "outputs": [
        {
          "output_type": "execute_result",
          "data": {
            "text/plain": [
              "<surprise.prediction_algorithms.matrix_factorization.SVD at 0x7f0b1686b0f0>"
            ]
          },
          "metadata": {
            "tags": []
          },
          "execution_count": 40
        }
      ]
    },
    {
      "cell_type": "code",
      "metadata": {
        "id": "jeHS2V_ZWlmG",
        "colab_type": "code",
        "colab": {}
      },
      "source": [
        "_, testset1 = train_test_split(data, test_size=1)"
      ],
      "execution_count": 0,
      "outputs": []
    },
    {
      "cell_type": "code",
      "metadata": {
        "id": "cYS4Vva5WC0P",
        "colab_type": "code",
        "colab": {}
      },
      "source": [
        "pred1 = algo1.test(testset1)"
      ],
      "execution_count": 0,
      "outputs": []
    },
    {
      "cell_type": "code",
      "metadata": {
        "id": "8RiDH_bRXQM_",
        "colab_type": "code",
        "colab": {
          "base_uri": "https://localhost:8080/",
          "height": 52
        },
        "outputId": "06c70547-f5d8-46c6-fb6d-066e9ee691f1"
      },
      "source": [
        "accuracy.rmse(pred1)"
      ],
      "execution_count": 55,
      "outputs": [
        {
          "output_type": "stream",
          "text": [
            "RMSE: 1.5586\n"
          ],
          "name": "stdout"
        },
        {
          "output_type": "execute_result",
          "data": {
            "text/plain": [
              "1.5586080331321792"
            ]
          },
          "metadata": {
            "tags": []
          },
          "execution_count": 55
        }
      ]
    },
    {
      "cell_type": "markdown",
      "metadata": {
        "id": "sAxfHixzl3ka",
        "colab_type": "text"
      },
      "source": [
        "# Baseline"
      ]
    },
    {
      "cell_type": "code",
      "metadata": {
        "id": "rLdgphCQl2ve",
        "colab_type": "code",
        "colab": {}
      },
      "source": [
        "base1 = revT[[\"user_id\",\"business_id\",\"stars\"]]"
      ],
      "execution_count": 0,
      "outputs": []
    },
    {
      "cell_type": "code",
      "metadata": {
        "id": "Moq1sOc7NA_Y",
        "colab_type": "code",
        "colab": {}
      },
      "source": [
        "base1 = base1.merge(userT[[\"user_id\",\"average_stars\"]])"
      ],
      "execution_count": 0,
      "outputs": []
    },
    {
      "cell_type": "code",
      "metadata": {
        "id": "V3S41h-bRloa",
        "colab_type": "code",
        "colab": {}
      },
      "source": [
        "busT.rename(columns= {\"stars\":\"avg_bus_stars\"},inplace=True)"
      ],
      "execution_count": 0,
      "outputs": []
    },
    {
      "cell_type": "code",
      "metadata": {
        "id": "YuKB0ecgQ2Lk",
        "colab_type": "code",
        "colab": {}
      },
      "source": [
        "base1 = base1.merge(busT[[\"business_id\",\"avg_bus_stars\"]])"
      ],
      "execution_count": 0,
      "outputs": []
    },
    {
      "cell_type": "code",
      "metadata": {
        "id": "l-RYvrjlR-VN",
        "colab_type": "code",
        "colab": {}
      },
      "source": [
        "base1[\"avg_combined\"] = base1[[\"average_stars\",\"avg_bus_stars\"]].mean(axis=1)"
      ],
      "execution_count": 0,
      "outputs": []
    },
    {
      "cell_type": "code",
      "metadata": {
        "id": "T_pUMTksSWlJ",
        "colab_type": "code",
        "colab": {
          "base_uri": "https://localhost:8080/",
          "height": 418
        },
        "outputId": "091df148-3d5c-45e9-c2c2-b58a60897b8c"
      },
      "source": [
        "base1"
      ],
      "execution_count": 31,
      "outputs": [
        {
          "output_type": "execute_result",
          "data": {
            "text/html": [
              "<div>\n",
              "<style scoped>\n",
              "    .dataframe tbody tr th:only-of-type {\n",
              "        vertical-align: middle;\n",
              "    }\n",
              "\n",
              "    .dataframe tbody tr th {\n",
              "        vertical-align: top;\n",
              "    }\n",
              "\n",
              "    .dataframe thead th {\n",
              "        text-align: right;\n",
              "    }\n",
              "</style>\n",
              "<table border=\"1\" class=\"dataframe\">\n",
              "  <thead>\n",
              "    <tr style=\"text-align: right;\">\n",
              "      <th></th>\n",
              "      <th>user_id</th>\n",
              "      <th>business_id</th>\n",
              "      <th>stars</th>\n",
              "      <th>average_stars</th>\n",
              "      <th>avg_bus_stars</th>\n",
              "      <th>avg_combined</th>\n",
              "    </tr>\n",
              "  </thead>\n",
              "  <tbody>\n",
              "    <tr>\n",
              "      <th>0</th>\n",
              "      <td>TpyOT5E16YASd7EWjLQlrw</td>\n",
              "      <td>AakkkTuGZA2KBodKi2_u8A</td>\n",
              "      <td>1</td>\n",
              "      <td>3.75</td>\n",
              "      <td>3.5</td>\n",
              "      <td>3.625</td>\n",
              "    </tr>\n",
              "    <tr>\n",
              "      <th>1</th>\n",
              "      <td>TpyOT5E16YASd7EWjLQlrw</td>\n",
              "      <td>AakkkTuGZA2KBodKi2_u8A</td>\n",
              "      <td>4</td>\n",
              "      <td>3.75</td>\n",
              "      <td>3.5</td>\n",
              "      <td>3.625</td>\n",
              "    </tr>\n",
              "    <tr>\n",
              "      <th>2</th>\n",
              "      <td>G-9ujgKmc1J2k7HSqXszsw</td>\n",
              "      <td>AakkkTuGZA2KBodKi2_u8A</td>\n",
              "      <td>3</td>\n",
              "      <td>3.31</td>\n",
              "      <td>3.5</td>\n",
              "      <td>3.405</td>\n",
              "    </tr>\n",
              "    <tr>\n",
              "      <th>3</th>\n",
              "      <td>rcUun0KBLWNWz05Q1StMAQ</td>\n",
              "      <td>AakkkTuGZA2KBodKi2_u8A</td>\n",
              "      <td>5</td>\n",
              "      <td>3.11</td>\n",
              "      <td>3.5</td>\n",
              "      <td>3.305</td>\n",
              "    </tr>\n",
              "    <tr>\n",
              "      <th>4</th>\n",
              "      <td>CxDOIDnH8gp9KXzpBHJYXw</td>\n",
              "      <td>AakkkTuGZA2KBodKi2_u8A</td>\n",
              "      <td>3</td>\n",
              "      <td>3.32</td>\n",
              "      <td>3.5</td>\n",
              "      <td>3.410</td>\n",
              "    </tr>\n",
              "    <tr>\n",
              "      <th>...</th>\n",
              "      <td>...</td>\n",
              "      <td>...</td>\n",
              "      <td>...</td>\n",
              "      <td>...</td>\n",
              "      <td>...</td>\n",
              "      <td>...</td>\n",
              "    </tr>\n",
              "    <tr>\n",
              "      <th>188330</th>\n",
              "      <td>msrPAk1F27MUDGZ5B8SKkw</td>\n",
              "      <td>iFWgJ0zmVJ27IeyHcdm1kw</td>\n",
              "      <td>5</td>\n",
              "      <td>3.88</td>\n",
              "      <td>4.0</td>\n",
              "      <td>3.940</td>\n",
              "    </tr>\n",
              "    <tr>\n",
              "      <th>188331</th>\n",
              "      <td>g_SAgyVPSs_Sf3vtEKVFnA</td>\n",
              "      <td>buqepzYPSr2wVvRvKCHdTw</td>\n",
              "      <td>5</td>\n",
              "      <td>3.95</td>\n",
              "      <td>4.5</td>\n",
              "      <td>4.225</td>\n",
              "    </tr>\n",
              "    <tr>\n",
              "      <th>188332</th>\n",
              "      <td>g_SAgyVPSs_Sf3vtEKVFnA</td>\n",
              "      <td>gjApIizKmVgkNFMwPyn4uA</td>\n",
              "      <td>1</td>\n",
              "      <td>3.95</td>\n",
              "      <td>2.0</td>\n",
              "      <td>2.975</td>\n",
              "    </tr>\n",
              "    <tr>\n",
              "      <th>188333</th>\n",
              "      <td>6jMiVZXi2R6appV9VuDGxw</td>\n",
              "      <td>BSZlx3BkFCeFptrNWdEGJQ</td>\n",
              "      <td>5</td>\n",
              "      <td>3.76</td>\n",
              "      <td>4.0</td>\n",
              "      <td>3.880</td>\n",
              "    </tr>\n",
              "    <tr>\n",
              "      <th>188334</th>\n",
              "      <td>h_2NGTYvjOc38cjx90rM5Q</td>\n",
              "      <td>tNpjmubdCRNzDznBwjgRHA</td>\n",
              "      <td>4</td>\n",
              "      <td>3.67</td>\n",
              "      <td>2.5</td>\n",
              "      <td>3.085</td>\n",
              "    </tr>\n",
              "  </tbody>\n",
              "</table>\n",
              "<p>188335 rows × 6 columns</p>\n",
              "</div>"
            ],
            "text/plain": [
              "                       user_id  ... avg_combined\n",
              "0       TpyOT5E16YASd7EWjLQlrw  ...        3.625\n",
              "1       TpyOT5E16YASd7EWjLQlrw  ...        3.625\n",
              "2       G-9ujgKmc1J2k7HSqXszsw  ...        3.405\n",
              "3       rcUun0KBLWNWz05Q1StMAQ  ...        3.305\n",
              "4       CxDOIDnH8gp9KXzpBHJYXw  ...        3.410\n",
              "...                        ...  ...          ...\n",
              "188330  msrPAk1F27MUDGZ5B8SKkw  ...        3.940\n",
              "188331  g_SAgyVPSs_Sf3vtEKVFnA  ...        4.225\n",
              "188332  g_SAgyVPSs_Sf3vtEKVFnA  ...        2.975\n",
              "188333  6jMiVZXi2R6appV9VuDGxw  ...        3.880\n",
              "188334  h_2NGTYvjOc38cjx90rM5Q  ...        3.085\n",
              "\n",
              "[188335 rows x 6 columns]"
            ]
          },
          "metadata": {
            "tags": []
          },
          "execution_count": 31
        }
      ]
    },
    {
      "cell_type": "code",
      "metadata": {
        "id": "NjntyQPOS5gw",
        "colab_type": "code",
        "colab": {
          "base_uri": "https://localhost:8080/",
          "height": 34
        },
        "outputId": "ebb88d2d-016b-425c-8d32-2c3ddcbb6084"
      },
      "source": [
        "np.sqrt(np.mean(np.square(base1.stars - base1.avg_combined)))"
      ],
      "execution_count": 36,
      "outputs": [
        {
          "output_type": "execute_result",
          "data": {
            "text/plain": [
              "0.9607950520818624"
            ]
          },
          "metadata": {
            "tags": []
          },
          "execution_count": 36
        }
      ]
    },
    {
      "cell_type": "code",
      "metadata": {
        "id": "HfLZ5SjRYaYo",
        "colab_type": "code",
        "colab": {}
      },
      "source": [
        "base1_test = test.merge(base1[[\"user_id\",\"business_id\",\"avg_combined\"]],how='left')"
      ],
      "execution_count": 0,
      "outputs": []
    },
    {
      "cell_type": "code",
      "metadata": {
        "id": "0hKpFAFQYs9c",
        "colab_type": "code",
        "colab": {
          "base_uri": "https://localhost:8080/",
          "height": 418
        },
        "outputId": "bf106004-73b4-4558-fb8e-e86d042b10eb"
      },
      "source": [
        "base1_test"
      ],
      "execution_count": 86,
      "outputs": [
        {
          "output_type": "execute_result",
          "data": {
            "text/html": [
              "<div>\n",
              "<style scoped>\n",
              "    .dataframe tbody tr th:only-of-type {\n",
              "        vertical-align: middle;\n",
              "    }\n",
              "\n",
              "    .dataframe tbody tr th {\n",
              "        vertical-align: top;\n",
              "    }\n",
              "\n",
              "    .dataframe thead th {\n",
              "        text-align: right;\n",
              "    }\n",
              "</style>\n",
              "<table border=\"1\" class=\"dataframe\">\n",
              "  <thead>\n",
              "    <tr style=\"text-align: right;\">\n",
              "      <th></th>\n",
              "      <th>user_id</th>\n",
              "      <th>business_id</th>\n",
              "      <th>stars</th>\n",
              "      <th>avg_combined</th>\n",
              "    </tr>\n",
              "  </thead>\n",
              "  <tbody>\n",
              "    <tr>\n",
              "      <th>0</th>\n",
              "      <td>pVj37cy4Y6FfH9YIlEhsZA</td>\n",
              "      <td>bz07FlaDmxHV9ER-cF6XuA</td>\n",
              "      <td>2.0</td>\n",
              "      <td>3.515</td>\n",
              "    </tr>\n",
              "    <tr>\n",
              "      <th>1</th>\n",
              "      <td>kw-YtOKPXrRB2a9wRZlmzQ</td>\n",
              "      <td>zA6gnF5aPBGoOm6uIbKt-A</td>\n",
              "      <td>3.0</td>\n",
              "      <td>3.780</td>\n",
              "    </tr>\n",
              "    <tr>\n",
              "      <th>2</th>\n",
              "      <td>Ao-6FYE29-I8WwPg67806A</td>\n",
              "      <td>vHwE7OKl6W3M28a5uzJ0kg</td>\n",
              "      <td>4.0</td>\n",
              "      <td>3.275</td>\n",
              "    </tr>\n",
              "    <tr>\n",
              "      <th>3</th>\n",
              "      <td>T9f3M6hFs6R3ayRc0QCTwQ</td>\n",
              "      <td>QaxDKkqYTtVYZJcqBNTnvQ</td>\n",
              "      <td>2.0</td>\n",
              "      <td>3.760</td>\n",
              "    </tr>\n",
              "    <tr>\n",
              "      <th>4</th>\n",
              "      <td>-9MOrFh1va1SC9BBNlMTeQ</td>\n",
              "      <td>p4hzwmiBvq3Clj65JyPGSQ</td>\n",
              "      <td>1.0</td>\n",
              "      <td>2.860</td>\n",
              "    </tr>\n",
              "    <tr>\n",
              "      <th>...</th>\n",
              "      <td>...</td>\n",
              "      <td>...</td>\n",
              "      <td>...</td>\n",
              "      <td>...</td>\n",
              "    </tr>\n",
              "    <tr>\n",
              "      <th>41554</th>\n",
              "      <td>eSc8pCT0H1ThVV89dfq6Qw</td>\n",
              "      <td>h_4dPV9M9aYaBliH1Eoeeg</td>\n",
              "      <td>4.0</td>\n",
              "      <td>3.865</td>\n",
              "    </tr>\n",
              "    <tr>\n",
              "      <th>41555</th>\n",
              "      <td>yFddLTv9mTZloh1hhrjpkA</td>\n",
              "      <td>eZaCQPZYmETSNiHRagNu2g</td>\n",
              "      <td>5.0</td>\n",
              "      <td>3.715</td>\n",
              "    </tr>\n",
              "    <tr>\n",
              "      <th>41556</th>\n",
              "      <td>5Y0VGDQxeDJUHFvHj4Bg7g</td>\n",
              "      <td>9NMKFyr3Cw5wt_mlqv3U1g</td>\n",
              "      <td>1.0</td>\n",
              "      <td>3.365</td>\n",
              "    </tr>\n",
              "    <tr>\n",
              "      <th>41557</th>\n",
              "      <td>iJCtRAlSvxiUuKlVAnsq0A</td>\n",
              "      <td>nqTvE7ivdU23oUWdI01tOA</td>\n",
              "      <td>4.0</td>\n",
              "      <td>3.995</td>\n",
              "    </tr>\n",
              "    <tr>\n",
              "      <th>41558</th>\n",
              "      <td>9W73B44Iw8WslrTNB2CdCg</td>\n",
              "      <td>QyvDY1cMrj0EXKUiPs9A4w</td>\n",
              "      <td>3.0</td>\n",
              "      <td>3.435</td>\n",
              "    </tr>\n",
              "  </tbody>\n",
              "</table>\n",
              "<p>41559 rows × 4 columns</p>\n",
              "</div>"
            ],
            "text/plain": [
              "                      user_id             business_id  stars  avg_combined\n",
              "0      pVj37cy4Y6FfH9YIlEhsZA  bz07FlaDmxHV9ER-cF6XuA    2.0         3.515\n",
              "1      kw-YtOKPXrRB2a9wRZlmzQ  zA6gnF5aPBGoOm6uIbKt-A    3.0         3.780\n",
              "2      Ao-6FYE29-I8WwPg67806A  vHwE7OKl6W3M28a5uzJ0kg    4.0         3.275\n",
              "3      T9f3M6hFs6R3ayRc0QCTwQ  QaxDKkqYTtVYZJcqBNTnvQ    2.0         3.760\n",
              "4      -9MOrFh1va1SC9BBNlMTeQ  p4hzwmiBvq3Clj65JyPGSQ    1.0         2.860\n",
              "...                       ...                     ...    ...           ...\n",
              "41554  eSc8pCT0H1ThVV89dfq6Qw  h_4dPV9M9aYaBliH1Eoeeg    4.0         3.865\n",
              "41555  yFddLTv9mTZloh1hhrjpkA  eZaCQPZYmETSNiHRagNu2g    5.0         3.715\n",
              "41556  5Y0VGDQxeDJUHFvHj4Bg7g  9NMKFyr3Cw5wt_mlqv3U1g    1.0         3.365\n",
              "41557  iJCtRAlSvxiUuKlVAnsq0A  nqTvE7ivdU23oUWdI01tOA    4.0         3.995\n",
              "41558  9W73B44Iw8WslrTNB2CdCg  QyvDY1cMrj0EXKUiPs9A4w    3.0         3.435\n",
              "\n",
              "[41559 rows x 4 columns]"
            ]
          },
          "metadata": {
            "tags": []
          },
          "execution_count": 86
        }
      ]
    },
    {
      "cell_type": "code",
      "metadata": {
        "id": "CSmsDSN5ZTFH",
        "colab_type": "code",
        "colab": {
          "base_uri": "https://localhost:8080/",
          "height": 34
        },
        "outputId": "cd4fae0b-8409-418a-9186-dcc19ae3a87b"
      },
      "source": [
        "np.sqrt(np.mean(np.square(base1_test.stars - base1_test.avg_combined)))"
      ],
      "execution_count": 87,
      "outputs": [
        {
          "output_type": "execute_result",
          "data": {
            "text/plain": [
              "0.9648339635541202"
            ]
          },
          "metadata": {
            "tags": []
          },
          "execution_count": 87
        }
      ]
    },
    {
      "cell_type": "markdown",
      "metadata": {
        "id": "HmVQag9-Tt-M",
        "colab_type": "text"
      },
      "source": [
        "# NMF"
      ]
    },
    {
      "cell_type": "code",
      "metadata": {
        "colab_type": "code",
        "id": "FjKkY1gzdm0K",
        "colab": {
          "base_uri": "https://localhost:8080/",
          "height": 348
        },
        "outputId": "285d9c8d-0b4e-4e31-943a-1ac2d08e5018"
      },
      "source": [
        "# Using NMF\n",
        "# Run 5-fold cross-validation and print results\n",
        "cv = cross_validate(NMF(biased=True), data, measures=['RMSE', 'MAE'], cv=5, verbose=True)\n",
        "cv"
      ],
      "execution_count": 89,
      "outputs": [
        {
          "output_type": "stream",
          "text": [
            "Evaluating RMSE, MAE of algorithm NMF on 5 split(s).\n",
            "\n",
            "                  Fold 1  Fold 2  Fold 3  Fold 4  Fold 5  Mean    Std     \n",
            "RMSE (testset)    0.9873  0.9861  0.9810  0.9905  0.9887  0.9867  0.0032  \n",
            "MAE (testset)     0.7745  0.7718  0.7666  0.7756  0.7724  0.7722  0.0031  \n",
            "Fit time          8.68    9.08    8.97    8.98    8.94    8.93    0.13    \n",
            "Test time         0.23    0.23    0.24    0.38    0.38    0.29    0.07    \n"
          ],
          "name": "stdout"
        },
        {
          "output_type": "execute_result",
          "data": {
            "text/plain": [
              "{'fit_time': (8.678798913955688,\n",
              "  9.077225923538208,\n",
              "  8.96810793876648,\n",
              "  8.980125188827515,\n",
              "  8.941279649734497),\n",
              " 'test_mae': array([0.77450572, 0.77183376, 0.76664209, 0.77558136, 0.7724347 ]),\n",
              " 'test_rmse': array([0.98727446, 0.98612188, 0.98099525, 0.99049869, 0.98866199]),\n",
              " 'test_time': (0.23005890846252441,\n",
              "  0.23060083389282227,\n",
              "  0.2426769733428955,\n",
              "  0.3785836696624756,\n",
              "  0.38051724433898926)}"
            ]
          },
          "metadata": {
            "tags": []
          },
          "execution_count": 89
        }
      ]
    },
    {
      "cell_type": "code",
      "metadata": {
        "colab_type": "code",
        "id": "nY8Sm9_odjMW",
        "colab": {}
      },
      "source": [
        "algo2 = NMF(biased=True)"
      ],
      "execution_count": 0,
      "outputs": []
    },
    {
      "cell_type": "code",
      "metadata": {
        "colab_type": "code",
        "outputId": "d756e7ca-424b-4b4f-8ee3-125bfd5bdfc1",
        "id": "A2F6Mp6WdjMa",
        "colab": {
          "base_uri": "https://localhost:8080/",
          "height": 34
        }
      },
      "source": [
        "algo2.fit(trainset)"
      ],
      "execution_count": 42,
      "outputs": [
        {
          "output_type": "execute_result",
          "data": {
            "text/plain": [
              "<surprise.prediction_algorithms.matrix_factorization.NMF at 0x7f02f72b03c8>"
            ]
          },
          "metadata": {
            "tags": []
          },
          "execution_count": 42
        }
      ]
    },
    {
      "cell_type": "code",
      "metadata": {
        "colab_type": "code",
        "id": "sfOsKGFAdjMc",
        "colab": {}
      },
      "source": [
        "pred2 = algo2.test(testset)"
      ],
      "execution_count": 0,
      "outputs": []
    },
    {
      "cell_type": "code",
      "metadata": {
        "colab_type": "code",
        "outputId": "4339279d-ef99-401d-8827-6313752d3c68",
        "id": "WgL7zrIPdjMd",
        "colab": {
          "base_uri": "https://localhost:8080/",
          "height": 52
        }
      },
      "source": [
        "accuracy.rmse(pred2)"
      ],
      "execution_count": 44,
      "outputs": [
        {
          "output_type": "stream",
          "text": [
            "RMSE: 0.9881\n"
          ],
          "name": "stdout"
        },
        {
          "output_type": "execute_result",
          "data": {
            "text/plain": [
              "0.9880822917548683"
            ]
          },
          "metadata": {
            "tags": []
          },
          "execution_count": 44
        }
      ]
    },
    {
      "cell_type": "code",
      "metadata": {
        "id": "Y3_h5BlB8Co3",
        "colab_type": "code",
        "colab": {}
      },
      "source": [
        "pred3 = algo2.test(testset2)"
      ],
      "execution_count": 0,
      "outputs": []
    },
    {
      "cell_type": "code",
      "metadata": {
        "id": "9dRvjG5q8KDH",
        "colab_type": "code",
        "colab": {
          "base_uri": "https://localhost:8080/",
          "height": 52
        },
        "outputId": "e5dcc5d3-f04c-401d-dd80-a672f71f931d"
      },
      "source": [
        "accuracy.rmse(pred3)"
      ],
      "execution_count": 46,
      "outputs": [
        {
          "output_type": "stream",
          "text": [
            "RMSE: 0.7290\n"
          ],
          "name": "stdout"
        },
        {
          "output_type": "execute_result",
          "data": {
            "text/plain": [
              "0.7290203715440694"
            ]
          },
          "metadata": {
            "tags": []
          },
          "execution_count": 46
        }
      ]
    },
    {
      "cell_type": "markdown",
      "metadata": {
        "id": "VJSdnGYTuI1S",
        "colab_type": "text"
      },
      "source": [
        "# Baseline 2"
      ]
    },
    {
      "cell_type": "code",
      "metadata": {
        "id": "iNJvTd8JuJ8u",
        "colab_type": "code",
        "colab": {}
      },
      "source": [
        "mean_bus = pd.DataFrame(train.groupby(\"business_id\").mean())"
      ],
      "execution_count": 0,
      "outputs": []
    },
    {
      "cell_type": "code",
      "metadata": {
        "id": "cHbzcU2IvMEx",
        "colab_type": "code",
        "colab": {}
      },
      "source": [
        "mean_usr = pd.DataFrame(train.groupby(\"user_id\").mean())"
      ],
      "execution_count": 0,
      "outputs": []
    },
    {
      "cell_type": "code",
      "metadata": {
        "id": "aSnOqToox_Tm",
        "colab_type": "code",
        "colab": {}
      },
      "source": [
        "mean_bus.reset_index(inplace=True)"
      ],
      "execution_count": 0,
      "outputs": []
    },
    {
      "cell_type": "code",
      "metadata": {
        "id": "0-jecuYlysz0",
        "colab_type": "code",
        "colab": {}
      },
      "source": [
        "mean_usr.reset_index(inplace=True)"
      ],
      "execution_count": 0,
      "outputs": []
    },
    {
      "cell_type": "code",
      "metadata": {
        "id": "_fRzBxqGxp7y",
        "colab_type": "code",
        "colab": {}
      },
      "source": [
        "mean_bus.rename(columns={\"stars\":\"avg_bus\"},inplace=True)"
      ],
      "execution_count": 0,
      "outputs": []
    },
    {
      "cell_type": "code",
      "metadata": {
        "id": "_6rrBHbyveTJ",
        "colab_type": "code",
        "colab": {}
      },
      "source": [
        "test = test.merge(mean_bus)"
      ],
      "execution_count": 0,
      "outputs": []
    },
    {
      "cell_type": "code",
      "metadata": {
        "id": "y8SAkgLMy6Yh",
        "colab_type": "code",
        "colab": {}
      },
      "source": [
        "mean_usr.rename(columns={\"stars\":\"avg_usr\"},inplace=True)"
      ],
      "execution_count": 0,
      "outputs": []
    },
    {
      "cell_type": "code",
      "metadata": {
        "id": "7JhUFHUuzTuL",
        "colab_type": "code",
        "colab": {}
      },
      "source": [
        "test = test.merge(mean_usr)"
      ],
      "execution_count": 0,
      "outputs": []
    },
    {
      "cell_type": "code",
      "metadata": {
        "id": "leuq9ZIOuXds",
        "colab_type": "code",
        "colab": {}
      },
      "source": [
        "test[\"avg_combined\"] = test[[\"avg_usr\",\"avg_bus\"]].mean(axis=1)"
      ],
      "execution_count": 0,
      "outputs": []
    },
    {
      "cell_type": "code",
      "metadata": {
        "id": "-jfduPmozkXD",
        "colab_type": "code",
        "colab": {
          "base_uri": "https://localhost:8080/",
          "height": 34
        },
        "outputId": "737d87f7-58ec-4d58-c57f-744f1e43e924"
      },
      "source": [
        "np.sqrt(np.mean(np.square(test.stars - test.avg_combined)))"
      ],
      "execution_count": 29,
      "outputs": [
        {
          "output_type": "execute_result",
          "data": {
            "text/plain": [
              "0.9805024253765215"
            ]
          },
          "metadata": {
            "tags": []
          },
          "execution_count": 29
        }
      ]
    },
    {
      "cell_type": "code",
      "metadata": {
        "id": "AuVer-J8zvtx",
        "colab_type": "code",
        "colab": {}
      },
      "source": [
        "train = train.merge(mean_bus)"
      ],
      "execution_count": 0,
      "outputs": []
    },
    {
      "cell_type": "code",
      "metadata": {
        "id": "ieMl1IBy5RJZ",
        "colab_type": "code",
        "colab": {}
      },
      "source": [
        "train = train.merge(mean_usr)"
      ],
      "execution_count": 0,
      "outputs": []
    },
    {
      "cell_type": "code",
      "metadata": {
        "colab_type": "code",
        "id": "5_vqb5Af7QLM",
        "colab": {}
      },
      "source": [
        "train[\"avg_combined\"] = train[[\"avg_usr\",\"avg_bus\"]].mean(axis=1)"
      ],
      "execution_count": 0,
      "outputs": []
    },
    {
      "cell_type": "code",
      "metadata": {
        "colab_type": "code",
        "outputId": "0f2e9040-05d5-4361-dfee-5081916e91cf",
        "id": "CnLfgxwy7QLO",
        "colab": {
          "base_uri": "https://localhost:8080/",
          "height": 34
        }
      },
      "source": [
        "np.sqrt(np.mean(np.square(train.stars - train.avg_combined)))"
      ],
      "execution_count": 33,
      "outputs": [
        {
          "output_type": "execute_result",
          "data": {
            "text/plain": [
              "0.9386134060432039"
            ]
          },
          "metadata": {
            "tags": []
          },
          "execution_count": 33
        }
      ]
    },
    {
      "cell_type": "code",
      "metadata": {
        "id": "8K6PE6id7NZE",
        "colab_type": "code",
        "colab": {}
      },
      "source": [
        ""
      ],
      "execution_count": 0,
      "outputs": []
    }
  ]
}