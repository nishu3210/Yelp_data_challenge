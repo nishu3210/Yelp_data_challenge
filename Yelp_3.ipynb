{
  "nbformat": 4,
  "nbformat_minor": 0,
  "metadata": {
    "colab": {
      "name": "Yelp 3.ipynb",
      "provenance": [],
      "collapsed_sections": [],
      "machine_shape": "hm",
      "include_colab_link": true
    },
    "kernelspec": {
      "name": "python3",
      "display_name": "Python 3"
    },
    "accelerator": "GPU"
  },
  "cells": [
    {
      "cell_type": "markdown",
      "metadata": {
        "id": "view-in-github",
        "colab_type": "text"
      },
      "source": [
        "<a href=\"https://colab.research.google.com/github/nishu3210/Yelp_data_challenge/blob/master/Yelp_3.ipynb\" target=\"_parent\"><img src=\"https://colab.research.google.com/assets/colab-badge.svg\" alt=\"Open In Colab\"/></a>"
      ]
    },
    {
      "cell_type": "markdown",
      "metadata": {
        "id": "n2G17LNcwYqm",
        "colab_type": "text"
      },
      "source": [
        "# Yelp Data Challenge\n",
        "Tasks: \\\\\n",
        "1. Recommendation using collaborative and content based filtering techniques. Also, use query generation and search techniques. \\\\\n",
        "2. Aspect Based Sentiment Analysis of user reviews (Proposed)"
      ]
    },
    {
      "cell_type": "markdown",
      "metadata": {
        "id": "YCgW4MASwP0c",
        "colab_type": "text"
      },
      "source": [
        "Mount Google Drive and load Yelp JSON data using Pandas"
      ]
    },
    {
      "cell_type": "code",
      "metadata": {
        "colab_type": "code",
        "outputId": "a16d8c28-11da-4c20-f9e0-1509c41c37b4",
        "id": "PYixXIHvhTet",
        "colab": {
          "base_uri": "https://localhost:8080/",
          "height": 34
        }
      },
      "source": [
        "from google.colab import drive\n",
        "drive.mount('/content/drive')"
      ],
      "execution_count": 1,
      "outputs": [
        {
          "output_type": "stream",
          "text": [
            "Drive already mounted at /content/drive; to attempt to forcibly remount, call drive.mount(\"/content/drive\", force_remount=True).\n"
          ],
          "name": "stdout"
        }
      ]
    },
    {
      "cell_type": "code",
      "metadata": {
        "id": "GsVESt5HaF9e",
        "colab_type": "code",
        "colab": {}
      },
      "source": [
        "import os"
      ],
      "execution_count": 0,
      "outputs": []
    },
    {
      "cell_type": "code",
      "metadata": {
        "id": "x_Vqu3yrad_p",
        "colab_type": "code",
        "colab": {}
      },
      "source": [
        "os.chdir(\"drive/My Drive/Yelp Data/\")"
      ],
      "execution_count": 0,
      "outputs": []
    },
    {
      "cell_type": "code",
      "metadata": {
        "id": "Is9ve3RIamjA",
        "colab_type": "code",
        "colab": {}
      },
      "source": [
        "import pandas as pd"
      ],
      "execution_count": 0,
      "outputs": []
    },
    {
      "cell_type": "markdown",
      "metadata": {
        "id": "bprA2MdWgDqp",
        "colab_type": "text"
      },
      "source": [
        "User Data"
      ]
    },
    {
      "cell_type": "code",
      "metadata": {
        "id": "b4hRs9Xtapf6",
        "colab_type": "code",
        "colab": {}
      },
      "source": [
        "user_chunk = pd.read_json(\"yelp_academic_dataset_user.json\", chunksize=1000000,orient = 'list' ,lines = True)"
      ],
      "execution_count": 0,
      "outputs": []
    },
    {
      "cell_type": "code",
      "metadata": {
        "id": "wEoEQBW-bQaD",
        "colab_type": "code",
        "colab": {}
      },
      "source": [
        "chunk_list = []\n",
        "# Each chunk is in df format\n",
        "for chunk in user_chunk:  \n",
        "    chunk_list.append(chunk)\n",
        "    \n",
        "# concat the list into dataframe \n",
        "user = pd.concat(chunk_list)"
      ],
      "execution_count": 0,
      "outputs": []
    },
    {
      "cell_type": "code",
      "metadata": {
        "id": "MsrnUVSKcTHa",
        "colab_type": "code",
        "colab": {}
      },
      "source": [
        "del chunk_list, chunk, user_chunk"
      ],
      "execution_count": 0,
      "outputs": []
    },
    {
      "cell_type": "code",
      "metadata": {
        "id": "qpYxdvIHbyEJ",
        "colab_type": "code",
        "outputId": "199e6e6b-8ef1-44e6-b1a9-ed0c3c11f30c",
        "colab": {
          "base_uri": "https://localhost:8080/",
          "height": 34
        }
      },
      "source": [
        "import gc\n",
        "gc.collect()"
      ],
      "execution_count": 8,
      "outputs": [
        {
          "output_type": "execute_result",
          "data": {
            "text/plain": [
              "0"
            ]
          },
          "metadata": {
            "tags": []
          },
          "execution_count": 8
        }
      ]
    },
    {
      "cell_type": "code",
      "metadata": {
        "id": "_-9UitZ9cR5R",
        "colab_type": "code",
        "outputId": "68e903cd-f0b4-4c60-a120-3a2887b763e4",
        "colab": {
          "base_uri": "https://localhost:8080/",
          "height": 308
        }
      },
      "source": [
        "user.head()"
      ],
      "execution_count": 9,
      "outputs": [
        {
          "output_type": "execute_result",
          "data": {
            "text/html": [
              "<div>\n",
              "<style scoped>\n",
              "    .dataframe tbody tr th:only-of-type {\n",
              "        vertical-align: middle;\n",
              "    }\n",
              "\n",
              "    .dataframe tbody tr th {\n",
              "        vertical-align: top;\n",
              "    }\n",
              "\n",
              "    .dataframe thead th {\n",
              "        text-align: right;\n",
              "    }\n",
              "</style>\n",
              "<table border=\"1\" class=\"dataframe\">\n",
              "  <thead>\n",
              "    <tr style=\"text-align: right;\">\n",
              "      <th></th>\n",
              "      <th>user_id</th>\n",
              "      <th>name</th>\n",
              "      <th>review_count</th>\n",
              "      <th>yelping_since</th>\n",
              "      <th>useful</th>\n",
              "      <th>funny</th>\n",
              "      <th>cool</th>\n",
              "      <th>elite</th>\n",
              "      <th>friends</th>\n",
              "      <th>fans</th>\n",
              "      <th>average_stars</th>\n",
              "      <th>compliment_hot</th>\n",
              "      <th>compliment_more</th>\n",
              "      <th>compliment_profile</th>\n",
              "      <th>compliment_cute</th>\n",
              "      <th>compliment_list</th>\n",
              "      <th>compliment_note</th>\n",
              "      <th>compliment_plain</th>\n",
              "      <th>compliment_cool</th>\n",
              "      <th>compliment_funny</th>\n",
              "      <th>compliment_writer</th>\n",
              "      <th>compliment_photos</th>\n",
              "    </tr>\n",
              "  </thead>\n",
              "  <tbody>\n",
              "    <tr>\n",
              "      <th>0</th>\n",
              "      <td>l6BmjZMeQD3rDxWUbiAiow</td>\n",
              "      <td>Rashmi</td>\n",
              "      <td>95</td>\n",
              "      <td>2013-10-08 23:11:33</td>\n",
              "      <td>84</td>\n",
              "      <td>17</td>\n",
              "      <td>25</td>\n",
              "      <td>2015,2016,2017</td>\n",
              "      <td>c78V-rj8NQcQjOI8KP3UEA, alRMgPcngYSCJ5naFRBz5g...</td>\n",
              "      <td>5</td>\n",
              "      <td>4.03</td>\n",
              "      <td>2</td>\n",
              "      <td>0</td>\n",
              "      <td>0</td>\n",
              "      <td>0</td>\n",
              "      <td>0</td>\n",
              "      <td>1</td>\n",
              "      <td>1</td>\n",
              "      <td>1</td>\n",
              "      <td>1</td>\n",
              "      <td>2</td>\n",
              "      <td>0</td>\n",
              "    </tr>\n",
              "    <tr>\n",
              "      <th>1</th>\n",
              "      <td>4XChL029mKr5hydo79Ljxg</td>\n",
              "      <td>Jenna</td>\n",
              "      <td>33</td>\n",
              "      <td>2013-02-21 22:29:06</td>\n",
              "      <td>48</td>\n",
              "      <td>22</td>\n",
              "      <td>16</td>\n",
              "      <td></td>\n",
              "      <td>kEBTgDvFX754S68FllfCaA, aB2DynOxNOJK9st2ZeGTPg...</td>\n",
              "      <td>4</td>\n",
              "      <td>3.63</td>\n",
              "      <td>1</td>\n",
              "      <td>0</td>\n",
              "      <td>0</td>\n",
              "      <td>0</td>\n",
              "      <td>0</td>\n",
              "      <td>0</td>\n",
              "      <td>0</td>\n",
              "      <td>1</td>\n",
              "      <td>1</td>\n",
              "      <td>0</td>\n",
              "      <td>0</td>\n",
              "    </tr>\n",
              "    <tr>\n",
              "      <th>2</th>\n",
              "      <td>bc8C_eETBWL0olvFSJJd0w</td>\n",
              "      <td>David</td>\n",
              "      <td>16</td>\n",
              "      <td>2013-10-04 00:16:10</td>\n",
              "      <td>28</td>\n",
              "      <td>8</td>\n",
              "      <td>10</td>\n",
              "      <td></td>\n",
              "      <td>4N-HU_T32hLENLntsNKNBg, pSY2vwWLgWfGVAAiKQzMng...</td>\n",
              "      <td>0</td>\n",
              "      <td>3.71</td>\n",
              "      <td>0</td>\n",
              "      <td>0</td>\n",
              "      <td>0</td>\n",
              "      <td>0</td>\n",
              "      <td>0</td>\n",
              "      <td>1</td>\n",
              "      <td>0</td>\n",
              "      <td>0</td>\n",
              "      <td>0</td>\n",
              "      <td>0</td>\n",
              "      <td>0</td>\n",
              "    </tr>\n",
              "    <tr>\n",
              "      <th>3</th>\n",
              "      <td>dD0gZpBctWGdWo9WlGuhlA</td>\n",
              "      <td>Angela</td>\n",
              "      <td>17</td>\n",
              "      <td>2014-05-22 15:57:30</td>\n",
              "      <td>30</td>\n",
              "      <td>4</td>\n",
              "      <td>14</td>\n",
              "      <td></td>\n",
              "      <td>RZ6wS38wnlXyj-OOdTzBxA, l5jxZh1KsgI8rMunm-GN6A...</td>\n",
              "      <td>5</td>\n",
              "      <td>4.85</td>\n",
              "      <td>1</td>\n",
              "      <td>0</td>\n",
              "      <td>0</td>\n",
              "      <td>0</td>\n",
              "      <td>0</td>\n",
              "      <td>0</td>\n",
              "      <td>2</td>\n",
              "      <td>0</td>\n",
              "      <td>0</td>\n",
              "      <td>1</td>\n",
              "      <td>0</td>\n",
              "    </tr>\n",
              "    <tr>\n",
              "      <th>4</th>\n",
              "      <td>MM4RJAeH6yuaN8oZDSt0RA</td>\n",
              "      <td>Nancy</td>\n",
              "      <td>361</td>\n",
              "      <td>2013-10-23 07:02:50</td>\n",
              "      <td>1114</td>\n",
              "      <td>279</td>\n",
              "      <td>665</td>\n",
              "      <td>2015,2016,2017,2018</td>\n",
              "      <td>mbwrZ-RS76V1HoJ0bF_Geg, g64lOV39xSLRZO0aQQ6DeQ...</td>\n",
              "      <td>39</td>\n",
              "      <td>4.08</td>\n",
              "      <td>28</td>\n",
              "      <td>1</td>\n",
              "      <td>0</td>\n",
              "      <td>0</td>\n",
              "      <td>1</td>\n",
              "      <td>16</td>\n",
              "      <td>57</td>\n",
              "      <td>80</td>\n",
              "      <td>80</td>\n",
              "      <td>25</td>\n",
              "      <td>5</td>\n",
              "    </tr>\n",
              "  </tbody>\n",
              "</table>\n",
              "</div>"
            ],
            "text/plain": [
              "                  user_id    name  ...  compliment_writer compliment_photos\n",
              "0  l6BmjZMeQD3rDxWUbiAiow  Rashmi  ...                  2                 0\n",
              "1  4XChL029mKr5hydo79Ljxg   Jenna  ...                  0                 0\n",
              "2  bc8C_eETBWL0olvFSJJd0w   David  ...                  0                 0\n",
              "3  dD0gZpBctWGdWo9WlGuhlA  Angela  ...                  1                 0\n",
              "4  MM4RJAeH6yuaN8oZDSt0RA   Nancy  ...                 25                 5\n",
              "\n",
              "[5 rows x 22 columns]"
            ]
          },
          "metadata": {
            "tags": []
          },
          "execution_count": 9
        }
      ]
    },
    {
      "cell_type": "markdown",
      "metadata": {
        "id": "jPQ0W35bgA2P",
        "colab_type": "text"
      },
      "source": [
        "Business"
      ]
    },
    {
      "cell_type": "code",
      "metadata": {
        "id": "FZhyPOYrcnJt",
        "colab_type": "code",
        "colab": {}
      },
      "source": [
        "bus_chunk = pd.read_json(\"yelp_academic_dataset_business.json\", chunksize=1000000,lines = True)"
      ],
      "execution_count": 0,
      "outputs": []
    },
    {
      "cell_type": "code",
      "metadata": {
        "id": "fdFpQjeFcqC2",
        "colab_type": "code",
        "colab": {}
      },
      "source": [
        "chunk_list = []\n",
        "# Each chunk is in df format\n",
        "for chunk in bus_chunk:  \n",
        "    chunk_list.append(chunk)\n",
        "    \n",
        "# concat the list into dataframe \n",
        "bus = pd.concat(chunk_list)"
      ],
      "execution_count": 0,
      "outputs": []
    },
    {
      "cell_type": "code",
      "metadata": {
        "id": "vzEZRtrIdojX",
        "colab_type": "code",
        "outputId": "8c055998-e296-4cfd-9186-0adbc5e8fb7b",
        "colab": {
          "base_uri": "https://localhost:8080/",
          "height": 34
        }
      },
      "source": [
        "del chunk_list, chunk, bus_chunk\n",
        "gc.collect()"
      ],
      "execution_count": 12,
      "outputs": [
        {
          "output_type": "execute_result",
          "data": {
            "text/plain": [
              "0"
            ]
          },
          "metadata": {
            "tags": []
          },
          "execution_count": 12
        }
      ]
    },
    {
      "cell_type": "code",
      "metadata": {
        "id": "s_nY_STAd0EB",
        "colab_type": "code",
        "outputId": "f98c5f91-02b2-4f66-8ca1-c4d2627fd82a",
        "colab": {
          "base_uri": "https://localhost:8080/",
          "height": 548
        }
      },
      "source": [
        "bus.head()"
      ],
      "execution_count": 13,
      "outputs": [
        {
          "output_type": "execute_result",
          "data": {
            "text/html": [
              "<div>\n",
              "<style scoped>\n",
              "    .dataframe tbody tr th:only-of-type {\n",
              "        vertical-align: middle;\n",
              "    }\n",
              "\n",
              "    .dataframe tbody tr th {\n",
              "        vertical-align: top;\n",
              "    }\n",
              "\n",
              "    .dataframe thead th {\n",
              "        text-align: right;\n",
              "    }\n",
              "</style>\n",
              "<table border=\"1\" class=\"dataframe\">\n",
              "  <thead>\n",
              "    <tr style=\"text-align: right;\">\n",
              "      <th></th>\n",
              "      <th>business_id</th>\n",
              "      <th>name</th>\n",
              "      <th>address</th>\n",
              "      <th>city</th>\n",
              "      <th>state</th>\n",
              "      <th>postal_code</th>\n",
              "      <th>latitude</th>\n",
              "      <th>longitude</th>\n",
              "      <th>stars</th>\n",
              "      <th>review_count</th>\n",
              "      <th>is_open</th>\n",
              "      <th>attributes</th>\n",
              "      <th>categories</th>\n",
              "      <th>hours</th>\n",
              "    </tr>\n",
              "  </thead>\n",
              "  <tbody>\n",
              "    <tr>\n",
              "      <th>0</th>\n",
              "      <td>1SWheh84yJXfytovILXOAQ</td>\n",
              "      <td>Arizona Biltmore Golf Club</td>\n",
              "      <td>2818 E Camino Acequia Drive</td>\n",
              "      <td>Phoenix</td>\n",
              "      <td>AZ</td>\n",
              "      <td>85016</td>\n",
              "      <td>33.522143</td>\n",
              "      <td>-112.018481</td>\n",
              "      <td>3.0</td>\n",
              "      <td>5</td>\n",
              "      <td>0</td>\n",
              "      <td>{'GoodForKids': 'False'}</td>\n",
              "      <td>Golf, Active Life</td>\n",
              "      <td>None</td>\n",
              "    </tr>\n",
              "    <tr>\n",
              "      <th>1</th>\n",
              "      <td>QXAEGFB4oINsVuTFxEYKFQ</td>\n",
              "      <td>Emerald Chinese Restaurant</td>\n",
              "      <td>30 Eglinton Avenue W</td>\n",
              "      <td>Mississauga</td>\n",
              "      <td>ON</td>\n",
              "      <td>L5R 3E7</td>\n",
              "      <td>43.605499</td>\n",
              "      <td>-79.652289</td>\n",
              "      <td>2.5</td>\n",
              "      <td>128</td>\n",
              "      <td>1</td>\n",
              "      <td>{'RestaurantsReservations': 'True', 'GoodForMe...</td>\n",
              "      <td>Specialty Food, Restaurants, Dim Sum, Imported...</td>\n",
              "      <td>{'Monday': '9:0-0:0', 'Tuesday': '9:0-0:0', 'W...</td>\n",
              "    </tr>\n",
              "    <tr>\n",
              "      <th>2</th>\n",
              "      <td>gnKjwL_1w79qoiV3IC_xQQ</td>\n",
              "      <td>Musashi Japanese Restaurant</td>\n",
              "      <td>10110 Johnston Rd, Ste 15</td>\n",
              "      <td>Charlotte</td>\n",
              "      <td>NC</td>\n",
              "      <td>28210</td>\n",
              "      <td>35.092564</td>\n",
              "      <td>-80.859132</td>\n",
              "      <td>4.0</td>\n",
              "      <td>170</td>\n",
              "      <td>1</td>\n",
              "      <td>{'GoodForKids': 'True', 'NoiseLevel': 'u'avera...</td>\n",
              "      <td>Sushi Bars, Restaurants, Japanese</td>\n",
              "      <td>{'Monday': '17:30-21:30', 'Wednesday': '17:30-...</td>\n",
              "    </tr>\n",
              "    <tr>\n",
              "      <th>3</th>\n",
              "      <td>xvX2CttrVhyG2z1dFg_0xw</td>\n",
              "      <td>Farmers Insurance - Paul Lorenz</td>\n",
              "      <td>15655 W Roosevelt St, Ste 237</td>\n",
              "      <td>Goodyear</td>\n",
              "      <td>AZ</td>\n",
              "      <td>85338</td>\n",
              "      <td>33.455613</td>\n",
              "      <td>-112.395596</td>\n",
              "      <td>5.0</td>\n",
              "      <td>3</td>\n",
              "      <td>1</td>\n",
              "      <td>None</td>\n",
              "      <td>Insurance, Financial Services</td>\n",
              "      <td>{'Monday': '8:0-17:0', 'Tuesday': '8:0-17:0', ...</td>\n",
              "    </tr>\n",
              "    <tr>\n",
              "      <th>4</th>\n",
              "      <td>HhyxOkGAM07SRYtlQ4wMFQ</td>\n",
              "      <td>Queen City Plumbing</td>\n",
              "      <td>4209 Stuart Andrew Blvd, Ste F</td>\n",
              "      <td>Charlotte</td>\n",
              "      <td>NC</td>\n",
              "      <td>28217</td>\n",
              "      <td>35.190012</td>\n",
              "      <td>-80.887223</td>\n",
              "      <td>4.0</td>\n",
              "      <td>4</td>\n",
              "      <td>1</td>\n",
              "      <td>{'BusinessAcceptsBitcoin': 'False', 'ByAppoint...</td>\n",
              "      <td>Plumbing, Shopping, Local Services, Home Servi...</td>\n",
              "      <td>{'Monday': '7:0-23:0', 'Tuesday': '7:0-23:0', ...</td>\n",
              "    </tr>\n",
              "  </tbody>\n",
              "</table>\n",
              "</div>"
            ],
            "text/plain": [
              "              business_id  ...                                              hours\n",
              "0  1SWheh84yJXfytovILXOAQ  ...                                               None\n",
              "1  QXAEGFB4oINsVuTFxEYKFQ  ...  {'Monday': '9:0-0:0', 'Tuesday': '9:0-0:0', 'W...\n",
              "2  gnKjwL_1w79qoiV3IC_xQQ  ...  {'Monday': '17:30-21:30', 'Wednesday': '17:30-...\n",
              "3  xvX2CttrVhyG2z1dFg_0xw  ...  {'Monday': '8:0-17:0', 'Tuesday': '8:0-17:0', ...\n",
              "4  HhyxOkGAM07SRYtlQ4wMFQ  ...  {'Monday': '7:0-23:0', 'Tuesday': '7:0-23:0', ...\n",
              "\n",
              "[5 rows x 14 columns]"
            ]
          },
          "metadata": {
            "tags": []
          },
          "execution_count": 13
        }
      ]
    },
    {
      "cell_type": "markdown",
      "metadata": {
        "id": "MLaGEPb-xGDC",
        "colab_type": "text"
      },
      "source": [
        "Reviews Data"
      ]
    },
    {
      "cell_type": "code",
      "metadata": {
        "colab_type": "code",
        "id": "Flc0AOj_7I3c",
        "colab": {}
      },
      "source": [
        "rev_chunk = pd.read_json(\"yelp_academic_dataset_review.json\", chunksize=1000000,lines = True)"
      ],
      "execution_count": 0,
      "outputs": []
    },
    {
      "cell_type": "code",
      "metadata": {
        "colab_type": "code",
        "id": "DdqUPP8Y7I3i",
        "colab": {}
      },
      "source": [
        "chunk_list = []\n",
        "# Each chunk is in df format\n",
        "for chunk in rev_chunk:  \n",
        "    chunk_list.append(chunk)\n",
        "    gc.collect()\n",
        "    \n",
        "# concat the list into dataframe \n",
        "rev = pd.concat(chunk_list)"
      ],
      "execution_count": 0,
      "outputs": []
    },
    {
      "cell_type": "code",
      "metadata": {
        "colab_type": "code",
        "id": "5wDd--yu7I3k",
        "outputId": "20d08c4a-2b5b-473d-bfc7-eb0c40c8e8f8",
        "colab": {
          "base_uri": "https://localhost:8080/",
          "height": 34
        }
      },
      "source": [
        "del chunk_list, chunk, rev_chunk\n",
        "gc.collect()"
      ],
      "execution_count": 16,
      "outputs": [
        {
          "output_type": "execute_result",
          "data": {
            "text/plain": [
              "0"
            ]
          },
          "metadata": {
            "tags": []
          },
          "execution_count": 16
        }
      ]
    },
    {
      "cell_type": "code",
      "metadata": {
        "colab_type": "code",
        "outputId": "963f4241-69e9-477d-8654-ba5dcce280e1",
        "id": "KIc_9KdZ7I3m",
        "colab": {
          "base_uri": "https://localhost:8080/",
          "height": 288
        }
      },
      "source": [
        "rev.head()"
      ],
      "execution_count": 17,
      "outputs": [
        {
          "output_type": "execute_result",
          "data": {
            "text/html": [
              "<div>\n",
              "<style scoped>\n",
              "    .dataframe tbody tr th:only-of-type {\n",
              "        vertical-align: middle;\n",
              "    }\n",
              "\n",
              "    .dataframe tbody tr th {\n",
              "        vertical-align: top;\n",
              "    }\n",
              "\n",
              "    .dataframe thead th {\n",
              "        text-align: right;\n",
              "    }\n",
              "</style>\n",
              "<table border=\"1\" class=\"dataframe\">\n",
              "  <thead>\n",
              "    <tr style=\"text-align: right;\">\n",
              "      <th></th>\n",
              "      <th>review_id</th>\n",
              "      <th>user_id</th>\n",
              "      <th>business_id</th>\n",
              "      <th>stars</th>\n",
              "      <th>useful</th>\n",
              "      <th>funny</th>\n",
              "      <th>cool</th>\n",
              "      <th>text</th>\n",
              "      <th>date</th>\n",
              "    </tr>\n",
              "  </thead>\n",
              "  <tbody>\n",
              "    <tr>\n",
              "      <th>0</th>\n",
              "      <td>Q1sbwvVQXV2734tPgoKj4Q</td>\n",
              "      <td>hG7b0MtEbXx5QzbzE6C_VA</td>\n",
              "      <td>ujmEBvifdJM6h6RLv4wQIg</td>\n",
              "      <td>1</td>\n",
              "      <td>6</td>\n",
              "      <td>1</td>\n",
              "      <td>0</td>\n",
              "      <td>Total bill for this horrible service? Over $8G...</td>\n",
              "      <td>2013-05-07 04:34:36</td>\n",
              "    </tr>\n",
              "    <tr>\n",
              "      <th>1</th>\n",
              "      <td>GJXCdrto3ASJOqKeVWPi6Q</td>\n",
              "      <td>yXQM5uF2jS6es16SJzNHfg</td>\n",
              "      <td>NZnhc2sEQy3RmzKTZnqtwQ</td>\n",
              "      <td>5</td>\n",
              "      <td>0</td>\n",
              "      <td>0</td>\n",
              "      <td>0</td>\n",
              "      <td>I *adore* Travis at the Hard Rock's new Kelly ...</td>\n",
              "      <td>2017-01-14 21:30:33</td>\n",
              "    </tr>\n",
              "    <tr>\n",
              "      <th>2</th>\n",
              "      <td>2TzJjDVDEuAW6MR5Vuc1ug</td>\n",
              "      <td>n6-Gk65cPZL6Uz8qRm3NYw</td>\n",
              "      <td>WTqjgwHlXbSFevF32_DJVw</td>\n",
              "      <td>5</td>\n",
              "      <td>3</td>\n",
              "      <td>0</td>\n",
              "      <td>0</td>\n",
              "      <td>I have to say that this office really has it t...</td>\n",
              "      <td>2016-11-09 20:09:03</td>\n",
              "    </tr>\n",
              "    <tr>\n",
              "      <th>3</th>\n",
              "      <td>yi0R0Ugj_xUx_Nek0-_Qig</td>\n",
              "      <td>dacAIZ6fTM6mqwW5uxkskg</td>\n",
              "      <td>ikCg8xy5JIg_NGPx-MSIDA</td>\n",
              "      <td>5</td>\n",
              "      <td>0</td>\n",
              "      <td>0</td>\n",
              "      <td>0</td>\n",
              "      <td>Went in for a lunch. Steak sandwich was delici...</td>\n",
              "      <td>2018-01-09 20:56:38</td>\n",
              "    </tr>\n",
              "    <tr>\n",
              "      <th>4</th>\n",
              "      <td>11a8sVPMUFtaC7_ABRkmtw</td>\n",
              "      <td>ssoyf2_x0EQMed6fgHeMyQ</td>\n",
              "      <td>b1b1eb3uo-w561D0ZfCEiQ</td>\n",
              "      <td>1</td>\n",
              "      <td>7</td>\n",
              "      <td>0</td>\n",
              "      <td>0</td>\n",
              "      <td>Today was my second out of three sessions I ha...</td>\n",
              "      <td>2018-01-30 23:07:38</td>\n",
              "    </tr>\n",
              "  </tbody>\n",
              "</table>\n",
              "</div>"
            ],
            "text/plain": [
              "                review_id  ...                date\n",
              "0  Q1sbwvVQXV2734tPgoKj4Q  ... 2013-05-07 04:34:36\n",
              "1  GJXCdrto3ASJOqKeVWPi6Q  ... 2017-01-14 21:30:33\n",
              "2  2TzJjDVDEuAW6MR5Vuc1ug  ... 2016-11-09 20:09:03\n",
              "3  yi0R0Ugj_xUx_Nek0-_Qig  ... 2018-01-09 20:56:38\n",
              "4  11a8sVPMUFtaC7_ABRkmtw  ... 2018-01-30 23:07:38\n",
              "\n",
              "[5 rows x 9 columns]"
            ]
          },
          "metadata": {
            "tags": []
          },
          "execution_count": 17
        }
      ]
    },
    {
      "cell_type": "markdown",
      "metadata": {
        "id": "F6uvXpZOxJaF",
        "colab_type": "text"
      },
      "source": [
        "User tips for restaurants"
      ]
    },
    {
      "cell_type": "code",
      "metadata": {
        "colab_type": "code",
        "id": "qp2BnzMuFOk2",
        "colab": {}
      },
      "source": [
        "tip_chunk = pd.read_json(\"yelp_academic_dataset_tip.json\", chunksize=1000000,lines = True)"
      ],
      "execution_count": 0,
      "outputs": []
    },
    {
      "cell_type": "code",
      "metadata": {
        "colab_type": "code",
        "id": "XCQBI4T_FOk6",
        "colab": {}
      },
      "source": [
        "chunk_list = []\n",
        "# Each chunk is in df format\n",
        "for chunk in tip_chunk:  \n",
        "    chunk_list.append(chunk)\n",
        "    gc.collect()\n",
        "    \n",
        "# concat the list into dataframe \n",
        "tip = pd.concat(chunk_list)"
      ],
      "execution_count": 0,
      "outputs": []
    },
    {
      "cell_type": "code",
      "metadata": {
        "colab_type": "code",
        "id": "qfkLGZ3IFOk7",
        "outputId": "2ce1d205-29d4-4b95-bd84-5fc7505a22af",
        "colab": {
          "base_uri": "https://localhost:8080/",
          "height": 34
        }
      },
      "source": [
        "del chunk_list, chunk, tip_chunk\n",
        "gc.collect()"
      ],
      "execution_count": 20,
      "outputs": [
        {
          "output_type": "execute_result",
          "data": {
            "text/plain": [
              "0"
            ]
          },
          "metadata": {
            "tags": []
          },
          "execution_count": 20
        }
      ]
    },
    {
      "cell_type": "code",
      "metadata": {
        "colab_type": "code",
        "outputId": "01d8e062-f942-4fc4-8d61-0d12a48e8c18",
        "id": "n8xOVpqsFOk9",
        "colab": {
          "base_uri": "https://localhost:8080/",
          "height": 203
        }
      },
      "source": [
        "tip.head()"
      ],
      "execution_count": 21,
      "outputs": [
        {
          "output_type": "execute_result",
          "data": {
            "text/html": [
              "<div>\n",
              "<style scoped>\n",
              "    .dataframe tbody tr th:only-of-type {\n",
              "        vertical-align: middle;\n",
              "    }\n",
              "\n",
              "    .dataframe tbody tr th {\n",
              "        vertical-align: top;\n",
              "    }\n",
              "\n",
              "    .dataframe thead th {\n",
              "        text-align: right;\n",
              "    }\n",
              "</style>\n",
              "<table border=\"1\" class=\"dataframe\">\n",
              "  <thead>\n",
              "    <tr style=\"text-align: right;\">\n",
              "      <th></th>\n",
              "      <th>user_id</th>\n",
              "      <th>business_id</th>\n",
              "      <th>text</th>\n",
              "      <th>date</th>\n",
              "      <th>compliment_count</th>\n",
              "    </tr>\n",
              "  </thead>\n",
              "  <tbody>\n",
              "    <tr>\n",
              "      <th>0</th>\n",
              "      <td>UPw5DWs_b-e2JRBS-t37Ag</td>\n",
              "      <td>VaKXUpmWTTWDKbpJ3aQdMw</td>\n",
              "      <td>Great for watching games, ufc, and whatever el...</td>\n",
              "      <td>2014-03-27 03:51:24</td>\n",
              "      <td>0</td>\n",
              "    </tr>\n",
              "    <tr>\n",
              "      <th>1</th>\n",
              "      <td>Ocha4kZBHb4JK0lOWvE0sg</td>\n",
              "      <td>OPiPeoJiv92rENwbq76orA</td>\n",
              "      <td>Happy Hour 2-4 daily with 1/2 price drinks and...</td>\n",
              "      <td>2013-05-25 06:00:56</td>\n",
              "      <td>0</td>\n",
              "    </tr>\n",
              "    <tr>\n",
              "      <th>2</th>\n",
              "      <td>jRyO2V1pA4CdVVqCIOPc1Q</td>\n",
              "      <td>5KheTjYPu1HcQzQFtm4_vw</td>\n",
              "      <td>Good chips and salsa. Loud at times. Good serv...</td>\n",
              "      <td>2011-12-26 01:46:17</td>\n",
              "      <td>0</td>\n",
              "    </tr>\n",
              "    <tr>\n",
              "      <th>3</th>\n",
              "      <td>FuTJWFYm4UKqewaosss1KA</td>\n",
              "      <td>TkoyGi8J7YFjA6SbaRzrxg</td>\n",
              "      <td>The setting and decoration here is amazing. Co...</td>\n",
              "      <td>2014-03-23 21:32:49</td>\n",
              "      <td>0</td>\n",
              "    </tr>\n",
              "    <tr>\n",
              "      <th>4</th>\n",
              "      <td>LUlKtaM3nXd-E4N4uOk_fQ</td>\n",
              "      <td>AkL6Ous6A1atZejfZXn1Bg</td>\n",
              "      <td>Molly is definately taking a picture with Sant...</td>\n",
              "      <td>2012-10-06 00:19:27</td>\n",
              "      <td>0</td>\n",
              "    </tr>\n",
              "  </tbody>\n",
              "</table>\n",
              "</div>"
            ],
            "text/plain": [
              "                  user_id  ... compliment_count\n",
              "0  UPw5DWs_b-e2JRBS-t37Ag  ...                0\n",
              "1  Ocha4kZBHb4JK0lOWvE0sg  ...                0\n",
              "2  jRyO2V1pA4CdVVqCIOPc1Q  ...                0\n",
              "3  FuTJWFYm4UKqewaosss1KA  ...                0\n",
              "4  LUlKtaM3nXd-E4N4uOk_fQ  ...                0\n",
              "\n",
              "[5 rows x 5 columns]"
            ]
          },
          "metadata": {
            "tags": []
          },
          "execution_count": 21
        }
      ]
    },
    {
      "cell_type": "markdown",
      "metadata": {
        "id": "YgRBQrlfxSBV",
        "colab_type": "text"
      },
      "source": [
        "User checkin data"
      ]
    },
    {
      "cell_type": "code",
      "metadata": {
        "colab_type": "code",
        "id": "akg5uPaLFgju",
        "colab": {}
      },
      "source": [
        "# chk_chunk = pd.read_json(\"yelp_academic_dataset_checkin.json\", chunksize=1000000,lines = True)"
      ],
      "execution_count": 0,
      "outputs": []
    },
    {
      "cell_type": "code",
      "metadata": {
        "colab_type": "code",
        "id": "YgrVb3sVFgjx",
        "colab": {}
      },
      "source": [
        "# chunk_list = []\n",
        "# # Each chunk is in df format\n",
        "# for chunk in chk_chunk:  \n",
        "#     chunk_list.append(chunk)\n",
        "#     gc.collect()\n",
        "    \n",
        "# # concat the list into dataframe \n",
        "# chk = pd.concat(chunk_list)"
      ],
      "execution_count": 0,
      "outputs": []
    },
    {
      "cell_type": "code",
      "metadata": {
        "colab_type": "code",
        "id": "Z90tpOCfFgjz",
        "colab": {}
      },
      "source": [
        "# del chunk_list, chunk, chk_chunk\n",
        "# gc.collect()"
      ],
      "execution_count": 0,
      "outputs": []
    },
    {
      "cell_type": "code",
      "metadata": {
        "colab_type": "code",
        "id": "SXdKCI_BFgj1",
        "colab": {}
      },
      "source": [
        "# chk.head()"
      ],
      "execution_count": 0,
      "outputs": []
    },
    {
      "cell_type": "markdown",
      "metadata": {
        "id": "75900D9lP2r3",
        "colab_type": "text"
      },
      "source": [
        "# Filtering Data"
      ]
    },
    {
      "cell_type": "code",
      "metadata": {
        "id": "5O8TQXM_FoJ3",
        "colab_type": "code",
        "outputId": "efba86fa-6189-4408-d44c-c3d9861290f0",
        "colab": {
          "base_uri": "https://localhost:8080/",
          "height": 226
        }
      },
      "source": [
        "bus.city.value_counts()"
      ],
      "execution_count": 26,
      "outputs": [
        {
          "output_type": "execute_result",
          "data": {
            "text/plain": [
              "Las Vegas              29370\n",
              "Toronto                18906\n",
              "Phoenix                18766\n",
              "Charlotte               9509\n",
              "Scottsdale              8837\n",
              "                       ...  \n",
              "Saint Leonard              1\n",
              "Vaughn                     1\n",
              "Alburgh                    1\n",
              "Penn Hills Township        1\n",
              "                           1\n",
              "Name: city, Length: 1204, dtype: int64"
            ]
          },
          "metadata": {
            "tags": []
          },
          "execution_count": 26
        }
      ]
    },
    {
      "cell_type": "markdown",
      "metadata": {
        "id": "CIFvo9xyQZxw",
        "colab_type": "text"
      },
      "source": [
        "Selecting Toronto as the city"
      ]
    },
    {
      "cell_type": "code",
      "metadata": {
        "id": "Jo22R5PtQZV9",
        "colab_type": "code",
        "colab": {}
      },
      "source": [
        "busT = bus[bus.city==\"Toronto\"]"
      ],
      "execution_count": 0,
      "outputs": []
    },
    {
      "cell_type": "code",
      "metadata": {
        "id": "IGSh16CJQ45Y",
        "colab_type": "code",
        "outputId": "9b02b17f-236e-4d64-95b7-ba7d1bdf5252",
        "colab": {
          "base_uri": "https://localhost:8080/",
          "height": 582
        }
      },
      "source": [
        "busT.head()"
      ],
      "execution_count": 28,
      "outputs": [
        {
          "output_type": "execute_result",
          "data": {
            "text/html": [
              "<div>\n",
              "<style scoped>\n",
              "    .dataframe tbody tr th:only-of-type {\n",
              "        vertical-align: middle;\n",
              "    }\n",
              "\n",
              "    .dataframe tbody tr th {\n",
              "        vertical-align: top;\n",
              "    }\n",
              "\n",
              "    .dataframe thead th {\n",
              "        text-align: right;\n",
              "    }\n",
              "</style>\n",
              "<table border=\"1\" class=\"dataframe\">\n",
              "  <thead>\n",
              "    <tr style=\"text-align: right;\">\n",
              "      <th></th>\n",
              "      <th>business_id</th>\n",
              "      <th>name</th>\n",
              "      <th>address</th>\n",
              "      <th>city</th>\n",
              "      <th>state</th>\n",
              "      <th>postal_code</th>\n",
              "      <th>latitude</th>\n",
              "      <th>longitude</th>\n",
              "      <th>stars</th>\n",
              "      <th>review_count</th>\n",
              "      <th>is_open</th>\n",
              "      <th>attributes</th>\n",
              "      <th>categories</th>\n",
              "      <th>hours</th>\n",
              "    </tr>\n",
              "  </thead>\n",
              "  <tbody>\n",
              "    <tr>\n",
              "      <th>19</th>\n",
              "      <td>zSpQmEBvRe3IhTUlMSA6HQ</td>\n",
              "      <td>Totum Life Science</td>\n",
              "      <td>445 King Street W, Suite 101</td>\n",
              "      <td>Toronto</td>\n",
              "      <td>ON</td>\n",
              "      <td>M5V 1K4</td>\n",
              "      <td>43.645041</td>\n",
              "      <td>-79.395799</td>\n",
              "      <td>4.0</td>\n",
              "      <td>23</td>\n",
              "      <td>1</td>\n",
              "      <td>{'AcceptsInsurance': 'True', 'ByAppointmentOnl...</td>\n",
              "      <td>Trainers, Health &amp; Medical, Active Life, Physi...</td>\n",
              "      <td>{'Monday': '6:0-22:0', 'Tuesday': '6:0-22:0', ...</td>\n",
              "    </tr>\n",
              "    <tr>\n",
              "      <th>26</th>\n",
              "      <td>C9oCPomVP0mtKa8z99E3gg</td>\n",
              "      <td>Bakery Gateau</td>\n",
              "      <td>865 York Mills Road, Unit 1</td>\n",
              "      <td>Toronto</td>\n",
              "      <td>ON</td>\n",
              "      <td>M3B 1Y6</td>\n",
              "      <td>43.754093</td>\n",
              "      <td>-79.349548</td>\n",
              "      <td>4.5</td>\n",
              "      <td>8</td>\n",
              "      <td>1</td>\n",
              "      <td>{'RestaurantsDelivery': 'False', 'RestaurantsP...</td>\n",
              "      <td>Bakeries, Food</td>\n",
              "      <td>{'Monday': '9:0-20:0', 'Tuesday': '9:0-20:0', ...</td>\n",
              "    </tr>\n",
              "    <tr>\n",
              "      <th>27</th>\n",
              "      <td>C9keC4mWuXdl2mYFHZXudQ</td>\n",
              "      <td>Uncle Otis Clothing</td>\n",
              "      <td>26 Bellair St</td>\n",
              "      <td>Toronto</td>\n",
              "      <td>ON</td>\n",
              "      <td>M5R 2C7</td>\n",
              "      <td>43.670744</td>\n",
              "      <td>-79.391385</td>\n",
              "      <td>5.0</td>\n",
              "      <td>12</td>\n",
              "      <td>1</td>\n",
              "      <td>{'RestaurantsPriceRange2': '3', 'BusinessParki...</td>\n",
              "      <td>Fashion, Sporting Goods, Men's Clothing, Shopp...</td>\n",
              "      <td>{'Monday': '11:30-19:0', 'Tuesday': '11:30-19:...</td>\n",
              "    </tr>\n",
              "    <tr>\n",
              "      <th>29</th>\n",
              "      <td>NDuUMJfrWk52RA-H-OtrpA</td>\n",
              "      <td>Bolt Fresh Bar</td>\n",
              "      <td>1170 Queen Street W</td>\n",
              "      <td>Toronto</td>\n",
              "      <td>ON</td>\n",
              "      <td>M6J 1J5</td>\n",
              "      <td>43.642889</td>\n",
              "      <td>-79.425429</td>\n",
              "      <td>3.0</td>\n",
              "      <td>57</td>\n",
              "      <td>1</td>\n",
              "      <td>{'WiFi': 'u'no'', 'BikeParking': 'True', 'Rest...</td>\n",
              "      <td>Juice Bars &amp; Smoothies, Food, Restaurants, Fas...</td>\n",
              "      <td>{'Monday': '8:0-21:0', 'Tuesday': '8:0-21:0', ...</td>\n",
              "    </tr>\n",
              "    <tr>\n",
              "      <th>32</th>\n",
              "      <td>SP_YXIEwkFPPl_9anCYmpQ</td>\n",
              "      <td>The Steady Cafe &amp; Bar</td>\n",
              "      <td>1051 Bloor Street W</td>\n",
              "      <td>Toronto</td>\n",
              "      <td>ON</td>\n",
              "      <td>M6H 1M4</td>\n",
              "      <td>43.660494</td>\n",
              "      <td>-79.432099</td>\n",
              "      <td>3.5</td>\n",
              "      <td>29</td>\n",
              "      <td>0</td>\n",
              "      <td>{'BusinessParking': '{'garage': False, 'street...</td>\n",
              "      <td>Restaurants, Nightlife, Breakfast &amp; Brunch, Ve...</td>\n",
              "      <td>{'Tuesday': '9:0-18:0', 'Wednesday': '9:0-18:0...</td>\n",
              "    </tr>\n",
              "  </tbody>\n",
              "</table>\n",
              "</div>"
            ],
            "text/plain": [
              "               business_id  ...                                              hours\n",
              "19  zSpQmEBvRe3IhTUlMSA6HQ  ...  {'Monday': '6:0-22:0', 'Tuesday': '6:0-22:0', ...\n",
              "26  C9oCPomVP0mtKa8z99E3gg  ...  {'Monday': '9:0-20:0', 'Tuesday': '9:0-20:0', ...\n",
              "27  C9keC4mWuXdl2mYFHZXudQ  ...  {'Monday': '11:30-19:0', 'Tuesday': '11:30-19:...\n",
              "29  NDuUMJfrWk52RA-H-OtrpA  ...  {'Monday': '8:0-21:0', 'Tuesday': '8:0-21:0', ...\n",
              "32  SP_YXIEwkFPPl_9anCYmpQ  ...  {'Tuesday': '9:0-18:0', 'Wednesday': '9:0-18:0...\n",
              "\n",
              "[5 rows x 14 columns]"
            ]
          },
          "metadata": {
            "tags": []
          },
          "execution_count": 28
        }
      ]
    },
    {
      "cell_type": "code",
      "metadata": {
        "id": "JuhefC-tRSWu",
        "colab_type": "code",
        "outputId": "6b3069b9-ed36-42e5-e3e3-a1635504599b",
        "colab": {
          "base_uri": "https://localhost:8080/",
          "height": 72
        }
      },
      "source": [
        "busT.categories.value_counts().to_csv(\"categories.csv\")"
      ],
      "execution_count": 29,
      "outputs": [
        {
          "output_type": "stream",
          "text": [
            "/usr/local/lib/python3.6/dist-packages/ipykernel_launcher.py:1: FutureWarning: The signature of `Series.to_csv` was aligned to that of `DataFrame.to_csv`, and argument 'header' will change its default value from False to True: please pass an explicit value to suppress this warning.\n",
            "  \"\"\"Entry point for launching an IPython kernel.\n"
          ],
          "name": "stderr"
        }
      ]
    },
    {
      "cell_type": "code",
      "metadata": {
        "id": "dqmJ15qCofZQ",
        "colab_type": "code",
        "colab": {}
      },
      "source": [
        ""
      ],
      "execution_count": 0,
      "outputs": []
    },
    {
      "cell_type": "markdown",
      "metadata": {
        "id": "pd-GNqa2fuVY",
        "colab_type": "text"
      },
      "source": [
        "Taking only resturants"
      ]
    },
    {
      "cell_type": "code",
      "metadata": {
        "id": "vvGrHSDBaICr",
        "colab_type": "code",
        "outputId": "7ec9c1f2-14a3-4baa-d922-91a1b77ba0f0",
        "colab": {
          "base_uri": "https://localhost:8080/",
          "height": 69
        }
      },
      "source": [
        "busT.categories[busT.categories.str.contains(\"(Restaurants)|(Bar)|(Food)|(Cafe?s)|(Juice?s)|(Fast Food)|(Bakeries)\",case=False,regex=True,na=False)].count()"
      ],
      "execution_count": 30,
      "outputs": [
        {
          "output_type": "stream",
          "text": [
            "/usr/local/lib/python3.6/dist-packages/pandas/core/strings.py:1843: UserWarning: This pattern has match groups. To actually get the groups, use str.extract.\n",
            "  return func(self, *args, **kwargs)\n"
          ],
          "name": "stderr"
        },
        {
          "output_type": "execute_result",
          "data": {
            "text/plain": [
              "10704"
            ]
          },
          "metadata": {
            "tags": []
          },
          "execution_count": 30
        }
      ]
    },
    {
      "cell_type": "code",
      "metadata": {
        "id": "5ntUtBaKbj-b",
        "colab_type": "code",
        "colab": {
          "base_uri": "https://localhost:8080/",
          "height": 52
        },
        "outputId": "3282be18-94de-42d7-868c-14a57365fc02"
      },
      "source": [
        "busT = busT[busT.categories.str.contains(\"(Restaurants)|(Bar)|(Food)|(Cafe?s)|(Juice?s)|(Fast Food)|(Bakeries)\",case=False,regex=True,na=False)]"
      ],
      "execution_count": 31,
      "outputs": [
        {
          "output_type": "stream",
          "text": [
            "/usr/local/lib/python3.6/dist-packages/pandas/core/strings.py:1843: UserWarning: This pattern has match groups. To actually get the groups, use str.extract.\n",
            "  return func(self, *args, **kwargs)\n"
          ],
          "name": "stderr"
        }
      ]
    },
    {
      "cell_type": "markdown",
      "metadata": {
        "id": "Tlb2jLB3IOw1",
        "colab_type": "text"
      },
      "source": [
        "Keeping only open businesses"
      ]
    },
    {
      "cell_type": "code",
      "metadata": {
        "id": "D0RE_B1aH5xO",
        "colab_type": "code",
        "outputId": "b653aabe-b142-4d11-b7b3-b2d036599c58",
        "colab": {
          "base_uri": "https://localhost:8080/",
          "height": 69
        }
      },
      "source": [
        "busT.is_open.value_counts()"
      ],
      "execution_count": 32,
      "outputs": [
        {
          "output_type": "execute_result",
          "data": {
            "text/plain": [
              "1    7292\n",
              "0    3412\n",
              "Name: is_open, dtype: int64"
            ]
          },
          "metadata": {
            "tags": []
          },
          "execution_count": 32
        }
      ]
    },
    {
      "cell_type": "code",
      "metadata": {
        "id": "_Q0Ks_inIM4V",
        "colab_type": "code",
        "colab": {}
      },
      "source": [
        "# busT = busT[busT.is_open==1]"
      ],
      "execution_count": 0,
      "outputs": []
    },
    {
      "cell_type": "code",
      "metadata": {
        "id": "lyUIy95VmhQf",
        "colab_type": "code",
        "outputId": "cf1e8c57-f07c-45a8-92bb-fe3633ff60bb",
        "colab": {
          "base_uri": "https://localhost:8080/",
          "height": 279
        }
      },
      "source": [
        "busT.count()"
      ],
      "execution_count": 34,
      "outputs": [
        {
          "output_type": "execute_result",
          "data": {
            "text/plain": [
              "business_id     10704\n",
              "name            10704\n",
              "address         10704\n",
              "city            10704\n",
              "state           10704\n",
              "postal_code     10704\n",
              "latitude        10704\n",
              "longitude       10704\n",
              "stars           10704\n",
              "review_count    10704\n",
              "is_open         10704\n",
              "attributes      10219\n",
              "categories      10704\n",
              "hours            8005\n",
              "dtype: int64"
            ]
          },
          "metadata": {
            "tags": []
          },
          "execution_count": 34
        }
      ]
    },
    {
      "cell_type": "markdown",
      "metadata": {
        "id": "RIY6oKNjgQcX",
        "colab_type": "text"
      },
      "source": [
        "Subset other data sets accordingly"
      ]
    },
    {
      "cell_type": "code",
      "metadata": {
        "id": "5Fqee2AHf5y8",
        "colab_type": "code",
        "colab": {}
      },
      "source": [
        "revT = rev[rev.business_id.isin(busT.business_id.unique())]"
      ],
      "execution_count": 0,
      "outputs": []
    },
    {
      "cell_type": "code",
      "metadata": {
        "id": "NmdB-y8BmD06",
        "colab_type": "code",
        "outputId": "5635a446-edb1-4719-f0e2-c7f50699a512",
        "colab": {
          "base_uri": "https://localhost:8080/",
          "height": 191
        }
      },
      "source": [
        "revT.count()"
      ],
      "execution_count": 36,
      "outputs": [
        {
          "output_type": "execute_result",
          "data": {
            "text/plain": [
              "review_id      435785\n",
              "user_id        435785\n",
              "business_id    435785\n",
              "stars          435785\n",
              "useful         435785\n",
              "funny          435785\n",
              "cool           435785\n",
              "text           435785\n",
              "date           435785\n",
              "dtype: int64"
            ]
          },
          "metadata": {
            "tags": []
          },
          "execution_count": 36
        }
      ]
    },
    {
      "cell_type": "code",
      "metadata": {
        "id": "M8cT5gbdmgKz",
        "colab_type": "code",
        "colab": {}
      },
      "source": [
        "userT = user[user.user_id.isin(revT.user_id.unique())]"
      ],
      "execution_count": 0,
      "outputs": []
    },
    {
      "cell_type": "code",
      "metadata": {
        "id": "VobdCSUnmspU",
        "colab_type": "code",
        "outputId": "be85fb8f-ab21-423f-db00-5049248334fc",
        "colab": {
          "base_uri": "https://localhost:8080/",
          "height": 418
        }
      },
      "source": [
        "userT.count()"
      ],
      "execution_count": 38,
      "outputs": [
        {
          "output_type": "execute_result",
          "data": {
            "text/plain": [
              "user_id               94318\n",
              "name                  94318\n",
              "review_count          94318\n",
              "yelping_since         94318\n",
              "useful                94318\n",
              "funny                 94318\n",
              "cool                  94318\n",
              "elite                 94318\n",
              "friends               94318\n",
              "fans                  94318\n",
              "average_stars         94318\n",
              "compliment_hot        94318\n",
              "compliment_more       94318\n",
              "compliment_profile    94318\n",
              "compliment_cute       94318\n",
              "compliment_list       94318\n",
              "compliment_note       94318\n",
              "compliment_plain      94318\n",
              "compliment_cool       94318\n",
              "compliment_funny      94318\n",
              "compliment_writer     94318\n",
              "compliment_photos     94318\n",
              "dtype: int64"
            ]
          },
          "metadata": {
            "tags": []
          },
          "execution_count": 38
        }
      ]
    },
    {
      "cell_type": "code",
      "metadata": {
        "id": "0KZ-vSafmxNQ",
        "colab_type": "code",
        "colab": {}
      },
      "source": [
        "tipT = tip[tip.business_id.isin(busT.business_id)]"
      ],
      "execution_count": 0,
      "outputs": []
    },
    {
      "cell_type": "code",
      "metadata": {
        "id": "NxKtw1_I_EGU",
        "colab_type": "code",
        "outputId": "807acd1a-c533-46fc-ad8a-fa91b238a2b9",
        "colab": {
          "base_uri": "https://localhost:8080/",
          "height": 122
        }
      },
      "source": [
        "tipT.count()"
      ],
      "execution_count": 40,
      "outputs": [
        {
          "output_type": "execute_result",
          "data": {
            "text/plain": [
              "user_id             62351\n",
              "business_id         62351\n",
              "text                62351\n",
              "date                62351\n",
              "compliment_count    62351\n",
              "dtype: int64"
            ]
          },
          "metadata": {
            "tags": []
          },
          "execution_count": 40
        }
      ]
    },
    {
      "cell_type": "code",
      "metadata": {
        "id": "IKIoK5aY_J-2",
        "colab_type": "code",
        "outputId": "6c68a68b-cb94-43b8-954a-34edd14161d6",
        "colab": {
          "base_uri": "https://localhost:8080/",
          "height": 34
        }
      },
      "source": [
        "del user,bus,tip,rev\n",
        "gc.collect()"
      ],
      "execution_count": 41,
      "outputs": [
        {
          "output_type": "execute_result",
          "data": {
            "text/plain": [
              "18"
            ]
          },
          "metadata": {
            "tags": []
          },
          "execution_count": 41
        }
      ]
    },
    {
      "cell_type": "markdown",
      "metadata": {
        "id": "CGs-RDlkAsj5",
        "colab_type": "text"
      },
      "source": [
        "Save workspace to pickle"
      ]
    },
    {
      "cell_type": "code",
      "metadata": {
        "id": "eWpmTuslAhuU",
        "colab_type": "code",
        "outputId": "5c5054e1-a420-4376-937f-956a340a1124",
        "colab": {
          "base_uri": "https://localhost:8080/",
          "height": 34
        }
      },
      "source": [
        "!pip3 install dill"
      ],
      "execution_count": 42,
      "outputs": [
        {
          "output_type": "stream",
          "text": [
            "Requirement already satisfied: dill in /usr/local/lib/python3.6/dist-packages (0.3.1.1)\n"
          ],
          "name": "stdout"
        }
      ]
    },
    {
      "cell_type": "code",
      "metadata": {
        "id": "OZ9NRYUJAaeH",
        "colab_type": "code",
        "colab": {}
      },
      "source": [
        "import dill                            \n",
        "# filename = 'Yelp_Toronto.pkl'\n",
        "# dill.dump_session(filename)"
      ],
      "execution_count": 0,
      "outputs": []
    },
    {
      "cell_type": "markdown",
      "metadata": {
        "id": "Q8830zQ1Avnu",
        "colab_type": "text"
      },
      "source": [
        "Load workspace from pickle"
      ]
    },
    {
      "cell_type": "code",
      "metadata": {
        "id": "0pxLPlkeAzah",
        "colab_type": "code",
        "colab": {}
      },
      "source": [
        "# dill.load_session(filename)"
      ],
      "execution_count": 0,
      "outputs": []
    },
    {
      "cell_type": "code",
      "metadata": {
        "id": "za6KBBWZDVXN",
        "colab_type": "code",
        "outputId": "516e270a-a227-446c-87b4-4370fd645369",
        "colab": {
          "base_uri": "https://localhost:8080/",
          "height": 288
        }
      },
      "source": [
        "revT.head()"
      ],
      "execution_count": 65,
      "outputs": [
        {
          "output_type": "execute_result",
          "data": {
            "text/html": [
              "<div>\n",
              "<style scoped>\n",
              "    .dataframe tbody tr th:only-of-type {\n",
              "        vertical-align: middle;\n",
              "    }\n",
              "\n",
              "    .dataframe tbody tr th {\n",
              "        vertical-align: top;\n",
              "    }\n",
              "\n",
              "    .dataframe thead th {\n",
              "        text-align: right;\n",
              "    }\n",
              "</style>\n",
              "<table border=\"1\" class=\"dataframe\">\n",
              "  <thead>\n",
              "    <tr style=\"text-align: right;\">\n",
              "      <th></th>\n",
              "      <th>review_id</th>\n",
              "      <th>user_id</th>\n",
              "      <th>business_id</th>\n",
              "      <th>stars</th>\n",
              "      <th>useful</th>\n",
              "      <th>funny</th>\n",
              "      <th>cool</th>\n",
              "      <th>text</th>\n",
              "      <th>date</th>\n",
              "    </tr>\n",
              "  </thead>\n",
              "  <tbody>\n",
              "    <tr>\n",
              "      <th>14</th>\n",
              "      <td>JVcjMhlavKKn3UIt9p9OXA</td>\n",
              "      <td>TpyOT5E16YASd7EWjLQlrw</td>\n",
              "      <td>AakkkTuGZA2KBodKi2_u8A</td>\n",
              "      <td>1</td>\n",
              "      <td>1</td>\n",
              "      <td>1</td>\n",
              "      <td>0</td>\n",
              "      <td>I cannot believe how things have changed in 3 ...</td>\n",
              "      <td>2012-07-16 00:37:14</td>\n",
              "    </tr>\n",
              "    <tr>\n",
              "      <th>15</th>\n",
              "      <td>svK3nBU7Rk8VfGorlrN52A</td>\n",
              "      <td>NJlxGtouq06hhC7sS2ECYw</td>\n",
              "      <td>YvrylyuWgbP90RgMqZQVnQ</td>\n",
              "      <td>5</td>\n",
              "      <td>0</td>\n",
              "      <td>0</td>\n",
              "      <td>0</td>\n",
              "      <td>You can't really find anything wrong with this...</td>\n",
              "      <td>2017-04-07 21:27:49</td>\n",
              "    </tr>\n",
              "    <tr>\n",
              "      <th>19</th>\n",
              "      <td>4bUyL7lzoWzDZaJETAKREg</td>\n",
              "      <td>_N7Ndn29bpll_961oPeEfw</td>\n",
              "      <td>y-Iw6dZflNix4BdwIyTNGA</td>\n",
              "      <td>3</td>\n",
              "      <td>0</td>\n",
              "      <td>0</td>\n",
              "      <td>0</td>\n",
              "      <td>Good selection of classes of beers and mains. ...</td>\n",
              "      <td>2014-06-27 21:19:23</td>\n",
              "    </tr>\n",
              "    <tr>\n",
              "      <th>34</th>\n",
              "      <td>E6B-2U2sGG3xgmnNWZAEew</td>\n",
              "      <td>DbccYu3OppWKl21OanZnTg</td>\n",
              "      <td>YSUcHqlKMPHHJ_cTrqtNrA</td>\n",
              "      <td>1</td>\n",
              "      <td>0</td>\n",
              "      <td>0</td>\n",
              "      <td>0</td>\n",
              "      <td>Came here on a Thursday night at 6:30 p.m. My ...</td>\n",
              "      <td>2017-12-29 13:55:19</td>\n",
              "    </tr>\n",
              "    <tr>\n",
              "      <th>47</th>\n",
              "      <td>0NRNA8qIq9nKw5FcwyOxcQ</td>\n",
              "      <td>54kpqrxF9DEPpwa51hO_Bw</td>\n",
              "      <td>jzveTy7ogH7cg9axZ78ENg</td>\n",
              "      <td>4</td>\n",
              "      <td>0</td>\n",
              "      <td>0</td>\n",
              "      <td>0</td>\n",
              "      <td>Very nice eating environment and the food are ...</td>\n",
              "      <td>2015-04-01 13:31:35</td>\n",
              "    </tr>\n",
              "  </tbody>\n",
              "</table>\n",
              "</div>"
            ],
            "text/plain": [
              "                 review_id  ...                date\n",
              "14  JVcjMhlavKKn3UIt9p9OXA  ... 2012-07-16 00:37:14\n",
              "15  svK3nBU7Rk8VfGorlrN52A  ... 2017-04-07 21:27:49\n",
              "19  4bUyL7lzoWzDZaJETAKREg  ... 2014-06-27 21:19:23\n",
              "34  E6B-2U2sGG3xgmnNWZAEew  ... 2017-12-29 13:55:19\n",
              "47  0NRNA8qIq9nKw5FcwyOxcQ  ... 2015-04-01 13:31:35\n",
              "\n",
              "[5 rows x 9 columns]"
            ]
          },
          "metadata": {
            "tags": []
          },
          "execution_count": 65
        }
      ]
    },
    {
      "cell_type": "code",
      "metadata": {
        "id": "xpRIiZc8_46Q",
        "colab_type": "code",
        "colab": {}
      },
      "source": [
        "import numpy as np"
      ],
      "execution_count": 0,
      "outputs": []
    },
    {
      "cell_type": "code",
      "metadata": {
        "id": "RYSAIKHyDdNA",
        "colab_type": "code",
        "outputId": "2c5f9360-7312-4dcf-8787-81aa780d703e",
        "colab": {
          "base_uri": "https://localhost:8080/",
          "height": 34
        }
      },
      "source": [
        "np.mean(revT.user_id.value_counts()>1)"
      ],
      "execution_count": 67,
      "outputs": [
        {
          "output_type": "execute_result",
          "data": {
            "text/plain": [
              "0.4845522593778494"
            ]
          },
          "metadata": {
            "tags": []
          },
          "execution_count": 67
        }
      ]
    },
    {
      "cell_type": "markdown",
      "metadata": {
        "id": "F0d-YCOCDv7_",
        "colab_type": "text"
      },
      "source": [
        "Only 48% of users have more than 1 review"
      ]
    },
    {
      "cell_type": "code",
      "metadata": {
        "id": "PbkAOsXWDunG",
        "colab_type": "code",
        "outputId": "d43a41ad-67dd-4996-b927-43ab701f2397",
        "colab": {
          "base_uri": "https://localhost:8080/",
          "height": 296
        }
      },
      "source": [
        "revT[[\"user_id\",\"stars\"]].describe()"
      ],
      "execution_count": 68,
      "outputs": [
        {
          "output_type": "execute_result",
          "data": {
            "text/html": [
              "<div>\n",
              "<style scoped>\n",
              "    .dataframe tbody tr th:only-of-type {\n",
              "        vertical-align: middle;\n",
              "    }\n",
              "\n",
              "    .dataframe tbody tr th {\n",
              "        vertical-align: top;\n",
              "    }\n",
              "\n",
              "    .dataframe thead th {\n",
              "        text-align: right;\n",
              "    }\n",
              "</style>\n",
              "<table border=\"1\" class=\"dataframe\">\n",
              "  <thead>\n",
              "    <tr style=\"text-align: right;\">\n",
              "      <th></th>\n",
              "      <th>stars</th>\n",
              "    </tr>\n",
              "  </thead>\n",
              "  <tbody>\n",
              "    <tr>\n",
              "      <th>count</th>\n",
              "      <td>435785.000000</td>\n",
              "    </tr>\n",
              "    <tr>\n",
              "      <th>mean</th>\n",
              "      <td>3.620971</td>\n",
              "    </tr>\n",
              "    <tr>\n",
              "      <th>std</th>\n",
              "      <td>1.270781</td>\n",
              "    </tr>\n",
              "    <tr>\n",
              "      <th>min</th>\n",
              "      <td>1.000000</td>\n",
              "    </tr>\n",
              "    <tr>\n",
              "      <th>25%</th>\n",
              "      <td>3.000000</td>\n",
              "    </tr>\n",
              "    <tr>\n",
              "      <th>50%</th>\n",
              "      <td>4.000000</td>\n",
              "    </tr>\n",
              "    <tr>\n",
              "      <th>75%</th>\n",
              "      <td>5.000000</td>\n",
              "    </tr>\n",
              "    <tr>\n",
              "      <th>max</th>\n",
              "      <td>5.000000</td>\n",
              "    </tr>\n",
              "  </tbody>\n",
              "</table>\n",
              "</div>"
            ],
            "text/plain": [
              "               stars\n",
              "count  435785.000000\n",
              "mean        3.620971\n",
              "std         1.270781\n",
              "min         1.000000\n",
              "25%         3.000000\n",
              "50%         4.000000\n",
              "75%         5.000000\n",
              "max         5.000000"
            ]
          },
          "metadata": {
            "tags": []
          },
          "execution_count": 68
        }
      ]
    },
    {
      "cell_type": "code",
      "metadata": {
        "id": "ODJGjSMxHAkA",
        "colab_type": "code",
        "outputId": "141b0f93-9424-413c-df60-d2dcd63f54d5",
        "colab": {
          "base_uri": "https://localhost:8080/",
          "height": 34
        }
      },
      "source": [
        "np.mean(revT.user_id.value_counts()>9)"
      ],
      "execution_count": 70,
      "outputs": [
        {
          "output_type": "execute_result",
          "data": {
            "text/plain": [
              "0.08562522530163913"
            ]
          },
          "metadata": {
            "tags": []
          },
          "execution_count": 70
        }
      ]
    },
    {
      "cell_type": "code",
      "metadata": {
        "id": "AewCPYZoEMD3",
        "colab_type": "code",
        "outputId": "411994f7-b991-4203-87bd-40c4892bc689",
        "colab": {
          "base_uri": "https://localhost:8080/",
          "height": 296
        }
      },
      "source": [
        "revT[revT.groupby('user_id').user_id.transform(\"size\") > 9].describe()"
      ],
      "execution_count": 71,
      "outputs": [
        {
          "output_type": "execute_result",
          "data": {
            "text/html": [
              "<div>\n",
              "<style scoped>\n",
              "    .dataframe tbody tr th:only-of-type {\n",
              "        vertical-align: middle;\n",
              "    }\n",
              "\n",
              "    .dataframe tbody tr th {\n",
              "        vertical-align: top;\n",
              "    }\n",
              "\n",
              "    .dataframe thead th {\n",
              "        text-align: right;\n",
              "    }\n",
              "</style>\n",
              "<table border=\"1\" class=\"dataframe\">\n",
              "  <thead>\n",
              "    <tr style=\"text-align: right;\">\n",
              "      <th></th>\n",
              "      <th>stars</th>\n",
              "      <th>useful</th>\n",
              "      <th>funny</th>\n",
              "      <th>cool</th>\n",
              "    </tr>\n",
              "  </thead>\n",
              "  <tbody>\n",
              "    <tr>\n",
              "      <th>count</th>\n",
              "      <td>252356.000000</td>\n",
              "      <td>252356.000000</td>\n",
              "      <td>252356.000000</td>\n",
              "      <td>252356.000000</td>\n",
              "    </tr>\n",
              "    <tr>\n",
              "      <th>mean</th>\n",
              "      <td>3.617413</td>\n",
              "      <td>1.426853</td>\n",
              "      <td>0.517757</td>\n",
              "      <td>0.724936</td>\n",
              "    </tr>\n",
              "    <tr>\n",
              "      <th>std</th>\n",
              "      <td>1.127627</td>\n",
              "      <td>3.124527</td>\n",
              "      <td>1.949561</td>\n",
              "      <td>2.445733</td>\n",
              "    </tr>\n",
              "    <tr>\n",
              "      <th>min</th>\n",
              "      <td>1.000000</td>\n",
              "      <td>0.000000</td>\n",
              "      <td>0.000000</td>\n",
              "      <td>0.000000</td>\n",
              "    </tr>\n",
              "    <tr>\n",
              "      <th>25%</th>\n",
              "      <td>3.000000</td>\n",
              "      <td>0.000000</td>\n",
              "      <td>0.000000</td>\n",
              "      <td>0.000000</td>\n",
              "    </tr>\n",
              "    <tr>\n",
              "      <th>50%</th>\n",
              "      <td>4.000000</td>\n",
              "      <td>1.000000</td>\n",
              "      <td>0.000000</td>\n",
              "      <td>0.000000</td>\n",
              "    </tr>\n",
              "    <tr>\n",
              "      <th>75%</th>\n",
              "      <td>4.000000</td>\n",
              "      <td>2.000000</td>\n",
              "      <td>0.000000</td>\n",
              "      <td>1.000000</td>\n",
              "    </tr>\n",
              "    <tr>\n",
              "      <th>max</th>\n",
              "      <td>5.000000</td>\n",
              "      <td>110.000000</td>\n",
              "      <td>264.000000</td>\n",
              "      <td>110.000000</td>\n",
              "    </tr>\n",
              "  </tbody>\n",
              "</table>\n",
              "</div>"
            ],
            "text/plain": [
              "               stars         useful          funny           cool\n",
              "count  252356.000000  252356.000000  252356.000000  252356.000000\n",
              "mean        3.617413       1.426853       0.517757       0.724936\n",
              "std         1.127627       3.124527       1.949561       2.445733\n",
              "min         1.000000       0.000000       0.000000       0.000000\n",
              "25%         3.000000       0.000000       0.000000       0.000000\n",
              "50%         4.000000       1.000000       0.000000       0.000000\n",
              "75%         4.000000       2.000000       0.000000       1.000000\n",
              "max         5.000000     110.000000     264.000000     110.000000"
            ]
          },
          "metadata": {
            "tags": []
          },
          "execution_count": 71
        }
      ]
    },
    {
      "cell_type": "markdown",
      "metadata": {
        "id": "EbZizbolHJyM",
        "colab_type": "text"
      },
      "source": [
        "We will keep only those users who have at least rated 5 restaurants"
      ]
    },
    {
      "cell_type": "code",
      "metadata": {
        "id": "OjxpLUc2HJLb",
        "colab_type": "code",
        "colab": {}
      },
      "source": [
        "revT = revT[revT.groupby('user_id').user_id.transform(\"size\") > 9]"
      ],
      "execution_count": 0,
      "outputs": []
    },
    {
      "cell_type": "code",
      "metadata": {
        "id": "kI3cPMQtKprN",
        "colab_type": "code",
        "outputId": "f0a5bf1c-9e00-4dcc-e917-da4c36bf1cba",
        "colab": {
          "base_uri": "https://localhost:8080/",
          "height": 34
        }
      },
      "source": [
        "revT.stars.isna().sum()"
      ],
      "execution_count": 73,
      "outputs": [
        {
          "output_type": "execute_result",
          "data": {
            "text/plain": [
              "0"
            ]
          },
          "metadata": {
            "tags": []
          },
          "execution_count": 73
        }
      ]
    },
    {
      "cell_type": "code",
      "metadata": {
        "id": "vmTQQnyFK8kT",
        "colab_type": "code",
        "colab": {}
      },
      "source": [
        "revT.reset_index(inplace=True)"
      ],
      "execution_count": 0,
      "outputs": []
    },
    {
      "cell_type": "markdown",
      "metadata": {
        "id": "l7PgCOflAnD3",
        "colab_type": "text"
      },
      "source": [
        "Collaborative Filtering"
      ]
    },
    {
      "cell_type": "code",
      "metadata": {
        "id": "YzBNZ7VVC9Cw",
        "colab_type": "code",
        "outputId": "1c338582-81f5-45f2-dfd3-58c5f6b4a4f6",
        "colab": {
          "base_uri": "https://localhost:8080/",
          "height": 316
        }
      },
      "source": [
        "!pip install surprise"
      ],
      "execution_count": 62,
      "outputs": [
        {
          "output_type": "stream",
          "text": [
            "Collecting surprise\n",
            "  Downloading https://files.pythonhosted.org/packages/61/de/e5cba8682201fcf9c3719a6fdda95693468ed061945493dea2dd37c5618b/surprise-0.1-py2.py3-none-any.whl\n",
            "Collecting scikit-surprise\n",
            "\u001b[?25l  Downloading https://files.pythonhosted.org/packages/f5/da/b5700d96495fb4f092be497f02492768a3d96a3f4fa2ae7dea46d4081cfa/scikit-surprise-1.1.0.tar.gz (6.4MB)\n",
            "\u001b[K     |████████████████████████████████| 6.5MB 4.9MB/s \n",
            "\u001b[?25hRequirement already satisfied: joblib>=0.11 in /usr/local/lib/python3.6/dist-packages (from scikit-surprise->surprise) (0.14.0)\n",
            "Requirement already satisfied: numpy>=1.11.2 in /usr/local/lib/python3.6/dist-packages (from scikit-surprise->surprise) (1.17.4)\n",
            "Requirement already satisfied: scipy>=1.0.0 in /usr/local/lib/python3.6/dist-packages (from scikit-surprise->surprise) (1.3.3)\n",
            "Requirement already satisfied: six>=1.10.0 in /usr/local/lib/python3.6/dist-packages (from scikit-surprise->surprise) (1.12.0)\n",
            "Building wheels for collected packages: scikit-surprise\n",
            "  Building wheel for scikit-surprise (setup.py) ... \u001b[?25l\u001b[?25hdone\n",
            "  Created wheel for scikit-surprise: filename=scikit_surprise-1.1.0-cp36-cp36m-linux_x86_64.whl size=1678231 sha256=7219e13b9c357e09be118fb5d7c08c97bc722f5609dbb6e098a1133ee55f1c44\n",
            "  Stored in directory: /root/.cache/pip/wheels/cc/fa/8c/16c93fccce688ae1bde7d979ff102f7bee980d9cfeb8641bcf\n",
            "Successfully built scikit-surprise\n",
            "Installing collected packages: scikit-surprise, surprise\n",
            "Successfully installed scikit-surprise-1.1.0 surprise-0.1\n"
          ],
          "name": "stdout"
        }
      ]
    },
    {
      "cell_type": "code",
      "metadata": {
        "id": "sP_xttwPC-tq",
        "colab_type": "code",
        "colab": {}
      },
      "source": [
        "import numpy as np\n",
        "from surprise import Dataset, Reader\n",
        "from surprise import SVD\n",
        "from surprise import accuracy\n",
        "from surprise.model_selection import cross_validate, train_test_split\n",
        "from surprise.prediction_algorithms import Prediction\n",
        "import random\n",
        "from surprise.model_selection import GridSearchCV"
      ],
      "execution_count": 0,
      "outputs": []
    },
    {
      "cell_type": "code",
      "metadata": {
        "id": "r5_I1r7F_Qhb",
        "colab_type": "code",
        "colab": {}
      },
      "source": [
        "# Instantiate a 'Reader' to read in the data so Surprise can use it\n",
        "reader = Reader(rating_scale=(1, 5))\n",
        "\n",
        "# The columns must correspond to user id, item id and ratings (in that order).\n",
        "data = Dataset.load_from_df(revT[['user_id', 'business_id', 'stars']], reader)"
      ],
      "execution_count": 0,
      "outputs": []
    },
    {
      "cell_type": "markdown",
      "metadata": {
        "id": "MGA2DL9P3R-Q",
        "colab_type": "text"
      },
      "source": [
        "Default Testing"
      ]
    },
    {
      "cell_type": "code",
      "metadata": {
        "id": "6oN-74Di3Qk3",
        "colab_type": "code",
        "colab": {
          "base_uri": "https://localhost:8080/",
          "height": 348
        },
        "outputId": "0dd1148a-0243-4284-a35b-1765e8eeb604"
      },
      "source": [
        "# We'll use the famous SVD algorithm.\n",
        "algo = SVD()\n",
        "\n",
        "# Run 5-fold cross-validation and print results\n",
        "cross_validate(algo, data, measures=['RMSE', 'MAE'], cv=5, verbose=True)"
      ],
      "execution_count": 66,
      "outputs": [
        {
          "output_type": "stream",
          "text": [
            "Evaluating RMSE, MAE of algorithm SVD on 5 split(s).\n",
            "\n",
            "                  Fold 1  Fold 2  Fold 3  Fold 4  Fold 5  Mean    Std     \n",
            "RMSE (testset)    1.0538  1.0522  1.0458  1.0533  1.0531  1.0517  0.0030  \n",
            "MAE (testset)     0.8325  0.8329  0.8273  0.8313  0.8326  0.8313  0.0021  \n",
            "Fit time          16.16   16.46   16.52   16.45   16.40   16.40   0.13    \n",
            "Test time         1.00    0.81    0.74    0.71    0.72    0.80    0.11    \n"
          ],
          "name": "stdout"
        },
        {
          "output_type": "execute_result",
          "data": {
            "text/plain": [
              "{'fit_time': (16.155102729797363,\n",
              "  16.460575819015503,\n",
              "  16.521575927734375,\n",
              "  16.453197240829468,\n",
              "  16.39826202392578),\n",
              " 'test_mae': array([0.83246933, 0.83293837, 0.82731691, 0.83128771, 0.83262621]),\n",
              " 'test_rmse': array([1.05382574, 1.05224602, 1.04581173, 1.05333015, 1.0531346 ]),\n",
              " 'test_time': (0.9984898567199707,\n",
              "  0.8131744861602783,\n",
              "  0.741588830947876,\n",
              "  0.710076093673706,\n",
              "  0.7158918380737305)}"
            ]
          },
          "metadata": {
            "tags": []
          },
          "execution_count": 66
        }
      ]
    },
    {
      "cell_type": "markdown",
      "metadata": {
        "id": "aqc2oxoY3Rnl",
        "colab_type": "text"
      },
      "source": [
        ""
      ]
    },
    {
      "cell_type": "code",
      "metadata": {
        "id": "5XH4RSp7N2-s",
        "colab_type": "code",
        "colab": {}
      },
      "source": [
        "param_grid = {'n_epochs': [20,40], 'n_factors':[1,5], 'biased': [True, False], 'lr_all': [0.001, 0.005, 0.02], 'reg_all':[0.04,0.06,0.08], 'verbose': ['True']}"
      ],
      "execution_count": 0,
      "outputs": []
    },
    {
      "cell_type": "code",
      "metadata": {
        "id": "ABtyVj9sN4Aq",
        "colab_type": "code",
        "colab": {}
      },
      "source": [
        "gs = GridSearchCV(SVD, param_grid, measures=['rmse', 'mae'], cv=5)"
      ],
      "execution_count": 0,
      "outputs": []
    },
    {
      "cell_type": "code",
      "metadata": {
        "id": "DPva-FxjN6Kx",
        "colab_type": "code",
        "colab": {}
      },
      "source": [
        "gs.fit(data)"
      ],
      "execution_count": 0,
      "outputs": []
    },
    {
      "cell_type": "code",
      "metadata": {
        "id": "kLGR-4BCOSXq",
        "colab_type": "code",
        "colab": {}
      },
      "source": [
        "results = gs.cv_results"
      ],
      "execution_count": 0,
      "outputs": []
    },
    {
      "cell_type": "code",
      "metadata": {
        "id": "wucdpzkVWgRk",
        "colab_type": "code",
        "colab": {}
      },
      "source": [
        "results_df = pd.DataFrame.from_dict(gs.cv_results)\n",
        "results_df.to_csv('svd_results.csv')"
      ],
      "execution_count": 0,
      "outputs": []
    },
    {
      "cell_type": "code",
      "metadata": {
        "id": "KgaYbGaJFbH7",
        "colab_type": "code",
        "colab": {}
      },
      "source": [
        "results_df = pd.read_csv(\"svd_results.csv\")\n",
        "results_df.drop(columns=\"Unnamed: 0\",inplace = True)"
      ],
      "execution_count": 0,
      "outputs": []
    },
    {
      "cell_type": "code",
      "metadata": {
        "id": "qlKBvWhjWgwe",
        "colab_type": "code",
        "outputId": "581e1abc-66dc-47df-eebc-73f13ec08275",
        "colab": {
          "base_uri": "https://localhost:8080/",
          "height": 565
        }
      },
      "source": [
        "results_df.sort_values(by='mean_test_rmse').head()"
      ],
      "execution_count": 0,
      "outputs": [
        {
          "output_type": "execute_result",
          "data": {
            "text/html": [
              "<div>\n",
              "<style scoped>\n",
              "    .dataframe tbody tr th:only-of-type {\n",
              "        vertical-align: middle;\n",
              "    }\n",
              "\n",
              "    .dataframe tbody tr th {\n",
              "        vertical-align: top;\n",
              "    }\n",
              "\n",
              "    .dataframe thead th {\n",
              "        text-align: right;\n",
              "    }\n",
              "</style>\n",
              "<table border=\"1\" class=\"dataframe\">\n",
              "  <thead>\n",
              "    <tr style=\"text-align: right;\">\n",
              "      <th></th>\n",
              "      <th>split0_test_rmse</th>\n",
              "      <th>split1_test_rmse</th>\n",
              "      <th>split2_test_rmse</th>\n",
              "      <th>split3_test_rmse</th>\n",
              "      <th>split4_test_rmse</th>\n",
              "      <th>mean_test_rmse</th>\n",
              "      <th>std_test_rmse</th>\n",
              "      <th>rank_test_rmse</th>\n",
              "      <th>split0_test_mae</th>\n",
              "      <th>split1_test_mae</th>\n",
              "      <th>split2_test_mae</th>\n",
              "      <th>split3_test_mae</th>\n",
              "      <th>split4_test_mae</th>\n",
              "      <th>mean_test_mae</th>\n",
              "      <th>std_test_mae</th>\n",
              "      <th>rank_test_mae</th>\n",
              "      <th>mean_fit_time</th>\n",
              "      <th>std_fit_time</th>\n",
              "      <th>mean_test_time</th>\n",
              "      <th>std_test_time</th>\n",
              "      <th>params</th>\n",
              "      <th>param_n_epochs</th>\n",
              "      <th>param_n_factors</th>\n",
              "      <th>param_biased</th>\n",
              "      <th>param_lr_all</th>\n",
              "      <th>param_reg_all</th>\n",
              "      <th>param_verbose</th>\n",
              "    </tr>\n",
              "  </thead>\n",
              "  <tbody>\n",
              "    <tr>\n",
              "      <th>40</th>\n",
              "      <td>1.042047</td>\n",
              "      <td>1.047469</td>\n",
              "      <td>1.044347</td>\n",
              "      <td>1.043511</td>\n",
              "      <td>1.049573</td>\n",
              "      <td>1.045390</td>\n",
              "      <td>0.002743</td>\n",
              "      <td>1</td>\n",
              "      <td>0.827089</td>\n",
              "      <td>0.828327</td>\n",
              "      <td>0.827738</td>\n",
              "      <td>0.826946</td>\n",
              "      <td>0.829778</td>\n",
              "      <td>0.827976</td>\n",
              "      <td>0.001027</td>\n",
              "      <td>16</td>\n",
              "      <td>3.739250</td>\n",
              "      <td>0.030988</td>\n",
              "      <td>0.710711</td>\n",
              "      <td>0.220176</td>\n",
              "      <td>{'n_epochs': 20, 'n_factors': 1, 'biased': Tru...</td>\n",
              "      <td>20</td>\n",
              "      <td>1</td>\n",
              "      <td>True</td>\n",
              "      <td>0.005</td>\n",
              "      <td>0.06</td>\n",
              "      <td>True</td>\n",
              "    </tr>\n",
              "    <tr>\n",
              "      <th>41</th>\n",
              "      <td>1.042182</td>\n",
              "      <td>1.047496</td>\n",
              "      <td>1.044356</td>\n",
              "      <td>1.043574</td>\n",
              "      <td>1.049557</td>\n",
              "      <td>1.045433</td>\n",
              "      <td>0.002700</td>\n",
              "      <td>2</td>\n",
              "      <td>0.827591</td>\n",
              "      <td>0.828834</td>\n",
              "      <td>0.828195</td>\n",
              "      <td>0.827503</td>\n",
              "      <td>0.830196</td>\n",
              "      <td>0.828464</td>\n",
              "      <td>0.000990</td>\n",
              "      <td>18</td>\n",
              "      <td>3.759680</td>\n",
              "      <td>0.023424</td>\n",
              "      <td>0.623057</td>\n",
              "      <td>0.214382</td>\n",
              "      <td>{'n_epochs': 20, 'n_factors': 1, 'biased': Tru...</td>\n",
              "      <td>20</td>\n",
              "      <td>1</td>\n",
              "      <td>True</td>\n",
              "      <td>0.005</td>\n",
              "      <td>0.08</td>\n",
              "      <td>True</td>\n",
              "    </tr>\n",
              "    <tr>\n",
              "      <th>39</th>\n",
              "      <td>1.042030</td>\n",
              "      <td>1.047583</td>\n",
              "      <td>1.044561</td>\n",
              "      <td>1.043534</td>\n",
              "      <td>1.049505</td>\n",
              "      <td>1.045443</td>\n",
              "      <td>0.002726</td>\n",
              "      <td>3</td>\n",
              "      <td>0.826570</td>\n",
              "      <td>0.828027</td>\n",
              "      <td>0.827491</td>\n",
              "      <td>0.826631</td>\n",
              "      <td>0.829244</td>\n",
              "      <td>0.827593</td>\n",
              "      <td>0.000990</td>\n",
              "      <td>13</td>\n",
              "      <td>3.730622</td>\n",
              "      <td>0.065377</td>\n",
              "      <td>0.717585</td>\n",
              "      <td>0.201052</td>\n",
              "      <td>{'n_epochs': 20, 'n_factors': 1, 'biased': Tru...</td>\n",
              "      <td>20</td>\n",
              "      <td>1</td>\n",
              "      <td>True</td>\n",
              "      <td>0.005</td>\n",
              "      <td>0.04</td>\n",
              "      <td>True</td>\n",
              "    </tr>\n",
              "    <tr>\n",
              "      <th>59</th>\n",
              "      <td>1.042219</td>\n",
              "      <td>1.047585</td>\n",
              "      <td>1.044464</td>\n",
              "      <td>1.043560</td>\n",
              "      <td>1.049655</td>\n",
              "      <td>1.045497</td>\n",
              "      <td>0.002728</td>\n",
              "      <td>4</td>\n",
              "      <td>0.827728</td>\n",
              "      <td>0.828876</td>\n",
              "      <td>0.828331</td>\n",
              "      <td>0.827465</td>\n",
              "      <td>0.830250</td>\n",
              "      <td>0.828530</td>\n",
              "      <td>0.000989</td>\n",
              "      <td>19</td>\n",
              "      <td>4.252214</td>\n",
              "      <td>0.039473</td>\n",
              "      <td>0.729140</td>\n",
              "      <td>0.213995</td>\n",
              "      <td>{'n_epochs': 20, 'n_factors': 5, 'biased': Tru...</td>\n",
              "      <td>20</td>\n",
              "      <td>5</td>\n",
              "      <td>True</td>\n",
              "      <td>0.005</td>\n",
              "      <td>0.08</td>\n",
              "      <td>True</td>\n",
              "    </tr>\n",
              "    <tr>\n",
              "      <th>77</th>\n",
              "      <td>1.042483</td>\n",
              "      <td>1.047410</td>\n",
              "      <td>1.044549</td>\n",
              "      <td>1.043159</td>\n",
              "      <td>1.049977</td>\n",
              "      <td>1.045516</td>\n",
              "      <td>0.002799</td>\n",
              "      <td>5</td>\n",
              "      <td>0.823128</td>\n",
              "      <td>0.824053</td>\n",
              "      <td>0.824084</td>\n",
              "      <td>0.823143</td>\n",
              "      <td>0.825967</td>\n",
              "      <td>0.824075</td>\n",
              "      <td>0.001034</td>\n",
              "      <td>3</td>\n",
              "      <td>7.617779</td>\n",
              "      <td>0.109287</td>\n",
              "      <td>0.625218</td>\n",
              "      <td>0.224901</td>\n",
              "      <td>{'n_epochs': 40, 'n_factors': 1, 'biased': Tru...</td>\n",
              "      <td>40</td>\n",
              "      <td>1</td>\n",
              "      <td>True</td>\n",
              "      <td>0.005</td>\n",
              "      <td>0.08</td>\n",
              "      <td>True</td>\n",
              "    </tr>\n",
              "  </tbody>\n",
              "</table>\n",
              "</div>"
            ],
            "text/plain": [
              "    split0_test_rmse  split1_test_rmse  ...  param_reg_all  param_verbose\n",
              "40          1.042047          1.047469  ...           0.06           True\n",
              "41          1.042182          1.047496  ...           0.08           True\n",
              "39          1.042030          1.047583  ...           0.04           True\n",
              "59          1.042219          1.047585  ...           0.08           True\n",
              "77          1.042483          1.047410  ...           0.08           True\n",
              "\n",
              "[5 rows x 27 columns]"
            ]
          },
          "metadata": {
            "tags": []
          },
          "execution_count": 88
        }
      ]
    },
    {
      "cell_type": "markdown",
      "metadata": {
        "id": "XjIeCa76kWrU",
        "colab_type": "text"
      },
      "source": [
        "Now we know the best parameters, we can make test train dataset and check the predicted values"
      ]
    },
    {
      "cell_type": "code",
      "metadata": {
        "id": "CbQg98X2cFal",
        "colab_type": "code",
        "colab": {}
      },
      "source": [
        "trainset, testset = train_test_split(data, test_size=.25)"
      ],
      "execution_count": 0,
      "outputs": []
    },
    {
      "cell_type": "code",
      "metadata": {
        "id": "H0JaZfljk46X",
        "colab_type": "code",
        "outputId": "02a4ff81-fc35-49d7-971f-d7eedc13d4a1",
        "colab": {
          "base_uri": "https://localhost:8080/",
          "height": 122
        }
      },
      "source": [
        "gs.best_params[\"rmse\"]"
      ],
      "execution_count": 0,
      "outputs": [
        {
          "output_type": "execute_result",
          "data": {
            "text/plain": [
              "{'biased': True,\n",
              " 'lr_all': 0.005,\n",
              " 'n_epochs': 20,\n",
              " 'n_factors': 1,\n",
              " 'reg_all': 0.06,\n",
              " 'verbose': 'True'}"
            ]
          },
          "metadata": {
            "tags": []
          },
          "execution_count": 230
        }
      ]
    },
    {
      "cell_type": "code",
      "metadata": {
        "id": "iQYsY1M5aPNa",
        "colab_type": "code",
        "colab": {}
      },
      "source": [
        "algo = SVD(biased=True, lr_all=0.005, n_epochs=20,n_factors=1,reg_all=0.06,verbose=True)"
      ],
      "execution_count": 0,
      "outputs": []
    },
    {
      "cell_type": "code",
      "metadata": {
        "id": "5w0or4TJcuYN",
        "colab_type": "code",
        "outputId": "f70706cb-a1eb-406b-e831-2fa19e07f5d0",
        "colab": {
          "base_uri": "https://localhost:8080/",
          "height": 383
        }
      },
      "source": [
        "algo.fit(trainset)"
      ],
      "execution_count": 0,
      "outputs": [
        {
          "output_type": "stream",
          "text": [
            "Processing epoch 0\n",
            "Processing epoch 1\n",
            "Processing epoch 2\n",
            "Processing epoch 3\n",
            "Processing epoch 4\n",
            "Processing epoch 5\n",
            "Processing epoch 6\n",
            "Processing epoch 7\n",
            "Processing epoch 8\n",
            "Processing epoch 9\n",
            "Processing epoch 10\n",
            "Processing epoch 11\n",
            "Processing epoch 12\n",
            "Processing epoch 13\n",
            "Processing epoch 14\n",
            "Processing epoch 15\n",
            "Processing epoch 16\n",
            "Processing epoch 17\n",
            "Processing epoch 18\n",
            "Processing epoch 19\n"
          ],
          "name": "stdout"
        },
        {
          "output_type": "execute_result",
          "data": {
            "text/plain": [
              "<surprise.prediction_algorithms.matrix_factorization.SVD at 0x7fb9540df9e8>"
            ]
          },
          "metadata": {
            "tags": []
          },
          "execution_count": 234
        }
      ]
    },
    {
      "cell_type": "code",
      "metadata": {
        "id": "V8HIHEuqlhPk",
        "colab_type": "code",
        "colab": {}
      },
      "source": [
        "predictions = algo.test(testset)"
      ],
      "execution_count": 0,
      "outputs": []
    },
    {
      "cell_type": "code",
      "metadata": {
        "id": "Ce2GRTaElk5z",
        "colab_type": "code",
        "outputId": "ceb6f393-5d4f-4456-aa40-9ed50d327bfd",
        "colab": {
          "base_uri": "https://localhost:8080/",
          "height": 52
        }
      },
      "source": [
        "accuracy.rmse(predictions)"
      ],
      "execution_count": 0,
      "outputs": [
        {
          "output_type": "stream",
          "text": [
            "RMSE: 1.0513\n"
          ],
          "name": "stdout"
        },
        {
          "output_type": "execute_result",
          "data": {
            "text/plain": [
              "1.051342378052109"
            ]
          },
          "metadata": {
            "tags": []
          },
          "execution_count": 236
        }
      ]
    },
    {
      "cell_type": "code",
      "metadata": {
        "id": "L8qGLrbFloeN",
        "colab_type": "code",
        "colab": {}
      },
      "source": [
        "predictions = pd.DataFrame(predictions)"
      ],
      "execution_count": 0,
      "outputs": []
    },
    {
      "cell_type": "code",
      "metadata": {
        "id": "qP-eken_mAkd",
        "colab_type": "code",
        "outputId": "705db279-ca3c-419c-a5af-1d76b3b94794",
        "colab": {
          "base_uri": "https://localhost:8080/",
          "height": 172
        }
      },
      "source": [
        "predictions[predictions.uid==\"k0QpEqseu2y87KIHyGVlzw\"]"
      ],
      "execution_count": 0,
      "outputs": [
        {
          "output_type": "execute_result",
          "data": {
            "text/html": [
              "<div>\n",
              "<style scoped>\n",
              "    .dataframe tbody tr th:only-of-type {\n",
              "        vertical-align: middle;\n",
              "    }\n",
              "\n",
              "    .dataframe tbody tr th {\n",
              "        vertical-align: top;\n",
              "    }\n",
              "\n",
              "    .dataframe thead th {\n",
              "        text-align: right;\n",
              "    }\n",
              "</style>\n",
              "<table border=\"1\" class=\"dataframe\">\n",
              "  <thead>\n",
              "    <tr style=\"text-align: right;\">\n",
              "      <th></th>\n",
              "      <th>uid</th>\n",
              "      <th>iid</th>\n",
              "      <th>r_ui</th>\n",
              "      <th>est</th>\n",
              "      <th>details</th>\n",
              "    </tr>\n",
              "  </thead>\n",
              "  <tbody>\n",
              "    <tr>\n",
              "      <th>0</th>\n",
              "      <td>k0QpEqseu2y87KIHyGVlzw</td>\n",
              "      <td>wcR9Vbwn2EmlSeV7uBUIsA</td>\n",
              "      <td>3.0</td>\n",
              "      <td>3.201840</td>\n",
              "      <td>{'was_impossible': False}</td>\n",
              "    </tr>\n",
              "    <tr>\n",
              "      <th>5035</th>\n",
              "      <td>k0QpEqseu2y87KIHyGVlzw</td>\n",
              "      <td>u2ETlHOcFdRz4BxcdfsK0Q</td>\n",
              "      <td>4.0</td>\n",
              "      <td>3.207609</td>\n",
              "      <td>{'was_impossible': False}</td>\n",
              "    </tr>\n",
              "    <tr>\n",
              "      <th>12939</th>\n",
              "      <td>k0QpEqseu2y87KIHyGVlzw</td>\n",
              "      <td>yEgnxd3aUUgUoG7qJiuDlQ</td>\n",
              "      <td>4.0</td>\n",
              "      <td>3.618555</td>\n",
              "      <td>{'was_impossible': False}</td>\n",
              "    </tr>\n",
              "    <tr>\n",
              "      <th>40691</th>\n",
              "      <td>k0QpEqseu2y87KIHyGVlzw</td>\n",
              "      <td>iKMLsX1Je7P3wAOEc9scDg</td>\n",
              "      <td>5.0</td>\n",
              "      <td>3.536869</td>\n",
              "      <td>{'was_impossible': False}</td>\n",
              "    </tr>\n",
              "  </tbody>\n",
              "</table>\n",
              "</div>"
            ],
            "text/plain": [
              "                          uid  ...                    details\n",
              "0      k0QpEqseu2y87KIHyGVlzw  ...  {'was_impossible': False}\n",
              "5035   k0QpEqseu2y87KIHyGVlzw  ...  {'was_impossible': False}\n",
              "12939  k0QpEqseu2y87KIHyGVlzw  ...  {'was_impossible': False}\n",
              "40691  k0QpEqseu2y87KIHyGVlzw  ...  {'was_impossible': False}\n",
              "\n",
              "[4 rows x 5 columns]"
            ]
          },
          "metadata": {
            "tags": []
          },
          "execution_count": 243
        }
      ]
    },
    {
      "cell_type": "markdown",
      "metadata": {
        "id": "mGiTk8GomsFA",
        "colab_type": "text"
      },
      "source": [
        "Let's see what happens if we use the average rating for all"
      ]
    },
    {
      "cell_type": "code",
      "metadata": {
        "id": "cgYcgIsDmv3f",
        "colab_type": "code",
        "colab": {}
      },
      "source": [
        "revT_avg = revT[['user_id','business_id','stars']]"
      ],
      "execution_count": 0,
      "outputs": []
    },
    {
      "cell_type": "code",
      "metadata": {
        "id": "OkSRAheRnCKN",
        "colab_type": "code",
        "outputId": "269ae8ef-f558-485c-e0cc-8967af826b00",
        "colab": {
          "base_uri": "https://localhost:8080/",
          "height": 122
        }
      },
      "source": [
        "revT_avg[\"mean_star\"] = revT_avg.groupby('user_id')['stars'].transform('mean')"
      ],
      "execution_count": 0,
      "outputs": [
        {
          "output_type": "stream",
          "text": [
            "/usr/local/lib/python3.6/dist-packages/ipykernel_launcher.py:1: SettingWithCopyWarning: \n",
            "A value is trying to be set on a copy of a slice from a DataFrame.\n",
            "Try using .loc[row_indexer,col_indexer] = value instead\n",
            "\n",
            "See the caveats in the documentation: http://pandas.pydata.org/pandas-docs/stable/user_guide/indexing.html#returning-a-view-versus-a-copy\n",
            "  \"\"\"Entry point for launching an IPython kernel.\n"
          ],
          "name": "stderr"
        }
      ]
    },
    {
      "cell_type": "code",
      "metadata": {
        "id": "DJ4LgPq0naS9",
        "colab_type": "code",
        "outputId": "58bd8e65-9baa-4ed8-816d-0986ac6988ad",
        "colab": {
          "base_uri": "https://localhost:8080/",
          "height": 759
        }
      },
      "source": [
        "revT_avg[revT_avg.user_id==\"k0QpEqseu2y87KIHyGVlzw\"]"
      ],
      "execution_count": 0,
      "outputs": [
        {
          "output_type": "execute_result",
          "data": {
            "text/html": [
              "<div>\n",
              "<style scoped>\n",
              "    .dataframe tbody tr th:only-of-type {\n",
              "        vertical-align: middle;\n",
              "    }\n",
              "\n",
              "    .dataframe tbody tr th {\n",
              "        vertical-align: top;\n",
              "    }\n",
              "\n",
              "    .dataframe thead th {\n",
              "        text-align: right;\n",
              "    }\n",
              "</style>\n",
              "<table border=\"1\" class=\"dataframe\">\n",
              "  <thead>\n",
              "    <tr style=\"text-align: right;\">\n",
              "      <th></th>\n",
              "      <th>user_id</th>\n",
              "      <th>business_id</th>\n",
              "      <th>stars</th>\n",
              "      <th>mean_star</th>\n",
              "    </tr>\n",
              "  </thead>\n",
              "  <tbody>\n",
              "    <tr>\n",
              "      <th>2867</th>\n",
              "      <td>k0QpEqseu2y87KIHyGVlzw</td>\n",
              "      <td>6eRSdODyj9GS0w6zlhrWkg</td>\n",
              "      <td>4</td>\n",
              "      <td>3.695652</td>\n",
              "    </tr>\n",
              "    <tr>\n",
              "      <th>16002</th>\n",
              "      <td>k0QpEqseu2y87KIHyGVlzw</td>\n",
              "      <td>aKESUG6MntqZNvC0DiFcJg</td>\n",
              "      <td>1</td>\n",
              "      <td>3.695652</td>\n",
              "    </tr>\n",
              "    <tr>\n",
              "      <th>17657</th>\n",
              "      <td>k0QpEqseu2y87KIHyGVlzw</td>\n",
              "      <td>O-uIEuv7JLUHajkemx_sVw</td>\n",
              "      <td>5</td>\n",
              "      <td>3.695652</td>\n",
              "    </tr>\n",
              "    <tr>\n",
              "      <th>26053</th>\n",
              "      <td>k0QpEqseu2y87KIHyGVlzw</td>\n",
              "      <td>478TIlfHXfT3wvww54QsPg</td>\n",
              "      <td>4</td>\n",
              "      <td>3.695652</td>\n",
              "    </tr>\n",
              "    <tr>\n",
              "      <th>33374</th>\n",
              "      <td>k0QpEqseu2y87KIHyGVlzw</td>\n",
              "      <td>478TIlfHXfT3wvww54QsPg</td>\n",
              "      <td>5</td>\n",
              "      <td>3.695652</td>\n",
              "    </tr>\n",
              "    <tr>\n",
              "      <th>62437</th>\n",
              "      <td>k0QpEqseu2y87KIHyGVlzw</td>\n",
              "      <td>qjYhAxibnS2M5IybPd5Yfw</td>\n",
              "      <td>3</td>\n",
              "      <td>3.695652</td>\n",
              "    </tr>\n",
              "    <tr>\n",
              "      <th>69029</th>\n",
              "      <td>k0QpEqseu2y87KIHyGVlzw</td>\n",
              "      <td>YacxbXstfITuEDmlQIjyVg</td>\n",
              "      <td>2</td>\n",
              "      <td>3.695652</td>\n",
              "    </tr>\n",
              "    <tr>\n",
              "      <th>70955</th>\n",
              "      <td>k0QpEqseu2y87KIHyGVlzw</td>\n",
              "      <td>9tfw-OEfpF0qC2hSzRks6g</td>\n",
              "      <td>3</td>\n",
              "      <td>3.695652</td>\n",
              "    </tr>\n",
              "    <tr>\n",
              "      <th>74672</th>\n",
              "      <td>k0QpEqseu2y87KIHyGVlzw</td>\n",
              "      <td>RIkiTtRMZASo7DmKd1vd5g</td>\n",
              "      <td>5</td>\n",
              "      <td>3.695652</td>\n",
              "    </tr>\n",
              "    <tr>\n",
              "      <th>75759</th>\n",
              "      <td>k0QpEqseu2y87KIHyGVlzw</td>\n",
              "      <td>kKC7UTcHZM3zLfT97x3msg</td>\n",
              "      <td>2</td>\n",
              "      <td>3.695652</td>\n",
              "    </tr>\n",
              "    <tr>\n",
              "      <th>84264</th>\n",
              "      <td>k0QpEqseu2y87KIHyGVlzw</td>\n",
              "      <td>iKMLsX1Je7P3wAOEc9scDg</td>\n",
              "      <td>5</td>\n",
              "      <td>3.695652</td>\n",
              "    </tr>\n",
              "    <tr>\n",
              "      <th>93653</th>\n",
              "      <td>k0QpEqseu2y87KIHyGVlzw</td>\n",
              "      <td>oKZPgeCOxnVSxudYcn1OtQ</td>\n",
              "      <td>3</td>\n",
              "      <td>3.695652</td>\n",
              "    </tr>\n",
              "    <tr>\n",
              "      <th>98129</th>\n",
              "      <td>k0QpEqseu2y87KIHyGVlzw</td>\n",
              "      <td>uPa5hrWmHm0n1l4MSyVMGQ</td>\n",
              "      <td>5</td>\n",
              "      <td>3.695652</td>\n",
              "    </tr>\n",
              "    <tr>\n",
              "      <th>99039</th>\n",
              "      <td>k0QpEqseu2y87KIHyGVlzw</td>\n",
              "      <td>Q4RSmF0s-AkaegrLFCLEbg</td>\n",
              "      <td>4</td>\n",
              "      <td>3.695652</td>\n",
              "    </tr>\n",
              "    <tr>\n",
              "      <th>106510</th>\n",
              "      <td>k0QpEqseu2y87KIHyGVlzw</td>\n",
              "      <td>CkncJJ9tKgsGULXTTKmfdw</td>\n",
              "      <td>4</td>\n",
              "      <td>3.695652</td>\n",
              "    </tr>\n",
              "    <tr>\n",
              "      <th>119246</th>\n",
              "      <td>k0QpEqseu2y87KIHyGVlzw</td>\n",
              "      <td>8I5U8OQ06nSxX2y4PPOWzQ</td>\n",
              "      <td>5</td>\n",
              "      <td>3.695652</td>\n",
              "    </tr>\n",
              "    <tr>\n",
              "      <th>127672</th>\n",
              "      <td>k0QpEqseu2y87KIHyGVlzw</td>\n",
              "      <td>snw9iNNLpFYZeHotW00uVA</td>\n",
              "      <td>5</td>\n",
              "      <td>3.695652</td>\n",
              "    </tr>\n",
              "    <tr>\n",
              "      <th>150013</th>\n",
              "      <td>k0QpEqseu2y87KIHyGVlzw</td>\n",
              "      <td>3cXsW6HxqW1HS4fcNCP1HQ</td>\n",
              "      <td>1</td>\n",
              "      <td>3.695652</td>\n",
              "    </tr>\n",
              "    <tr>\n",
              "      <th>160670</th>\n",
              "      <td>k0QpEqseu2y87KIHyGVlzw</td>\n",
              "      <td>cTbFJzHQzFSX-z3JF4abKQ</td>\n",
              "      <td>3</td>\n",
              "      <td>3.695652</td>\n",
              "    </tr>\n",
              "    <tr>\n",
              "      <th>176543</th>\n",
              "      <td>k0QpEqseu2y87KIHyGVlzw</td>\n",
              "      <td>u2ETlHOcFdRz4BxcdfsK0Q</td>\n",
              "      <td>4</td>\n",
              "      <td>3.695652</td>\n",
              "    </tr>\n",
              "    <tr>\n",
              "      <th>197783</th>\n",
              "      <td>k0QpEqseu2y87KIHyGVlzw</td>\n",
              "      <td>yEgnxd3aUUgUoG7qJiuDlQ</td>\n",
              "      <td>4</td>\n",
              "      <td>3.695652</td>\n",
              "    </tr>\n",
              "    <tr>\n",
              "      <th>225397</th>\n",
              "      <td>k0QpEqseu2y87KIHyGVlzw</td>\n",
              "      <td>wcR9Vbwn2EmlSeV7uBUIsA</td>\n",
              "      <td>3</td>\n",
              "      <td>3.695652</td>\n",
              "    </tr>\n",
              "    <tr>\n",
              "      <th>244940</th>\n",
              "      <td>k0QpEqseu2y87KIHyGVlzw</td>\n",
              "      <td>9Boahjn3QxlZnP2Aw_V1Rg</td>\n",
              "      <td>5</td>\n",
              "      <td>3.695652</td>\n",
              "    </tr>\n",
              "  </tbody>\n",
              "</table>\n",
              "</div>"
            ],
            "text/plain": [
              "                       user_id             business_id  stars  mean_star\n",
              "2867    k0QpEqseu2y87KIHyGVlzw  6eRSdODyj9GS0w6zlhrWkg      4   3.695652\n",
              "16002   k0QpEqseu2y87KIHyGVlzw  aKESUG6MntqZNvC0DiFcJg      1   3.695652\n",
              "17657   k0QpEqseu2y87KIHyGVlzw  O-uIEuv7JLUHajkemx_sVw      5   3.695652\n",
              "26053   k0QpEqseu2y87KIHyGVlzw  478TIlfHXfT3wvww54QsPg      4   3.695652\n",
              "33374   k0QpEqseu2y87KIHyGVlzw  478TIlfHXfT3wvww54QsPg      5   3.695652\n",
              "62437   k0QpEqseu2y87KIHyGVlzw  qjYhAxibnS2M5IybPd5Yfw      3   3.695652\n",
              "69029   k0QpEqseu2y87KIHyGVlzw  YacxbXstfITuEDmlQIjyVg      2   3.695652\n",
              "70955   k0QpEqseu2y87KIHyGVlzw  9tfw-OEfpF0qC2hSzRks6g      3   3.695652\n",
              "74672   k0QpEqseu2y87KIHyGVlzw  RIkiTtRMZASo7DmKd1vd5g      5   3.695652\n",
              "75759   k0QpEqseu2y87KIHyGVlzw  kKC7UTcHZM3zLfT97x3msg      2   3.695652\n",
              "84264   k0QpEqseu2y87KIHyGVlzw  iKMLsX1Je7P3wAOEc9scDg      5   3.695652\n",
              "93653   k0QpEqseu2y87KIHyGVlzw  oKZPgeCOxnVSxudYcn1OtQ      3   3.695652\n",
              "98129   k0QpEqseu2y87KIHyGVlzw  uPa5hrWmHm0n1l4MSyVMGQ      5   3.695652\n",
              "99039   k0QpEqseu2y87KIHyGVlzw  Q4RSmF0s-AkaegrLFCLEbg      4   3.695652\n",
              "106510  k0QpEqseu2y87KIHyGVlzw  CkncJJ9tKgsGULXTTKmfdw      4   3.695652\n",
              "119246  k0QpEqseu2y87KIHyGVlzw  8I5U8OQ06nSxX2y4PPOWzQ      5   3.695652\n",
              "127672  k0QpEqseu2y87KIHyGVlzw  snw9iNNLpFYZeHotW00uVA      5   3.695652\n",
              "150013  k0QpEqseu2y87KIHyGVlzw  3cXsW6HxqW1HS4fcNCP1HQ      1   3.695652\n",
              "160670  k0QpEqseu2y87KIHyGVlzw  cTbFJzHQzFSX-z3JF4abKQ      3   3.695652\n",
              "176543  k0QpEqseu2y87KIHyGVlzw  u2ETlHOcFdRz4BxcdfsK0Q      4   3.695652\n",
              "197783  k0QpEqseu2y87KIHyGVlzw  yEgnxd3aUUgUoG7qJiuDlQ      4   3.695652\n",
              "225397  k0QpEqseu2y87KIHyGVlzw  wcR9Vbwn2EmlSeV7uBUIsA      3   3.695652\n",
              "244940  k0QpEqseu2y87KIHyGVlzw  9Boahjn3QxlZnP2Aw_V1Rg      5   3.695652"
            ]
          },
          "metadata": {
            "tags": []
          },
          "execution_count": 255
        }
      ]
    },
    {
      "cell_type": "markdown",
      "metadata": {
        "id": "aVekFGwdGJi9",
        "colab_type": "text"
      },
      "source": [
        "# Content Based Filtering"
      ]
    },
    {
      "cell_type": "code",
      "metadata": {
        "id": "IPCEj-n-GMLu",
        "colab_type": "code",
        "colab": {}
      },
      "source": [
        ""
      ],
      "execution_count": 0,
      "outputs": []
    }
  ]
}